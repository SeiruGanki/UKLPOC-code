{
 "cells": [
  {
   "cell_type": "code",
   "execution_count": 1,
   "id": "c8920b2f",
   "metadata": {},
   "outputs": [],
   "source": [
    "# 我们应该不能选择远端的的L2正则化"
   ]
  },
  {
   "cell_type": "code",
   "execution_count": 2,
   "id": "af211f66",
   "metadata": {},
   "outputs": [],
   "source": [
    "import torch\n",
    "import torch.nn as nn\n",
    "\n",
    "from torchvision import datasets, transforms\n",
    "from torch.utils.data import TensorDataset\n",
    "from tqdm import tqdm\n",
    "\n",
    "import numpy as np\n",
    "import pickle\n",
    "\n",
    "import seaborn as sns\n",
    "import matplotlib.pyplot as plt"
   ]
  },
  {
   "cell_type": "code",
   "execution_count": 3,
   "id": "8beaf896",
   "metadata": {},
   "outputs": [],
   "source": [
    "init_std = 0.1\n",
    "init_stdv = 0.5"
   ]
  },
  {
   "cell_type": "code",
   "execution_count": 4,
   "id": "2647ab81",
   "metadata": {},
   "outputs": [],
   "source": [
    "\n",
    "def smooth_truncation(x, R):\n",
    "    # return np.exp(-(x ** 2-R**2))/(np.exp(-(x ** 2-R**2)) + 1)\n",
    "    return (torch.exp(x/(0.5*R))/(torch.exp(x/(0.5*R)) + 1) - 0.5) * R * 2"
   ]
  },
  {
   "cell_type": "code",
   "execution_count": 5,
   "id": "edc5d553",
   "metadata": {},
   "outputs": [],
   "source": [
    "class Net(nn.Module):\n",
    "    def __init__(self, N=1000,cut_off = 20):\n",
    "        super(Net, self).__init__()\n",
    "        self.particle_num = N\n",
    "        self.fc1 = nn.Linear(28*28, N)\n",
    "        self.fc2 = nn.Linear(N, 2, bias=False)\n",
    "        self.activation = nn.Sigmoid()\n",
    "        nn.init.normal_(self.fc1.weight, mean=0, std=init_std)\n",
    "        nn.init.normal_(self.fc1.bias, mean=0, std=init_std)\n",
    "        nn.init.normal_(self.fc2.weight, mean=0, std=init_std)\n",
    "        self.cut_off = cut_off\n",
    "\n",
    "        \n",
    "    def forward(self, x):\n",
    "        x = x.view(-1, 28*28)\n",
    "        x = self.fc1(x)\n",
    "        \n",
    "        x = self.activation(x)\n",
    "        \n",
    "        if self.cut_off != None:\n",
    "            # self.fc2.weight.data = torch.clamp(self.fc2.weight.data, min=-self.cut_off, max=self.cut_off)\n",
    "            self.fc2.weight.data = smooth_truncation(self.fc2.weight.data, R = self.cut_off )\n",
    "        x = self.fc2(x)/self.particle_num \n",
    "        \n",
    "        return x\n",
    "\n",
    "class FullMomentumGradientDescentWithNoisyAndWeightDecay(torch.optim.Optimizer):\n",
    "    def __init__(self, params, N, lr=1e-3, lr_2=1e-1, momentum=True, gamma=0.1, weight_decay= 0.01, noise_scale=0):\n",
    "        defaults = dict(lr=lr, lr_2 = lr_2, gamma=gamma, weight_decay = weight_decay, noise_scale=noise_scale,momentum=momentum)\n",
    "        self.N =  N\n",
    "        super(FullMomentumGradientDescentWithNoisyAndWeightDecay, self).__init__(params, defaults)\n",
    "        \n",
    "    def step(self, closure=None):\n",
    "        loss = None\n",
    "        if closure is not None:\n",
    "            loss = closure()\n",
    "\n",
    "        for group in self.param_groups:\n",
    "            lr = group['lr']\n",
    "            lr_2 = group['lr_2']\n",
    "            \n",
    "            weight_decay = group['weight_decay']\n",
    "            noise_scale = group['noise_scale']\n",
    "                \n",
    "            for p_idx, p in enumerate(group['params']):\n",
    "                if p.grad is None:\n",
    "                    continue\n",
    "                    \n",
    "                grad = p.grad.data * self.N\n",
    "                \n",
    "                param_state = self.state[p]\n",
    "                \n",
    "                if group['momentum'] == True:\n",
    "                    param_state = self.state[p]\n",
    "                    \n",
    "                    if 'momentum_buffer' not in param_state:\n",
    "                        buf = param_state['momentum_buffer'] = torch.randn_like(p.data) * init_stdv \n",
    "                        # buf = param_state['momentum_buffer'] = torch.clone(grad).detach() \n",
    "                    \n",
    "                    buf = param_state['momentum_buffer']\n",
    "                    \n",
    "                    if gamma != 0:\n",
    "                        buf.add_(-gamma * lr_2, buf.data)\n",
    "                        \n",
    "                    buf.add_(-grad * lr_2)\n",
    "                        \n",
    "                    if weight_decay != 0:\n",
    "                        buf.add_(-weight_decay * lr_2, p.data)\n",
    "                            \n",
    "                    if noise_scale != 0:\n",
    "                        noise = torch.randn_like(p.data) * noise_scale * (lr_2 ** 1/2)\n",
    "                        buf.data.add_(noise)          \n",
    "\n",
    "                    p.data.add_(lr, buf)\n",
    "                    # p.data.add_(buf)\n",
    "                else:\n",
    "                    if weight_decay != 0:\n",
    "                        grad.add_(weight_decay , p.data)\n",
    "                        \n",
    "                    p.data.add_(-lr, grad)\n",
    "                \n",
    "                    if noise_scale != 0:\n",
    "                        noise = torch.randn_like(p.data) * noise_scale * (lr ** 1/2)\n",
    "                        p.data.add_(noise)\n",
    "                \n",
    "        return loss"
   ]
  },
  {
   "cell_type": "code",
   "execution_count": 6,
   "id": "e507469b",
   "metadata": {},
   "outputs": [],
   "source": [
    "train_dataset = datasets.MNIST('../data', train=True, download=True)\n",
    "test_dataset =  datasets.MNIST('../data', train=False)\n",
    "\n",
    "\n",
    "# Filter the train dataset to extract images with labels 4 and 6\n",
    "train_label_4_idx = train_dataset.targets == 4\n",
    "train_label_6_idx = train_dataset.targets == 6\n",
    "train_selected_idx = train_label_4_idx | train_label_6_idx\n",
    "\n",
    "train_selected_images = train_dataset.data[train_selected_idx]\n",
    "train_selected_labels = train_dataset.targets[train_selected_idx]\n",
    "\n",
    "# Relabel the train images with labels 4 as 0 and labels 6 as 1\n",
    "train_selected_labels = torch.where(train_selected_labels == 4, torch.tensor(0), torch.tensor(1))\n",
    "\n",
    "# Create a TensorDataset for the train set\n",
    "train_dataset = TensorDataset(train_selected_images.float(), train_selected_labels)\n",
    "\n",
    "# Filter the test dataset to extract images with labels 4 and 6\n",
    "test_label_4_idx = test_dataset.targets ==4\n",
    "test_label_6_idx = test_dataset.targets == 6\n",
    "test_selected_idx = test_label_4_idx | test_label_6_idx\n",
    "\n",
    "test_selected_images = test_dataset.data[test_selected_idx]\n",
    "test_selected_labels = test_dataset.targets[test_selected_idx]\n",
    "\n",
    "# Relabel the test images with labels 4 as 0 and labels 6 as 1\n",
    "test_selected_labels = torch.where(test_selected_labels == 4, torch.tensor(0), torch.tensor(1))\n",
    "\n",
    "# Create a TensorDataset for the test set\n",
    "test_dataset = TensorDataset(test_selected_images.float(), test_selected_labels)\n",
    "\n",
    "transform=transforms.Compose([\n",
    "                       transforms.Normalize((0.1289,), (0.3053,))\n",
    "                   ])"
   ]
  },
  {
   "cell_type": "code",
   "execution_count": 7,
   "id": "6fd2ddbd",
   "metadata": {},
   "outputs": [],
   "source": [
    "train_loader = torch.utils.data.DataLoader(train_dataset,\n",
    "    batch_size=train_selected_images.shape[0], shuffle=False)\n",
    "\n",
    "test_loader = torch.utils.data.DataLoader(test_dataset,\n",
    "    batch_size=test_selected_images.shape[0], shuffle=False)\n",
    "\n",
    "device = torch.device(\"cuda\" if torch.cuda.is_available() else \"cpu\")\n",
    "\n",
    "for batch_idx, (data, target) in enumerate(train_loader):\n",
    "    data, target = data.to(device), target.to(device)\n",
    "\n",
    "for test_data, test_target in test_loader:\n",
    "    test_data, test_target = test_data.to(device), test_target.to(device)    "
   ]
  },
  {
   "cell_type": "code",
   "execution_count": 8,
   "id": "24a4f78f",
   "metadata": {},
   "outputs": [],
   "source": [
    "# weight_decay = 0.001\n",
    "\n",
    "weight_decay = 1e-4\n",
    "\n",
    "gamma = 0.1\n",
    "sigma = (2) ** (1/2) * (1e-4) ** (1/2) \n",
    "\n",
    "lr = 0.02\n",
    "lr_2 = 0.02\n",
    "\n",
    "\n",
    "particle_num = 256\n",
    "\n",
    "cut_off = 500\n",
    "\n",
    "momentum = True\n",
    "\n",
    "loss_type = 'MSE'"
   ]
  },
  {
   "cell_type": "code",
   "execution_count": 9,
   "id": "86aed7a0",
   "metadata": {},
   "outputs": [],
   "source": [
    "if loss_type == 'MSE':\n",
    "    target_onehot = torch.nn.functional.one_hot(target.long())"
   ]
  },
  {
   "cell_type": "code",
   "execution_count": 10,
   "id": "9a5381c8",
   "metadata": {
    "scrolled": true
   },
   "outputs": [
    {
     "name": "stderr",
     "output_type": "stream",
     "text": [
      "  0%|                                                                                           | 0/10 [00:00<?, ?it/s]C:\\Users\\alexn\\AppData\\Local\\Temp\\ipykernel_8384\\2775359686.py:63: UserWarning: This overload of add_ is deprecated:\n",
      "\tadd_(Number alpha, Tensor other)\n",
      "Consider using one of the following signatures instead:\n",
      "\tadd_(Tensor other, *, Number alpha) (Triggered internally at ..\\torch\\csrc\\utils\\python_arg_parser.cpp:1485.)\n",
      "  buf.add_(-gamma * lr_2, buf.data)\n"
     ]
    },
    {
     "name": "stdout",
     "output_type": "stream",
     "text": [
      "T: 0.020 Train Loss: 0.248814 L2-Train Loss: 10.057047 Test Accuracy: 0.00%\n",
      "grad_l2_norm =  tensor(0.0004, device='cuda:0')\n",
      "T: 20.000 Train Loss: 0.025160 L2-Train Loss: 0.192231 Test Accuracy: 0.00%\n",
      "grad_l2_norm =  tensor(1.3938e-05, device='cuda:0')\n",
      "T: 40.000 Train Loss: 0.018279 L2-Train Loss: 0.019495 Test Accuracy: 0.00%\n",
      "grad_l2_norm =  tensor(7.7173e-06, device='cuda:0')\n",
      "T: 60.000 Train Loss: 0.014475 L2-Train Loss: 0.015251 Test Accuracy: 0.00%\n",
      "grad_l2_norm =  tensor(2.3910e-06, device='cuda:0')\n",
      "T: 80.000 Train Loss: 0.012877 L2-Train Loss: 0.013939 Test Accuracy: 0.00%\n",
      "grad_l2_norm =  tensor(5.3111e-06, device='cuda:0')\n",
      "T: 100.000 Train Loss: 0.012076 L2-Train Loss: 0.013143 Test Accuracy: 0.00%\n",
      "grad_l2_norm =  tensor(1.9636e-06, device='cuda:0')\n",
      "T: 120.000 Train Loss: 0.011500 L2-Train Loss: 0.012540 Test Accuracy: 0.00%\n",
      "grad_l2_norm =  tensor(5.5942e-07, device='cuda:0')\n",
      "T: 140.000 Train Loss: 0.011057 L2-Train Loss: 0.012062 Test Accuracy: 0.00%\n",
      "grad_l2_norm =  tensor(5.3468e-07, device='cuda:0')\n",
      "T: 160.000 Train Loss: 0.010756 L2-Train Loss: 0.011725 Test Accuracy: 0.00%\n",
      "grad_l2_norm =  tensor(4.1514e-07, device='cuda:0')\n",
      "T: 180.000 Train Loss: 0.010481 L2-Train Loss: 0.011419 Test Accuracy: 0.00%\n",
      "grad_l2_norm =  tensor(2.5101e-07, device='cuda:0')\n",
      "T: 200.000 Train Loss: 0.010235 L2-Train Loss: 0.011146 Test Accuracy: 0.00%\n",
      "grad_l2_norm =  tensor(9.0183e-07, device='cuda:0')\n",
      "T: 220.000 Train Loss: 0.010057 L2-Train Loss: 0.010939 Test Accuracy: 0.00%\n",
      "grad_l2_norm =  tensor(2.5947e-07, device='cuda:0')\n",
      "T: 240.000 Train Loss: 0.009916 L2-Train Loss: 0.010769 Test Accuracy: 0.00%\n",
      "grad_l2_norm =  tensor(6.8374e-07, device='cuda:0')\n",
      "T: 260.000 Train Loss: 0.009804 L2-Train Loss: 0.010628 Test Accuracy: 0.00%\n",
      "grad_l2_norm =  tensor(6.4586e-07, device='cuda:0')\n",
      "T: 280.000 Train Loss: 0.009644 L2-Train Loss: 0.010445 Test Accuracy: 0.00%\n",
      "grad_l2_norm =  tensor(6.7014e-07, device='cuda:0')\n"
     ]
    },
    {
     "name": "stderr",
     "output_type": "stream",
     "text": [
      "\r",
      " 10%|████████▎                                                                          | 1/10 [00:42<06:18, 42.06s/it]"
     ]
    },
    {
     "name": "stdout",
     "output_type": "stream",
     "text": [
      "T: 0.020 Train Loss: 0.251960 L2-Train Loss: 10.129167 Test Accuracy: 0.00%\n",
      "grad_l2_norm =  tensor(0.0005, device='cuda:0')\n",
      "T: 20.000 Train Loss: 0.029585 L2-Train Loss: 0.197316 Test Accuracy: 0.00%\n",
      "grad_l2_norm =  tensor(3.2881e-05, device='cuda:0')\n",
      "T: 40.000 Train Loss: 0.018733 L2-Train Loss: 0.020017 Test Accuracy: 0.00%\n",
      "grad_l2_norm =  tensor(8.7294e-06, device='cuda:0')\n",
      "T: 60.000 Train Loss: 0.015321 L2-Train Loss: 0.016093 Test Accuracy: 0.00%\n",
      "grad_l2_norm =  tensor(3.8755e-06, device='cuda:0')\n",
      "T: 80.000 Train Loss: 0.013732 L2-Train Loss: 0.014786 Test Accuracy: 0.00%\n",
      "grad_l2_norm =  tensor(1.1905e-06, device='cuda:0')\n",
      "T: 100.000 Train Loss: 0.013010 L2-Train Loss: 0.014078 Test Accuracy: 0.00%\n",
      "grad_l2_norm =  tensor(9.3591e-07, device='cuda:0')\n",
      "T: 120.000 Train Loss: 0.012496 L2-Train Loss: 0.013534 Test Accuracy: 0.00%\n",
      "grad_l2_norm =  tensor(9.4338e-07, device='cuda:0')\n",
      "T: 140.000 Train Loss: 0.012145 L2-Train Loss: 0.013144 Test Accuracy: 0.00%\n",
      "grad_l2_norm =  tensor(8.0515e-07, device='cuda:0')\n",
      "T: 160.000 Train Loss: 0.011867 L2-Train Loss: 0.012830 Test Accuracy: 0.00%\n",
      "grad_l2_norm =  tensor(5.4931e-07, device='cuda:0')\n",
      "T: 180.000 Train Loss: 0.011653 L2-Train Loss: 0.012586 Test Accuracy: 0.00%\n",
      "grad_l2_norm =  tensor(4.3657e-07, device='cuda:0')\n",
      "T: 200.000 Train Loss: 0.011468 L2-Train Loss: 0.012373 Test Accuracy: 0.00%\n",
      "grad_l2_norm =  tensor(4.5545e-07, device='cuda:0')\n",
      "T: 220.000 Train Loss: 0.011305 L2-Train Loss: 0.012181 Test Accuracy: 0.00%\n",
      "grad_l2_norm =  tensor(6.5190e-07, device='cuda:0')\n",
      "T: 240.000 Train Loss: 0.011157 L2-Train Loss: 0.012008 Test Accuracy: 0.00%\n",
      "grad_l2_norm =  tensor(9.7664e-07, device='cuda:0')\n",
      "T: 260.000 Train Loss: 0.011019 L2-Train Loss: 0.011846 Test Accuracy: 0.00%\n",
      "grad_l2_norm =  tensor(4.2423e-07, device='cuda:0')\n",
      "T: 280.000 Train Loss: 0.010864 L2-Train Loss: 0.011665 Test Accuracy: 0.00%\n",
      "grad_l2_norm =  tensor(1.2254e-06, device='cuda:0')\n"
     ]
    },
    {
     "name": "stderr",
     "output_type": "stream",
     "text": [
      "\r",
      " 20%|████████████████▌                                                                  | 2/10 [01:21<05:26, 40.77s/it]"
     ]
    },
    {
     "name": "stdout",
     "output_type": "stream",
     "text": [
      "T: 0.020 Train Loss: 0.249712 L2-Train Loss: 10.045377 Test Accuracy: 0.00%\n",
      "grad_l2_norm =  tensor(0.0004, device='cuda:0')\n",
      "T: 20.000 Train Loss: 0.035320 L2-Train Loss: 0.200838 Test Accuracy: 0.00%\n",
      "grad_l2_norm =  tensor(5.1971e-05, device='cuda:0')\n",
      "T: 40.000 Train Loss: 0.017183 L2-Train Loss: 0.018510 Test Accuracy: 0.00%\n",
      "grad_l2_norm =  tensor(7.7504e-06, device='cuda:0')\n",
      "T: 60.000 Train Loss: 0.014929 L2-Train Loss: 0.015702 Test Accuracy: 0.00%\n",
      "grad_l2_norm =  tensor(4.0327e-06, device='cuda:0')\n",
      "T: 80.000 Train Loss: 0.013109 L2-Train Loss: 0.014169 Test Accuracy: 0.00%\n",
      "grad_l2_norm =  tensor(3.1019e-06, device='cuda:0')\n",
      "T: 100.000 Train Loss: 0.012349 L2-Train Loss: 0.013413 Test Accuracy: 0.00%\n",
      "grad_l2_norm =  tensor(1.0945e-06, device='cuda:0')\n",
      "T: 120.000 Train Loss: 0.011783 L2-Train Loss: 0.012820 Test Accuracy: 0.00%\n",
      "grad_l2_norm =  tensor(2.9121e-06, device='cuda:0')\n",
      "T: 140.000 Train Loss: 0.011334 L2-Train Loss: 0.012336 Test Accuracy: 0.00%\n",
      "grad_l2_norm =  tensor(6.3062e-07, device='cuda:0')\n",
      "T: 160.000 Train Loss: 0.010983 L2-Train Loss: 0.011952 Test Accuracy: 0.00%\n",
      "grad_l2_norm =  tensor(2.0578e-06, device='cuda:0')\n",
      "T: 180.000 Train Loss: 0.010715 L2-Train Loss: 0.011649 Test Accuracy: 0.00%\n",
      "grad_l2_norm =  tensor(1.0174e-06, device='cuda:0')\n",
      "T: 200.000 Train Loss: 0.010484 L2-Train Loss: 0.011393 Test Accuracy: 0.00%\n",
      "grad_l2_norm =  tensor(6.1767e-07, device='cuda:0')\n",
      "T: 220.000 Train Loss: 0.010269 L2-Train Loss: 0.011148 Test Accuracy: 0.00%\n",
      "grad_l2_norm =  tensor(4.3678e-07, device='cuda:0')\n",
      "T: 240.000 Train Loss: 0.010093 L2-Train Loss: 0.010944 Test Accuracy: 0.00%\n",
      "grad_l2_norm =  tensor(4.5887e-07, device='cuda:0')\n",
      "T: 260.000 Train Loss: 0.009913 L2-Train Loss: 0.010737 Test Accuracy: 0.00%\n",
      "grad_l2_norm =  tensor(6.3569e-07, device='cuda:0')\n",
      "T: 280.000 Train Loss: 0.009765 L2-Train Loss: 0.010565 Test Accuracy: 0.00%\n",
      "grad_l2_norm =  tensor(7.3038e-07, device='cuda:0')\n"
     ]
    },
    {
     "name": "stderr",
     "output_type": "stream",
     "text": [
      "\r",
      " 30%|████████████████████████▉                                                          | 3/10 [02:01<04:41, 40.15s/it]"
     ]
    },
    {
     "name": "stdout",
     "output_type": "stream",
     "text": [
      "T: 0.020 Train Loss: 0.254486 L2-Train Loss: 10.053520 Test Accuracy: 0.00%\n",
      "grad_l2_norm =  tensor(0.0005, device='cuda:0')\n",
      "T: 20.000 Train Loss: 0.031304 L2-Train Loss: 0.197990 Test Accuracy: 0.00%\n",
      "grad_l2_norm =  tensor(2.7665e-05, device='cuda:0')\n",
      "T: 40.000 Train Loss: 0.020857 L2-Train Loss: 0.022125 Test Accuracy: 0.00%\n",
      "grad_l2_norm =  tensor(1.0886e-05, device='cuda:0')\n",
      "T: 60.000 Train Loss: 0.016270 L2-Train Loss: 0.017053 Test Accuracy: 0.00%\n",
      "grad_l2_norm =  tensor(5.1227e-06, device='cuda:0')\n",
      "T: 80.000 Train Loss: 0.014477 L2-Train Loss: 0.015533 Test Accuracy: 0.00%\n",
      "grad_l2_norm =  tensor(1.1489e-06, device='cuda:0')\n",
      "T: 100.000 Train Loss: 0.013542 L2-Train Loss: 0.014607 Test Accuracy: 0.00%\n",
      "grad_l2_norm =  tensor(9.8754e-07, device='cuda:0')\n",
      "T: 120.000 Train Loss: 0.012848 L2-Train Loss: 0.013886 Test Accuracy: 0.00%\n",
      "grad_l2_norm =  tensor(1.0048e-06, device='cuda:0')\n",
      "T: 140.000 Train Loss: 0.012370 L2-Train Loss: 0.013370 Test Accuracy: 0.00%\n",
      "grad_l2_norm =  tensor(1.4800e-06, device='cuda:0')\n",
      "T: 160.000 Train Loss: 0.011981 L2-Train Loss: 0.012948 Test Accuracy: 0.00%\n",
      "grad_l2_norm =  tensor(6.1208e-07, device='cuda:0')\n",
      "T: 180.000 Train Loss: 0.011637 L2-Train Loss: 0.012574 Test Accuracy: 0.00%\n",
      "grad_l2_norm =  tensor(5.9653e-07, device='cuda:0')\n",
      "T: 200.000 Train Loss: 0.011394 L2-Train Loss: 0.012298 Test Accuracy: 0.00%\n",
      "grad_l2_norm =  tensor(6.6067e-07, device='cuda:0')\n",
      "T: 220.000 Train Loss: 0.011149 L2-Train Loss: 0.012025 Test Accuracy: 0.00%\n",
      "grad_l2_norm =  tensor(8.1216e-07, device='cuda:0')\n",
      "T: 240.000 Train Loss: 0.010983 L2-Train Loss: 0.011834 Test Accuracy: 0.00%\n",
      "grad_l2_norm =  tensor(6.0769e-07, device='cuda:0')\n",
      "T: 260.000 Train Loss: 0.010806 L2-Train Loss: 0.011626 Test Accuracy: 0.00%\n",
      "grad_l2_norm =  tensor(5.7854e-07, device='cuda:0')\n",
      "T: 280.000 Train Loss: 0.010650 L2-Train Loss: 0.011449 Test Accuracy: 0.00%\n",
      "grad_l2_norm =  tensor(5.5167e-07, device='cuda:0')\n"
     ]
    },
    {
     "name": "stderr",
     "output_type": "stream",
     "text": [
      "\r",
      " 40%|█████████████████████████████████▏                                                 | 4/10 [02:40<03:59, 39.93s/it]"
     ]
    },
    {
     "name": "stdout",
     "output_type": "stream",
     "text": [
      "T: 0.020 Train Loss: 0.248285 L2-Train Loss: 9.967959 Test Accuracy: 0.00%\n",
      "grad_l2_norm =  tensor(0.0004, device='cuda:0')\n",
      "T: 20.000 Train Loss: 0.035877 L2-Train Loss: 0.200498 Test Accuracy: 0.00%\n",
      "grad_l2_norm =  tensor(4.6055e-05, device='cuda:0')\n",
      "T: 40.000 Train Loss: 0.018368 L2-Train Loss: 0.019733 Test Accuracy: 0.00%\n",
      "grad_l2_norm =  tensor(7.8205e-06, device='cuda:0')\n",
      "T: 60.000 Train Loss: 0.015701 L2-Train Loss: 0.016473 Test Accuracy: 0.00%\n",
      "grad_l2_norm =  tensor(3.8732e-06, device='cuda:0')\n",
      "T: 80.000 Train Loss: 0.013770 L2-Train Loss: 0.014820 Test Accuracy: 0.00%\n",
      "grad_l2_norm =  tensor(1.4685e-06, device='cuda:0')\n",
      "T: 100.000 Train Loss: 0.012964 L2-Train Loss: 0.014019 Test Accuracy: 0.00%\n",
      "grad_l2_norm =  tensor(1.3852e-06, device='cuda:0')\n",
      "T: 120.000 Train Loss: 0.012409 L2-Train Loss: 0.013436 Test Accuracy: 0.00%\n",
      "grad_l2_norm =  tensor(5.9669e-07, device='cuda:0')\n",
      "T: 140.000 Train Loss: 0.011995 L2-Train Loss: 0.012984 Test Accuracy: 0.00%\n",
      "grad_l2_norm =  tensor(9.0208e-07, device='cuda:0')\n",
      "T: 160.000 Train Loss: 0.011663 L2-Train Loss: 0.012622 Test Accuracy: 0.00%\n",
      "grad_l2_norm =  tensor(7.0543e-07, device='cuda:0')\n",
      "T: 180.000 Train Loss: 0.011415 L2-Train Loss: 0.012338 Test Accuracy: 0.00%\n",
      "grad_l2_norm =  tensor(6.9763e-07, device='cuda:0')\n",
      "T: 200.000 Train Loss: 0.011197 L2-Train Loss: 0.012096 Test Accuracy: 0.00%\n",
      "grad_l2_norm =  tensor(8.7005e-07, device='cuda:0')\n",
      "T: 220.000 Train Loss: 0.010989 L2-Train Loss: 0.011854 Test Accuracy: 0.00%\n",
      "grad_l2_norm =  tensor(1.6830e-06, device='cuda:0')\n",
      "T: 240.000 Train Loss: 0.010798 L2-Train Loss: 0.011641 Test Accuracy: 0.00%\n",
      "grad_l2_norm =  tensor(6.4143e-07, device='cuda:0')\n",
      "T: 260.000 Train Loss: 0.010640 L2-Train Loss: 0.011456 Test Accuracy: 0.00%\n",
      "grad_l2_norm =  tensor(8.5722e-07, device='cuda:0')\n",
      "T: 280.000 Train Loss: 0.010502 L2-Train Loss: 0.011292 Test Accuracy: 0.00%\n",
      "grad_l2_norm =  tensor(7.1086e-07, device='cuda:0')\n"
     ]
    },
    {
     "name": "stderr",
     "output_type": "stream",
     "text": [
      "\r",
      " 50%|█████████████████████████████████████████▌                                         | 5/10 [03:20<03:19, 39.95s/it]"
     ]
    },
    {
     "name": "stdout",
     "output_type": "stream",
     "text": [
      "T: 0.020 Train Loss: 0.250110 L2-Train Loss: 10.043100 Test Accuracy: 0.00%\n",
      "grad_l2_norm =  tensor(0.0005, device='cuda:0')\n",
      "T: 20.000 Train Loss: 0.026252 L2-Train Loss: 0.193136 Test Accuracy: 0.00%\n",
      "grad_l2_norm =  tensor(1.8614e-05, device='cuda:0')\n",
      "T: 40.000 Train Loss: 0.018426 L2-Train Loss: 0.019666 Test Accuracy: 0.00%\n",
      "grad_l2_norm =  tensor(7.8655e-06, device='cuda:0')\n",
      "T: 60.000 Train Loss: 0.014481 L2-Train Loss: 0.015253 Test Accuracy: 0.00%\n",
      "grad_l2_norm =  tensor(8.1645e-06, device='cuda:0')\n",
      "T: 80.000 Train Loss: 0.012963 L2-Train Loss: 0.014012 Test Accuracy: 0.00%\n",
      "grad_l2_norm =  tensor(1.2359e-06, device='cuda:0')\n",
      "T: 100.000 Train Loss: 0.012206 L2-Train Loss: 0.013265 Test Accuracy: 0.00%\n",
      "grad_l2_norm =  tensor(1.0699e-06, device='cuda:0')\n",
      "T: 120.000 Train Loss: 0.011644 L2-Train Loss: 0.012679 Test Accuracy: 0.00%\n",
      "grad_l2_norm =  tensor(4.6698e-06, device='cuda:0')\n",
      "T: 140.000 Train Loss: 0.011169 L2-Train Loss: 0.012170 Test Accuracy: 0.00%\n",
      "grad_l2_norm =  tensor(5.9023e-07, device='cuda:0')\n",
      "T: 160.000 Train Loss: 0.010853 L2-Train Loss: 0.011819 Test Accuracy: 0.00%\n",
      "grad_l2_norm =  tensor(6.9435e-07, device='cuda:0')\n",
      "T: 180.000 Train Loss: 0.010585 L2-Train Loss: 0.011520 Test Accuracy: 0.00%\n",
      "grad_l2_norm =  tensor(9.3353e-07, device='cuda:0')\n",
      "T: 200.000 Train Loss: 0.010366 L2-Train Loss: 0.011266 Test Accuracy: 0.00%\n",
      "grad_l2_norm =  tensor(9.1330e-07, device='cuda:0')\n",
      "T: 220.000 Train Loss: 0.010140 L2-Train Loss: 0.011016 Test Accuracy: 0.00%\n",
      "grad_l2_norm =  tensor(6.4620e-07, device='cuda:0')\n",
      "T: 240.000 Train Loss: 0.009934 L2-Train Loss: 0.010785 Test Accuracy: 0.00%\n",
      "grad_l2_norm =  tensor(7.6125e-07, device='cuda:0')\n",
      "T: 260.000 Train Loss: 0.009773 L2-Train Loss: 0.010594 Test Accuracy: 0.00%\n",
      "grad_l2_norm =  tensor(5.7009e-07, device='cuda:0')\n",
      "T: 280.000 Train Loss: 0.009645 L2-Train Loss: 0.010444 Test Accuracy: 0.00%\n",
      "grad_l2_norm =  tensor(6.5595e-07, device='cuda:0')\n"
     ]
    },
    {
     "name": "stderr",
     "output_type": "stream",
     "text": [
      "\r",
      " 60%|█████████████████████████████████████████████████▊                                 | 6/10 [04:00<02:39, 39.90s/it]"
     ]
    },
    {
     "name": "stdout",
     "output_type": "stream",
     "text": [
      "T: 0.020 Train Loss: 0.248629 L2-Train Loss: 10.022617 Test Accuracy: 0.00%\n",
      "grad_l2_norm =  tensor(0.0005, device='cuda:0')\n",
      "T: 20.000 Train Loss: 0.037444 L2-Train Loss: 0.202618 Test Accuracy: 0.00%\n",
      "grad_l2_norm =  tensor(5.2175e-05, device='cuda:0')\n",
      "T: 40.000 Train Loss: 0.018643 L2-Train Loss: 0.020005 Test Accuracy: 0.00%\n",
      "grad_l2_norm =  tensor(8.9000e-06, device='cuda:0')\n",
      "T: 60.000 Train Loss: 0.016118 L2-Train Loss: 0.016892 Test Accuracy: 0.00%\n",
      "grad_l2_norm =  tensor(5.0577e-06, device='cuda:0')\n",
      "T: 80.000 Train Loss: 0.014222 L2-Train Loss: 0.015275 Test Accuracy: 0.00%\n",
      "grad_l2_norm =  tensor(1.0447e-06, device='cuda:0')\n",
      "T: 100.000 Train Loss: 0.013317 L2-Train Loss: 0.014380 Test Accuracy: 0.00%\n",
      "grad_l2_norm =  tensor(1.0138e-06, device='cuda:0')\n",
      "T: 120.000 Train Loss: 0.012701 L2-Train Loss: 0.013733 Test Accuracy: 0.00%\n",
      "grad_l2_norm =  tensor(7.2644e-07, device='cuda:0')\n",
      "T: 140.000 Train Loss: 0.012242 L2-Train Loss: 0.013240 Test Accuracy: 0.00%\n",
      "grad_l2_norm =  tensor(6.4351e-07, device='cuda:0')\n",
      "T: 160.000 Train Loss: 0.011904 L2-Train Loss: 0.012862 Test Accuracy: 0.00%\n",
      "grad_l2_norm =  tensor(4.8888e-07, device='cuda:0')\n",
      "T: 180.000 Train Loss: 0.011631 L2-Train Loss: 0.012560 Test Accuracy: 0.00%\n",
      "grad_l2_norm =  tensor(1.4550e-06, device='cuda:0')\n",
      "T: 200.000 Train Loss: 0.011376 L2-Train Loss: 0.012277 Test Accuracy: 0.00%\n",
      "grad_l2_norm =  tensor(4.3827e-07, device='cuda:0')\n",
      "T: 220.000 Train Loss: 0.011156 L2-Train Loss: 0.012030 Test Accuracy: 0.00%\n",
      "grad_l2_norm =  tensor(5.0271e-07, device='cuda:0')\n",
      "T: 240.000 Train Loss: 0.010978 L2-Train Loss: 0.011825 Test Accuracy: 0.00%\n",
      "grad_l2_norm =  tensor(6.9431e-07, device='cuda:0')\n",
      "T: 260.000 Train Loss: 0.010811 L2-Train Loss: 0.011633 Test Accuracy: 0.00%\n",
      "grad_l2_norm =  tensor(5.6982e-07, device='cuda:0')\n",
      "T: 280.000 Train Loss: 0.010672 L2-Train Loss: 0.011464 Test Accuracy: 0.00%\n",
      "grad_l2_norm =  tensor(7.9401e-07, device='cuda:0')\n"
     ]
    },
    {
     "name": "stderr",
     "output_type": "stream",
     "text": [
      "\r",
      " 70%|██████████████████████████████████████████████████████████                         | 7/10 [04:40<01:59, 39.96s/it]"
     ]
    },
    {
     "name": "stdout",
     "output_type": "stream",
     "text": [
      "T: 0.020 Train Loss: 0.249712 L2-Train Loss: 10.097974 Test Accuracy: 0.00%\n",
      "grad_l2_norm =  tensor(0.0004, device='cuda:0')\n",
      "T: 20.000 Train Loss: 0.033937 L2-Train Loss: 0.200802 Test Accuracy: 0.00%\n",
      "grad_l2_norm =  tensor(3.6218e-05, device='cuda:0')\n",
      "T: 40.000 Train Loss: 0.018930 L2-Train Loss: 0.020295 Test Accuracy: 0.00%\n",
      "grad_l2_norm =  tensor(6.6472e-06, device='cuda:0')\n",
      "T: 60.000 Train Loss: 0.015830 L2-Train Loss: 0.016608 Test Accuracy: 0.00%\n",
      "grad_l2_norm =  tensor(1.6171e-06, device='cuda:0')\n",
      "T: 80.000 Train Loss: 0.014070 L2-Train Loss: 0.015130 Test Accuracy: 0.00%\n",
      "grad_l2_norm =  tensor(1.3494e-06, device='cuda:0')\n",
      "T: 100.000 Train Loss: 0.013324 L2-Train Loss: 0.014391 Test Accuracy: 0.00%\n",
      "grad_l2_norm =  tensor(1.6771e-06, device='cuda:0')\n",
      "T: 120.000 Train Loss: 0.012756 L2-Train Loss: 0.013799 Test Accuracy: 0.00%\n",
      "grad_l2_norm =  tensor(1.3450e-06, device='cuda:0')\n",
      "T: 140.000 Train Loss: 0.012308 L2-Train Loss: 0.013314 Test Accuracy: 0.00%\n",
      "grad_l2_norm =  tensor(6.1899e-07, device='cuda:0')\n",
      "T: 160.000 Train Loss: 0.011991 L2-Train Loss: 0.012960 Test Accuracy: 0.00%\n",
      "grad_l2_norm =  tensor(1.0804e-06, device='cuda:0')\n",
      "T: 180.000 Train Loss: 0.011752 L2-Train Loss: 0.012689 Test Accuracy: 0.00%\n",
      "grad_l2_norm =  tensor(7.0413e-07, device='cuda:0')\n",
      "T: 200.000 Train Loss: 0.011529 L2-Train Loss: 0.012434 Test Accuracy: 0.00%\n",
      "grad_l2_norm =  tensor(6.7535e-07, device='cuda:0')\n",
      "T: 220.000 Train Loss: 0.011326 L2-Train Loss: 0.012204 Test Accuracy: 0.00%\n",
      "grad_l2_norm =  tensor(5.4784e-07, device='cuda:0')\n",
      "T: 240.000 Train Loss: 0.011169 L2-Train Loss: 0.012019 Test Accuracy: 0.00%\n",
      "grad_l2_norm =  tensor(4.3513e-07, device='cuda:0')\n",
      "T: 260.000 Train Loss: 0.011033 L2-Train Loss: 0.011859 Test Accuracy: 0.00%\n",
      "grad_l2_norm =  tensor(4.4989e-07, device='cuda:0')\n",
      "T: 280.000 Train Loss: 0.010898 L2-Train Loss: 0.011700 Test Accuracy: 0.00%\n",
      "grad_l2_norm =  tensor(3.8108e-07, device='cuda:0')\n"
     ]
    },
    {
     "name": "stderr",
     "output_type": "stream",
     "text": [
      "\r",
      " 80%|██████████████████████████████████████████████████████████████████▍                | 8/10 [05:20<01:19, 39.87s/it]"
     ]
    },
    {
     "name": "stdout",
     "output_type": "stream",
     "text": [
      "T: 0.020 Train Loss: 0.248423 L2-Train Loss: 10.046274 Test Accuracy: 0.00%\n",
      "grad_l2_norm =  tensor(0.0005, device='cuda:0')\n",
      "T: 20.000 Train Loss: 0.037794 L2-Train Loss: 0.204389 Test Accuracy: 0.00%\n",
      "grad_l2_norm =  tensor(4.6527e-05, device='cuda:0')\n",
      "T: 40.000 Train Loss: 0.019767 L2-Train Loss: 0.021202 Test Accuracy: 0.00%\n",
      "grad_l2_norm =  tensor(8.6992e-06, device='cuda:0')\n",
      "T: 60.000 Train Loss: 0.016463 L2-Train Loss: 0.017231 Test Accuracy: 0.00%\n",
      "grad_l2_norm =  tensor(4.0229e-06, device='cuda:0')\n",
      "T: 80.000 Train Loss: 0.014356 L2-Train Loss: 0.015419 Test Accuracy: 0.00%\n",
      "grad_l2_norm =  tensor(2.5625e-06, device='cuda:0')\n",
      "T: 100.000 Train Loss: 0.013484 L2-Train Loss: 0.014547 Test Accuracy: 0.00%\n",
      "grad_l2_norm =  tensor(1.2731e-06, device='cuda:0')\n",
      "T: 120.000 Train Loss: 0.012878 L2-Train Loss: 0.013912 Test Accuracy: 0.00%\n",
      "grad_l2_norm =  tensor(1.3567e-06, device='cuda:0')\n",
      "T: 140.000 Train Loss: 0.012387 L2-Train Loss: 0.013387 Test Accuracy: 0.00%\n",
      "grad_l2_norm =  tensor(5.1141e-07, device='cuda:0')\n",
      "T: 160.000 Train Loss: 0.012022 L2-Train Loss: 0.012988 Test Accuracy: 0.00%\n",
      "grad_l2_norm =  tensor(8.3463e-07, device='cuda:0')\n",
      "T: 180.000 Train Loss: 0.011703 L2-Train Loss: 0.012637 Test Accuracy: 0.00%\n",
      "grad_l2_norm =  tensor(5.3732e-07, device='cuda:0')\n",
      "T: 200.000 Train Loss: 0.011456 L2-Train Loss: 0.012360 Test Accuracy: 0.00%\n",
      "grad_l2_norm =  tensor(6.3168e-07, device='cuda:0')\n",
      "T: 220.000 Train Loss: 0.011208 L2-Train Loss: 0.012084 Test Accuracy: 0.00%\n",
      "grad_l2_norm =  tensor(4.2523e-07, device='cuda:0')\n",
      "T: 240.000 Train Loss: 0.010993 L2-Train Loss: 0.011844 Test Accuracy: 0.00%\n",
      "grad_l2_norm =  tensor(4.6450e-07, device='cuda:0')\n",
      "T: 260.000 Train Loss: 0.010797 L2-Train Loss: 0.011619 Test Accuracy: 0.00%\n",
      "grad_l2_norm =  tensor(6.0346e-07, device='cuda:0')\n",
      "T: 280.000 Train Loss: 0.010636 L2-Train Loss: 0.011436 Test Accuracy: 0.00%\n",
      "grad_l2_norm =  tensor(3.5024e-07, device='cuda:0')\n"
     ]
    },
    {
     "name": "stderr",
     "output_type": "stream",
     "text": [
      "\r",
      " 90%|██████████████████████████████████████████████████████████████████████████▋        | 9/10 [06:00<00:39, 39.88s/it]"
     ]
    },
    {
     "name": "stdout",
     "output_type": "stream",
     "text": [
      "T: 0.020 Train Loss: 0.251183 L2-Train Loss: 10.030891 Test Accuracy: 0.00%\n",
      "grad_l2_norm =  tensor(0.0004, device='cuda:0')\n",
      "T: 20.000 Train Loss: 0.031219 L2-Train Loss: 0.197452 Test Accuracy: 0.00%\n",
      "grad_l2_norm =  tensor(3.4753e-05, device='cuda:0')\n",
      "T: 40.000 Train Loss: 0.019160 L2-Train Loss: 0.020489 Test Accuracy: 0.00%\n",
      "grad_l2_norm =  tensor(8.6449e-06, device='cuda:0')\n",
      "T: 60.000 Train Loss: 0.015777 L2-Train Loss: 0.016545 Test Accuracy: 0.00%\n",
      "grad_l2_norm =  tensor(3.7517e-06, device='cuda:0')\n",
      "T: 80.000 Train Loss: 0.013901 L2-Train Loss: 0.014960 Test Accuracy: 0.00%\n",
      "grad_l2_norm =  tensor(1.4825e-06, device='cuda:0')\n",
      "T: 100.000 Train Loss: 0.013012 L2-Train Loss: 0.014072 Test Accuracy: 0.00%\n",
      "grad_l2_norm =  tensor(8.7311e-07, device='cuda:0')\n",
      "T: 120.000 Train Loss: 0.012436 L2-Train Loss: 0.013466 Test Accuracy: 0.00%\n",
      "grad_l2_norm =  tensor(7.9851e-07, device='cuda:0')\n",
      "T: 140.000 Train Loss: 0.011994 L2-Train Loss: 0.012994 Test Accuracy: 0.00%\n",
      "grad_l2_norm =  tensor(9.6799e-07, device='cuda:0')\n",
      "T: 160.000 Train Loss: 0.011627 L2-Train Loss: 0.012588 Test Accuracy: 0.00%\n",
      "grad_l2_norm =  tensor(5.7027e-07, device='cuda:0')\n",
      "T: 180.000 Train Loss: 0.011324 L2-Train Loss: 0.012256 Test Accuracy: 0.00%\n",
      "grad_l2_norm =  tensor(6.1829e-07, device='cuda:0')\n",
      "T: 200.000 Train Loss: 0.011076 L2-Train Loss: 0.011979 Test Accuracy: 0.00%\n",
      "grad_l2_norm =  tensor(5.3063e-07, device='cuda:0')\n",
      "T: 220.000 Train Loss: 0.010803 L2-Train Loss: 0.011684 Test Accuracy: 0.00%\n",
      "grad_l2_norm =  tensor(5.9939e-07, device='cuda:0')\n",
      "T: 240.000 Train Loss: 0.010609 L2-Train Loss: 0.011458 Test Accuracy: 0.00%\n",
      "grad_l2_norm =  tensor(4.1666e-07, device='cuda:0')\n",
      "T: 260.000 Train Loss: 0.010454 L2-Train Loss: 0.011278 Test Accuracy: 0.00%\n",
      "grad_l2_norm =  tensor(5.5072e-07, device='cuda:0')\n",
      "T: 280.000 Train Loss: 0.010311 L2-Train Loss: 0.011107 Test Accuracy: 0.00%\n",
      "grad_l2_norm =  tensor(4.0571e-07, device='cuda:0')\n"
     ]
    },
    {
     "name": "stderr",
     "output_type": "stream",
     "text": [
      "100%|██████████████████████████████████████████████████████████████████████████████████| 10/10 [06:40<00:00, 40.01s/it]\n"
     ]
    },
    {
     "name": "stdout",
     "output_type": "stream",
     "text": [
      "Finish test particle_num=128.0000 cutoff = 500.00 lr = 0.020 lr2 = 0.020 momentum = 1.00 avg_trainloss=1.026e-02 avg_L2_trainloss=1.104e-02\n"
     ]
    },
    {
     "name": "stderr",
     "output_type": "stream",
     "text": [
      "\r",
      "  0%|                                                                                           | 0/10 [00:00<?, ?it/s]"
     ]
    },
    {
     "name": "stdout",
     "output_type": "stream",
     "text": [
      "T: 0.020 Train Loss: 0.250406 L2-Train Loss: 10.068796 Test Accuracy: 0.00%\n",
      "grad_l2_norm =  tensor(0.0002, device='cuda:0')\n",
      "T: 20.000 Train Loss: 0.029846 L2-Train Loss: 0.196107 Test Accuracy: 0.00%\n",
      "grad_l2_norm =  tensor(1.8767e-05, device='cuda:0')\n",
      "T: 40.000 Train Loss: 0.015215 L2-Train Loss: 0.016525 Test Accuracy: 0.00%\n",
      "grad_l2_norm =  tensor(3.7836e-06, device='cuda:0')\n",
      "T: 60.000 Train Loss: 0.012868 L2-Train Loss: 0.013629 Test Accuracy: 0.00%\n",
      "grad_l2_norm =  tensor(1.4709e-06, device='cuda:0')\n",
      "T: 80.000 Train Loss: 0.011393 L2-Train Loss: 0.012445 Test Accuracy: 0.00%\n",
      "grad_l2_norm =  tensor(5.7114e-07, device='cuda:0')\n",
      "T: 100.000 Train Loss: 0.010699 L2-Train Loss: 0.011765 Test Accuracy: 0.00%\n",
      "grad_l2_norm =  tensor(6.0058e-07, device='cuda:0')\n",
      "T: 120.000 Train Loss: 0.010225 L2-Train Loss: 0.011257 Test Accuracy: 0.00%\n",
      "grad_l2_norm =  tensor(3.8294e-07, device='cuda:0')\n",
      "T: 140.000 Train Loss: 0.009893 L2-Train Loss: 0.010892 Test Accuracy: 0.00%\n",
      "grad_l2_norm =  tensor(7.7012e-07, device='cuda:0')\n",
      "T: 160.000 Train Loss: 0.009635 L2-Train Loss: 0.010599 Test Accuracy: 0.00%\n",
      "grad_l2_norm =  tensor(2.1967e-07, device='cuda:0')\n",
      "T: 180.000 Train Loss: 0.009394 L2-Train Loss: 0.010328 Test Accuracy: 0.00%\n",
      "grad_l2_norm =  tensor(1.7933e-07, device='cuda:0')\n",
      "T: 200.000 Train Loss: 0.009193 L2-Train Loss: 0.010098 Test Accuracy: 0.00%\n",
      "grad_l2_norm =  tensor(3.2062e-07, device='cuda:0')\n",
      "T: 220.000 Train Loss: 0.009012 L2-Train Loss: 0.009890 Test Accuracy: 0.00%\n",
      "grad_l2_norm =  tensor(3.6269e-07, device='cuda:0')\n",
      "T: 240.000 Train Loss: 0.008865 L2-Train Loss: 0.009716 Test Accuracy: 0.00%\n",
      "grad_l2_norm =  tensor(2.5358e-07, device='cuda:0')\n",
      "T: 260.000 Train Loss: 0.008739 L2-Train Loss: 0.009563 Test Accuracy: 0.00%\n",
      "grad_l2_norm =  tensor(1.6385e-07, device='cuda:0')\n",
      "T: 280.000 Train Loss: 0.008598 L2-Train Loss: 0.009397 Test Accuracy: 0.00%\n",
      "grad_l2_norm =  tensor(3.1516e-07, device='cuda:0')\n"
     ]
    },
    {
     "name": "stderr",
     "output_type": "stream",
     "text": [
      "\r",
      " 10%|████████▎                                                                          | 1/10 [00:46<06:57, 46.35s/it]"
     ]
    },
    {
     "name": "stdout",
     "output_type": "stream",
     "text": [
      "T: 0.020 Train Loss: 0.249624 L2-Train Loss: 10.086623 Test Accuracy: 0.00%\n",
      "grad_l2_norm =  tensor(0.0002, device='cuda:0')\n",
      "T: 20.000 Train Loss: 0.029915 L2-Train Loss: 0.196646 Test Accuracy: 0.00%\n",
      "grad_l2_norm =  tensor(2.5461e-05, device='cuda:0')\n",
      "T: 40.000 Train Loss: 0.014145 L2-Train Loss: 0.015503 Test Accuracy: 0.00%\n",
      "grad_l2_norm =  tensor(2.8099e-06, device='cuda:0')\n",
      "T: 60.000 Train Loss: 0.012549 L2-Train Loss: 0.013308 Test Accuracy: 0.00%\n",
      "grad_l2_norm =  tensor(2.6708e-06, device='cuda:0')\n",
      "T: 80.000 Train Loss: 0.011057 L2-Train Loss: 0.012107 Test Accuracy: 0.00%\n",
      "grad_l2_norm =  tensor(4.4852e-07, device='cuda:0')\n",
      "T: 100.000 Train Loss: 0.010513 L2-Train Loss: 0.011570 Test Accuracy: 0.00%\n",
      "grad_l2_norm =  tensor(3.6794e-07, device='cuda:0')\n",
      "T: 120.000 Train Loss: 0.010100 L2-Train Loss: 0.011131 Test Accuracy: 0.00%\n",
      "grad_l2_norm =  tensor(4.3694e-07, device='cuda:0')\n",
      "T: 140.000 Train Loss: 0.009792 L2-Train Loss: 0.010790 Test Accuracy: 0.00%\n",
      "grad_l2_norm =  tensor(2.7432e-07, device='cuda:0')\n",
      "T: 160.000 Train Loss: 0.009523 L2-Train Loss: 0.010487 Test Accuracy: 0.00%\n",
      "grad_l2_norm =  tensor(4.1605e-07, device='cuda:0')\n",
      "T: 180.000 Train Loss: 0.009285 L2-Train Loss: 0.010221 Test Accuracy: 0.00%\n",
      "grad_l2_norm =  tensor(2.0338e-07, device='cuda:0')\n",
      "T: 200.000 Train Loss: 0.009112 L2-Train Loss: 0.010015 Test Accuracy: 0.00%\n",
      "grad_l2_norm =  tensor(4.3089e-07, device='cuda:0')\n",
      "T: 220.000 Train Loss: 0.008956 L2-Train Loss: 0.009832 Test Accuracy: 0.00%\n",
      "grad_l2_norm =  tensor(2.1489e-07, device='cuda:0')\n",
      "T: 240.000 Train Loss: 0.008817 L2-Train Loss: 0.009666 Test Accuracy: 0.00%\n",
      "grad_l2_norm =  tensor(3.4513e-07, device='cuda:0')\n",
      "T: 260.000 Train Loss: 0.008685 L2-Train Loss: 0.009505 Test Accuracy: 0.00%\n",
      "grad_l2_norm =  tensor(1.9115e-07, device='cuda:0')\n",
      "T: 280.000 Train Loss: 0.008569 L2-Train Loss: 0.009364 Test Accuracy: 0.00%\n",
      "grad_l2_norm =  tensor(2.8302e-07, device='cuda:0')\n"
     ]
    },
    {
     "name": "stderr",
     "output_type": "stream",
     "text": [
      "\r",
      " 20%|████████████████▌                                                                  | 2/10 [01:33<06:12, 46.62s/it]"
     ]
    },
    {
     "name": "stdout",
     "output_type": "stream",
     "text": [
      "T: 0.020 Train Loss: 0.250286 L2-Train Loss: 10.056957 Test Accuracy: 0.00%\n",
      "grad_l2_norm =  tensor(0.0002, device='cuda:0')\n",
      "T: 20.000 Train Loss: 0.030315 L2-Train Loss: 0.196700 Test Accuracy: 0.00%\n",
      "grad_l2_norm =  tensor(1.8403e-05, device='cuda:0')\n",
      "T: 40.000 Train Loss: 0.015378 L2-Train Loss: 0.016740 Test Accuracy: 0.00%\n",
      "grad_l2_norm =  tensor(3.3465e-06, device='cuda:0')\n",
      "T: 60.000 Train Loss: 0.013335 L2-Train Loss: 0.014096 Test Accuracy: 0.00%\n",
      "grad_l2_norm =  tensor(2.4405e-06, device='cuda:0')\n",
      "T: 80.000 Train Loss: 0.011707 L2-Train Loss: 0.012763 Test Accuracy: 0.00%\n",
      "grad_l2_norm =  tensor(5.1161e-07, device='cuda:0')\n",
      "T: 100.000 Train Loss: 0.011029 L2-Train Loss: 0.012089 Test Accuracy: 0.00%\n",
      "grad_l2_norm =  tensor(5.3643e-07, device='cuda:0')\n",
      "T: 120.000 Train Loss: 0.010566 L2-Train Loss: 0.011597 Test Accuracy: 0.00%\n",
      "grad_l2_norm =  tensor(2.4188e-07, device='cuda:0')\n",
      "T: 140.000 Train Loss: 0.010210 L2-Train Loss: 0.011211 Test Accuracy: 0.00%\n",
      "grad_l2_norm =  tensor(2.3470e-07, device='cuda:0')\n",
      "T: 160.000 Train Loss: 0.009909 L2-Train Loss: 0.010874 Test Accuracy: 0.00%\n",
      "grad_l2_norm =  tensor(2.9636e-07, device='cuda:0')\n",
      "T: 180.000 Train Loss: 0.009654 L2-Train Loss: 0.010591 Test Accuracy: 0.00%\n",
      "grad_l2_norm =  tensor(3.7434e-07, device='cuda:0')\n",
      "T: 200.000 Train Loss: 0.009422 L2-Train Loss: 0.010329 Test Accuracy: 0.00%\n",
      "grad_l2_norm =  tensor(2.7251e-07, device='cuda:0')\n",
      "T: 220.000 Train Loss: 0.009226 L2-Train Loss: 0.010105 Test Accuracy: 0.00%\n",
      "grad_l2_norm =  tensor(6.3755e-07, device='cuda:0')\n",
      "T: 240.000 Train Loss: 0.009053 L2-Train Loss: 0.009903 Test Accuracy: 0.00%\n",
      "grad_l2_norm =  tensor(1.6989e-07, device='cuda:0')\n",
      "T: 260.000 Train Loss: 0.008895 L2-Train Loss: 0.009721 Test Accuracy: 0.00%\n",
      "grad_l2_norm =  tensor(2.3503e-07, device='cuda:0')\n",
      "T: 280.000 Train Loss: 0.008747 L2-Train Loss: 0.009546 Test Accuracy: 0.00%\n",
      "grad_l2_norm =  tensor(2.5295e-07, device='cuda:0')\n"
     ]
    },
    {
     "name": "stderr",
     "output_type": "stream",
     "text": [
      "\r",
      " 30%|████████████████████████▉                                                          | 3/10 [02:19<05:26, 46.61s/it]"
     ]
    },
    {
     "name": "stdout",
     "output_type": "stream",
     "text": [
      "T: 0.020 Train Loss: 0.249405 L2-Train Loss: 10.030598 Test Accuracy: 0.00%\n",
      "grad_l2_norm =  tensor(0.0002, device='cuda:0')\n",
      "T: 20.000 Train Loss: 0.033537 L2-Train Loss: 0.199121 Test Accuracy: 0.00%\n",
      "grad_l2_norm =  tensor(2.6507e-05, device='cuda:0')\n",
      "T: 40.000 Train Loss: 0.014882 L2-Train Loss: 0.016247 Test Accuracy: 0.00%\n",
      "grad_l2_norm =  tensor(3.7415e-06, device='cuda:0')\n",
      "T: 60.000 Train Loss: 0.012909 L2-Train Loss: 0.013684 Test Accuracy: 0.00%\n",
      "grad_l2_norm =  tensor(1.8329e-06, device='cuda:0')\n",
      "T: 80.000 Train Loss: 0.011408 L2-Train Loss: 0.012455 Test Accuracy: 0.00%\n",
      "grad_l2_norm =  tensor(1.3985e-06, device='cuda:0')\n",
      "T: 100.000 Train Loss: 0.010776 L2-Train Loss: 0.011833 Test Accuracy: 0.00%\n",
      "grad_l2_norm =  tensor(4.3136e-07, device='cuda:0')\n",
      "T: 120.000 Train Loss: 0.010338 L2-Train Loss: 0.011365 Test Accuracy: 0.00%\n",
      "grad_l2_norm =  tensor(3.4283e-07, device='cuda:0')\n",
      "T: 140.000 Train Loss: 0.010010 L2-Train Loss: 0.011006 Test Accuracy: 0.00%\n",
      "grad_l2_norm =  tensor(2.4358e-07, device='cuda:0')\n",
      "T: 160.000 Train Loss: 0.009754 L2-Train Loss: 0.010714 Test Accuracy: 0.00%\n",
      "grad_l2_norm =  tensor(2.7183e-07, device='cuda:0')\n",
      "T: 180.000 Train Loss: 0.009532 L2-Train Loss: 0.010460 Test Accuracy: 0.00%\n",
      "grad_l2_norm =  tensor(2.7242e-07, device='cuda:0')\n",
      "T: 200.000 Train Loss: 0.009339 L2-Train Loss: 0.010244 Test Accuracy: 0.00%\n",
      "grad_l2_norm =  tensor(2.5029e-07, device='cuda:0')\n",
      "T: 220.000 Train Loss: 0.009151 L2-Train Loss: 0.010022 Test Accuracy: 0.00%\n",
      "grad_l2_norm =  tensor(2.7404e-07, device='cuda:0')\n",
      "T: 240.000 Train Loss: 0.008992 L2-Train Loss: 0.009835 Test Accuracy: 0.00%\n",
      "grad_l2_norm =  tensor(2.5195e-07, device='cuda:0')\n",
      "T: 260.000 Train Loss: 0.008850 L2-Train Loss: 0.009670 Test Accuracy: 0.00%\n",
      "grad_l2_norm =  tensor(2.2413e-07, device='cuda:0')\n",
      "T: 280.000 Train Loss: 0.008717 L2-Train Loss: 0.009512 Test Accuracy: 0.00%\n",
      "grad_l2_norm =  tensor(2.7795e-07, device='cuda:0')\n"
     ]
    },
    {
     "name": "stderr",
     "output_type": "stream",
     "text": [
      "\r",
      " 40%|█████████████████████████████████▏                                                 | 4/10 [03:06<04:40, 46.69s/it]"
     ]
    },
    {
     "name": "stdout",
     "output_type": "stream",
     "text": [
      "T: 0.020 Train Loss: 0.247084 L2-Train Loss: 10.130890 Test Accuracy: 0.00%\n",
      "grad_l2_norm =  tensor(0.0002, device='cuda:0')\n",
      "T: 20.000 Train Loss: 0.030570 L2-Train Loss: 0.198058 Test Accuracy: 0.00%\n",
      "grad_l2_norm =  tensor(2.4198e-05, device='cuda:0')\n",
      "T: 40.000 Train Loss: 0.014688 L2-Train Loss: 0.016027 Test Accuracy: 0.00%\n",
      "grad_l2_norm =  tensor(3.4553e-06, device='cuda:0')\n",
      "T: 60.000 Train Loss: 0.012808 L2-Train Loss: 0.013566 Test Accuracy: 0.00%\n",
      "grad_l2_norm =  tensor(1.9348e-06, device='cuda:0')\n",
      "T: 80.000 Train Loss: 0.011396 L2-Train Loss: 0.012454 Test Accuracy: 0.00%\n",
      "grad_l2_norm =  tensor(1.4718e-06, device='cuda:0')\n",
      "T: 100.000 Train Loss: 0.010807 L2-Train Loss: 0.011874 Test Accuracy: 0.00%\n",
      "grad_l2_norm =  tensor(7.1301e-07, device='cuda:0')\n",
      "T: 120.000 Train Loss: 0.010413 L2-Train Loss: 0.011452 Test Accuracy: 0.00%\n",
      "grad_l2_norm =  tensor(4.8932e-07, device='cuda:0')\n",
      "T: 140.000 Train Loss: 0.010108 L2-Train Loss: 0.011109 Test Accuracy: 0.00%\n",
      "grad_l2_norm =  tensor(5.1965e-07, device='cuda:0')\n",
      "T: 160.000 Train Loss: 0.009868 L2-Train Loss: 0.010837 Test Accuracy: 0.00%\n",
      "grad_l2_norm =  tensor(2.2812e-07, device='cuda:0')\n",
      "T: 180.000 Train Loss: 0.009665 L2-Train Loss: 0.010601 Test Accuracy: 0.00%\n",
      "grad_l2_norm =  tensor(3.0443e-07, device='cuda:0')\n",
      "T: 200.000 Train Loss: 0.009483 L2-Train Loss: 0.010392 Test Accuracy: 0.00%\n",
      "grad_l2_norm =  tensor(2.4546e-07, device='cuda:0')\n",
      "T: 220.000 Train Loss: 0.009307 L2-Train Loss: 0.010184 Test Accuracy: 0.00%\n",
      "grad_l2_norm =  tensor(2.4390e-07, device='cuda:0')\n",
      "T: 240.000 Train Loss: 0.009146 L2-Train Loss: 0.009998 Test Accuracy: 0.00%\n",
      "grad_l2_norm =  tensor(2.6645e-07, device='cuda:0')\n",
      "T: 260.000 Train Loss: 0.009005 L2-Train Loss: 0.009833 Test Accuracy: 0.00%\n",
      "grad_l2_norm =  tensor(2.7679e-07, device='cuda:0')\n",
      "T: 280.000 Train Loss: 0.008891 L2-Train Loss: 0.009691 Test Accuracy: 0.00%\n",
      "grad_l2_norm =  tensor(2.8217e-07, device='cuda:0')\n"
     ]
    },
    {
     "name": "stderr",
     "output_type": "stream",
     "text": [
      "\r",
      " 50%|█████████████████████████████████████████▌                                         | 5/10 [03:53<03:53, 46.72s/it]"
     ]
    },
    {
     "name": "stdout",
     "output_type": "stream",
     "text": [
      "T: 0.020 Train Loss: 0.250090 L2-Train Loss: 10.101827 Test Accuracy: 0.00%\n",
      "grad_l2_norm =  tensor(0.0002, device='cuda:0')\n",
      "T: 20.000 Train Loss: 0.022867 L2-Train Loss: 0.190474 Test Accuracy: 0.00%\n",
      "grad_l2_norm =  tensor(8.2465e-06, device='cuda:0')\n",
      "T: 40.000 Train Loss: 0.015373 L2-Train Loss: 0.016618 Test Accuracy: 0.00%\n",
      "grad_l2_norm =  tensor(3.5740e-06, device='cuda:0')\n",
      "T: 60.000 Train Loss: 0.012253 L2-Train Loss: 0.013022 Test Accuracy: 0.00%\n",
      "grad_l2_norm =  tensor(1.3422e-06, device='cuda:0')\n",
      "T: 80.000 Train Loss: 0.010929 L2-Train Loss: 0.011981 Test Accuracy: 0.00%\n",
      "grad_l2_norm =  tensor(1.2288e-06, device='cuda:0')\n",
      "T: 100.000 Train Loss: 0.010357 L2-Train Loss: 0.011420 Test Accuracy: 0.00%\n",
      "grad_l2_norm =  tensor(4.5285e-07, device='cuda:0')\n",
      "T: 120.000 Train Loss: 0.009945 L2-Train Loss: 0.010976 Test Accuracy: 0.00%\n",
      "grad_l2_norm =  tensor(3.4138e-07, device='cuda:0')\n",
      "T: 140.000 Train Loss: 0.009617 L2-Train Loss: 0.010618 Test Accuracy: 0.00%\n",
      "grad_l2_norm =  tensor(3.6075e-07, device='cuda:0')\n",
      "T: 160.000 Train Loss: 0.009328 L2-Train Loss: 0.010297 Test Accuracy: 0.00%\n",
      "grad_l2_norm =  tensor(4.6452e-07, device='cuda:0')\n",
      "T: 180.000 Train Loss: 0.009116 L2-Train Loss: 0.010050 Test Accuracy: 0.00%\n",
      "grad_l2_norm =  tensor(4.5942e-07, device='cuda:0')\n",
      "T: 200.000 Train Loss: 0.008941 L2-Train Loss: 0.009844 Test Accuracy: 0.00%\n",
      "grad_l2_norm =  tensor(4.2357e-07, device='cuda:0')\n",
      "T: 220.000 Train Loss: 0.008778 L2-Train Loss: 0.009658 Test Accuracy: 0.00%\n",
      "grad_l2_norm =  tensor(3.5787e-07, device='cuda:0')\n",
      "T: 240.000 Train Loss: 0.008635 L2-Train Loss: 0.009488 Test Accuracy: 0.00%\n",
      "grad_l2_norm =  tensor(2.8644e-07, device='cuda:0')\n",
      "T: 260.000 Train Loss: 0.008499 L2-Train Loss: 0.009326 Test Accuracy: 0.00%\n",
      "grad_l2_norm =  tensor(2.4284e-07, device='cuda:0')\n",
      "T: 280.000 Train Loss: 0.008368 L2-Train Loss: 0.009168 Test Accuracy: 0.00%\n",
      "grad_l2_norm =  tensor(2.6911e-07, device='cuda:0')\n"
     ]
    },
    {
     "name": "stderr",
     "output_type": "stream",
     "text": [
      "\r",
      " 60%|█████████████████████████████████████████████████▊                                 | 6/10 [04:39<03:06, 46.66s/it]"
     ]
    },
    {
     "name": "stdout",
     "output_type": "stream",
     "text": [
      "T: 0.020 Train Loss: 0.247266 L2-Train Loss: 10.010980 Test Accuracy: 0.00%\n",
      "grad_l2_norm =  tensor(0.0002, device='cuda:0')\n",
      "T: 20.000 Train Loss: 0.029480 L2-Train Loss: 0.195122 Test Accuracy: 0.00%\n",
      "grad_l2_norm =  tensor(1.6665e-05, device='cuda:0')\n",
      "T: 40.000 Train Loss: 0.015351 L2-Train Loss: 0.016659 Test Accuracy: 0.00%\n",
      "grad_l2_norm =  tensor(4.3008e-06, device='cuda:0')\n",
      "T: 60.000 Train Loss: 0.012582 L2-Train Loss: 0.013342 Test Accuracy: 0.00%\n",
      "grad_l2_norm =  tensor(2.4405e-06, device='cuda:0')\n",
      "T: 80.000 Train Loss: 0.011301 L2-Train Loss: 0.012342 Test Accuracy: 0.00%\n",
      "grad_l2_norm =  tensor(1.8439e-06, device='cuda:0')\n",
      "T: 100.000 Train Loss: 0.010748 L2-Train Loss: 0.011802 Test Accuracy: 0.00%\n",
      "grad_l2_norm =  tensor(4.3901e-07, device='cuda:0')\n",
      "T: 120.000 Train Loss: 0.010335 L2-Train Loss: 0.011357 Test Accuracy: 0.00%\n",
      "grad_l2_norm =  tensor(4.4233e-07, device='cuda:0')\n",
      "T: 140.000 Train Loss: 0.010040 L2-Train Loss: 0.011030 Test Accuracy: 0.00%\n",
      "grad_l2_norm =  tensor(3.3895e-07, device='cuda:0')\n",
      "T: 160.000 Train Loss: 0.009793 L2-Train Loss: 0.010752 Test Accuracy: 0.00%\n",
      "grad_l2_norm =  tensor(3.3357e-07, device='cuda:0')\n",
      "T: 180.000 Train Loss: 0.009576 L2-Train Loss: 0.010502 Test Accuracy: 0.00%\n",
      "grad_l2_norm =  tensor(2.8223e-07, device='cuda:0')\n",
      "T: 200.000 Train Loss: 0.009372 L2-Train Loss: 0.010271 Test Accuracy: 0.00%\n",
      "grad_l2_norm =  tensor(2.2335e-07, device='cuda:0')\n",
      "T: 220.000 Train Loss: 0.009202 L2-Train Loss: 0.010073 Test Accuracy: 0.00%\n",
      "grad_l2_norm =  tensor(2.6015e-07, device='cuda:0')\n",
      "T: 240.000 Train Loss: 0.009028 L2-Train Loss: 0.009871 Test Accuracy: 0.00%\n",
      "grad_l2_norm =  tensor(2.5839e-07, device='cuda:0')\n",
      "T: 260.000 Train Loss: 0.008882 L2-Train Loss: 0.009703 Test Accuracy: 0.00%\n",
      "grad_l2_norm =  tensor(4.6100e-07, device='cuda:0')\n",
      "T: 280.000 Train Loss: 0.008761 L2-Train Loss: 0.009553 Test Accuracy: 0.00%\n",
      "grad_l2_norm =  tensor(2.5928e-07, device='cuda:0')\n"
     ]
    },
    {
     "name": "stderr",
     "output_type": "stream",
     "text": [
      "\r",
      " 70%|██████████████████████████████████████████████████████████                         | 7/10 [05:26<02:19, 46.63s/it]"
     ]
    },
    {
     "name": "stdout",
     "output_type": "stream",
     "text": [
      "T: 0.020 Train Loss: 0.250561 L2-Train Loss: 10.100921 Test Accuracy: 0.00%\n",
      "grad_l2_norm =  tensor(0.0002, device='cuda:0')\n",
      "T: 20.000 Train Loss: 0.029557 L2-Train Loss: 0.196604 Test Accuracy: 0.00%\n",
      "grad_l2_norm =  tensor(1.8038e-05, device='cuda:0')\n",
      "T: 40.000 Train Loss: 0.014991 L2-Train Loss: 0.016320 Test Accuracy: 0.00%\n",
      "grad_l2_norm =  tensor(4.0475e-06, device='cuda:0')\n",
      "T: 60.000 Train Loss: 0.012699 L2-Train Loss: 0.013460 Test Accuracy: 0.00%\n",
      "grad_l2_norm =  tensor(1.5385e-06, device='cuda:0')\n",
      "T: 80.000 Train Loss: 0.011337 L2-Train Loss: 0.012394 Test Accuracy: 0.00%\n",
      "grad_l2_norm =  tensor(6.6735e-07, device='cuda:0')\n",
      "T: 100.000 Train Loss: 0.010686 L2-Train Loss: 0.011752 Test Accuracy: 0.00%\n",
      "grad_l2_norm =  tensor(3.9457e-07, device='cuda:0')\n",
      "T: 120.000 Train Loss: 0.010271 L2-Train Loss: 0.011307 Test Accuracy: 0.00%\n",
      "grad_l2_norm =  tensor(6.1473e-07, device='cuda:0')\n",
      "T: 140.000 Train Loss: 0.009902 L2-Train Loss: 0.010904 Test Accuracy: 0.00%\n",
      "grad_l2_norm =  tensor(3.5087e-07, device='cuda:0')\n",
      "T: 160.000 Train Loss: 0.009618 L2-Train Loss: 0.010587 Test Accuracy: 0.00%\n",
      "grad_l2_norm =  tensor(1.9358e-07, device='cuda:0')\n",
      "T: 180.000 Train Loss: 0.009411 L2-Train Loss: 0.010349 Test Accuracy: 0.00%\n",
      "grad_l2_norm =  tensor(4.1941e-07, device='cuda:0')\n",
      "T: 200.000 Train Loss: 0.009224 L2-Train Loss: 0.010130 Test Accuracy: 0.00%\n",
      "grad_l2_norm =  tensor(2.8324e-07, device='cuda:0')\n",
      "T: 220.000 Train Loss: 0.009048 L2-Train Loss: 0.009927 Test Accuracy: 0.00%\n",
      "grad_l2_norm =  tensor(3.2457e-07, device='cuda:0')\n",
      "T: 240.000 Train Loss: 0.008888 L2-Train Loss: 0.009739 Test Accuracy: 0.00%\n",
      "grad_l2_norm =  tensor(3.4100e-07, device='cuda:0')\n",
      "T: 260.000 Train Loss: 0.008760 L2-Train Loss: 0.009583 Test Accuracy: 0.00%\n",
      "grad_l2_norm =  tensor(2.7693e-07, device='cuda:0')\n",
      "T: 280.000 Train Loss: 0.008639 L2-Train Loss: 0.009441 Test Accuracy: 0.00%\n",
      "grad_l2_norm =  tensor(2.0922e-07, device='cuda:0')\n"
     ]
    },
    {
     "name": "stderr",
     "output_type": "stream",
     "text": [
      "\r",
      " 80%|██████████████████████████████████████████████████████████████████▍                | 8/10 [06:12<01:33, 46.56s/it]"
     ]
    },
    {
     "name": "stdout",
     "output_type": "stream",
     "text": [
      "T: 0.020 Train Loss: 0.246824 L2-Train Loss: 10.080179 Test Accuracy: 0.00%\n",
      "grad_l2_norm =  tensor(0.0002, device='cuda:0')\n",
      "T: 20.000 Train Loss: 0.024219 L2-Train Loss: 0.191535 Test Accuracy: 0.00%\n",
      "grad_l2_norm =  tensor(1.3233e-05, device='cuda:0')\n",
      "T: 40.000 Train Loss: 0.015053 L2-Train Loss: 0.016319 Test Accuracy: 0.00%\n",
      "grad_l2_norm =  tensor(3.2390e-06, device='cuda:0')\n",
      "T: 60.000 Train Loss: 0.011995 L2-Train Loss: 0.012763 Test Accuracy: 0.00%\n",
      "grad_l2_norm =  tensor(1.3292e-06, device='cuda:0')\n",
      "T: 80.000 Train Loss: 0.010757 L2-Train Loss: 0.011805 Test Accuracy: 0.00%\n",
      "grad_l2_norm =  tensor(1.4442e-06, device='cuda:0')\n",
      "T: 100.000 Train Loss: 0.010228 L2-Train Loss: 0.011287 Test Accuracy: 0.00%\n",
      "grad_l2_norm =  tensor(6.4612e-07, device='cuda:0')\n",
      "T: 120.000 Train Loss: 0.009819 L2-Train Loss: 0.010851 Test Accuracy: 0.00%\n",
      "grad_l2_norm =  tensor(2.1532e-07, device='cuda:0')\n",
      "T: 140.000 Train Loss: 0.009509 L2-Train Loss: 0.010510 Test Accuracy: 0.00%\n",
      "grad_l2_norm =  tensor(4.7252e-07, device='cuda:0')\n",
      "T: 160.000 Train Loss: 0.009251 L2-Train Loss: 0.010218 Test Accuracy: 0.00%\n",
      "grad_l2_norm =  tensor(2.7628e-07, device='cuda:0')\n",
      "T: 180.000 Train Loss: 0.009044 L2-Train Loss: 0.009980 Test Accuracy: 0.00%\n",
      "grad_l2_norm =  tensor(1.8730e-07, device='cuda:0')\n",
      "T: 200.000 Train Loss: 0.008850 L2-Train Loss: 0.009757 Test Accuracy: 0.00%\n",
      "grad_l2_norm =  tensor(5.1633e-07, device='cuda:0')\n",
      "T: 220.000 Train Loss: 0.008676 L2-Train Loss: 0.009553 Test Accuracy: 0.00%\n",
      "grad_l2_norm =  tensor(2.9579e-07, device='cuda:0')\n",
      "T: 240.000 Train Loss: 0.008531 L2-Train Loss: 0.009383 Test Accuracy: 0.00%\n",
      "grad_l2_norm =  tensor(2.7848e-07, device='cuda:0')\n",
      "T: 260.000 Train Loss: 0.008389 L2-Train Loss: 0.009215 Test Accuracy: 0.00%\n",
      "grad_l2_norm =  tensor(5.4638e-07, device='cuda:0')\n",
      "T: 280.000 Train Loss: 0.008258 L2-Train Loss: 0.009058 Test Accuracy: 0.00%\n",
      "grad_l2_norm =  tensor(3.5083e-07, device='cuda:0')\n"
     ]
    },
    {
     "name": "stderr",
     "output_type": "stream",
     "text": [
      "\r",
      " 90%|██████████████████████████████████████████████████████████████████████████▋        | 9/10 [06:59<00:46, 46.55s/it]"
     ]
    },
    {
     "name": "stdout",
     "output_type": "stream",
     "text": [
      "T: 0.020 Train Loss: 0.248244 L2-Train Loss: 10.040898 Test Accuracy: 0.00%\n",
      "grad_l2_norm =  tensor(0.0002, device='cuda:0')\n",
      "T: 20.000 Train Loss: 0.029023 L2-Train Loss: 0.195181 Test Accuracy: 0.00%\n",
      "grad_l2_norm =  tensor(1.7301e-05, device='cuda:0')\n",
      "T: 40.000 Train Loss: 0.014968 L2-Train Loss: 0.016307 Test Accuracy: 0.00%\n",
      "grad_l2_norm =  tensor(3.7940e-06, device='cuda:0')\n",
      "T: 60.000 Train Loss: 0.012697 L2-Train Loss: 0.013467 Test Accuracy: 0.00%\n",
      "grad_l2_norm =  tensor(1.3225e-06, device='cuda:0')\n",
      "T: 80.000 Train Loss: 0.011124 L2-Train Loss: 0.012179 Test Accuracy: 0.00%\n",
      "grad_l2_norm =  tensor(2.3587e-06, device='cuda:0')\n",
      "T: 100.000 Train Loss: 0.010469 L2-Train Loss: 0.011531 Test Accuracy: 0.00%\n",
      "grad_l2_norm =  tensor(3.2823e-07, device='cuda:0')\n",
      "T: 120.000 Train Loss: 0.009968 L2-Train Loss: 0.011000 Test Accuracy: 0.00%\n",
      "grad_l2_norm =  tensor(5.5984e-07, device='cuda:0')\n",
      "T: 140.000 Train Loss: 0.009649 L2-Train Loss: 0.010645 Test Accuracy: 0.00%\n",
      "grad_l2_norm =  tensor(1.9167e-07, device='cuda:0')\n",
      "T: 160.000 Train Loss: 0.009390 L2-Train Loss: 0.010356 Test Accuracy: 0.00%\n",
      "grad_l2_norm =  tensor(2.7928e-07, device='cuda:0')\n",
      "T: 180.000 Train Loss: 0.009181 L2-Train Loss: 0.010115 Test Accuracy: 0.00%\n",
      "grad_l2_norm =  tensor(2.3706e-07, device='cuda:0')\n",
      "T: 200.000 Train Loss: 0.009012 L2-Train Loss: 0.009917 Test Accuracy: 0.00%\n",
      "grad_l2_norm =  tensor(2.3595e-07, device='cuda:0')\n",
      "T: 220.000 Train Loss: 0.008850 L2-Train Loss: 0.009729 Test Accuracy: 0.00%\n",
      "grad_l2_norm =  tensor(2.0535e-07, device='cuda:0')\n",
      "T: 240.000 Train Loss: 0.008699 L2-Train Loss: 0.009548 Test Accuracy: 0.00%\n",
      "grad_l2_norm =  tensor(3.0225e-07, device='cuda:0')\n",
      "T: 260.000 Train Loss: 0.008543 L2-Train Loss: 0.009368 Test Accuracy: 0.00%\n",
      "grad_l2_norm =  tensor(2.5047e-07, device='cuda:0')\n",
      "T: 280.000 Train Loss: 0.008410 L2-Train Loss: 0.009211 Test Accuracy: 0.00%\n",
      "grad_l2_norm =  tensor(4.4968e-07, device='cuda:0')\n"
     ]
    },
    {
     "name": "stderr",
     "output_type": "stream",
     "text": [
      "100%|██████████████████████████████████████████████████████████████████████████████████| 10/10 [07:45<00:00, 46.59s/it]\n"
     ]
    },
    {
     "name": "stdout",
     "output_type": "stream",
     "text": [
      "Finish test particle_num=256.0000 cutoff = 500.00 lr = 0.020 lr2 = 0.020 momentum = 1.00 avg_trainloss=8.504e-03 avg_L2_trainloss=9.285e-03\n"
     ]
    },
    {
     "name": "stderr",
     "output_type": "stream",
     "text": [
      "\r",
      "  0%|                                                                                           | 0/10 [00:00<?, ?it/s]"
     ]
    },
    {
     "name": "stdout",
     "output_type": "stream",
     "text": [
      "T: 0.020 Train Loss: 0.250361 L2-Train Loss: 10.048106 Test Accuracy: 0.00%\n",
      "grad_l2_norm =  tensor(0.0001, device='cuda:0')\n",
      "T: 20.000 Train Loss: 0.024137 L2-Train Loss: 0.190393 Test Accuracy: 0.00%\n",
      "grad_l2_norm =  tensor(9.0591e-06, device='cuda:0')\n",
      "T: 40.000 Train Loss: 0.012964 L2-Train Loss: 0.014243 Test Accuracy: 0.00%\n",
      "grad_l2_norm =  tensor(1.7620e-06, device='cuda:0')\n",
      "T: 60.000 Train Loss: 0.010887 L2-Train Loss: 0.011644 Test Accuracy: 0.00%\n",
      "grad_l2_norm =  tensor(8.2643e-07, device='cuda:0')\n",
      "T: 80.000 Train Loss: 0.009784 L2-Train Loss: 0.010829 Test Accuracy: 0.00%\n",
      "grad_l2_norm =  tensor(3.2483e-07, device='cuda:0')\n",
      "T: 100.000 Train Loss: 0.009304 L2-Train Loss: 0.010361 Test Accuracy: 0.00%\n",
      "grad_l2_norm =  tensor(1.9032e-07, device='cuda:0')\n",
      "T: 120.000 Train Loss: 0.008958 L2-Train Loss: 0.009986 Test Accuracy: 0.00%\n",
      "grad_l2_norm =  tensor(1.1747e-07, device='cuda:0')\n",
      "T: 140.000 Train Loss: 0.008687 L2-Train Loss: 0.009682 Test Accuracy: 0.00%\n",
      "grad_l2_norm =  tensor(1.5285e-07, device='cuda:0')\n",
      "T: 160.000 Train Loss: 0.008472 L2-Train Loss: 0.009434 Test Accuracy: 0.00%\n",
      "grad_l2_norm =  tensor(1.5382e-07, device='cuda:0')\n",
      "T: 180.000 Train Loss: 0.008283 L2-Train Loss: 0.009215 Test Accuracy: 0.00%\n",
      "grad_l2_norm =  tensor(2.7518e-07, device='cuda:0')\n",
      "T: 200.000 Train Loss: 0.008120 L2-Train Loss: 0.009022 Test Accuracy: 0.00%\n",
      "grad_l2_norm =  tensor(1.1386e-07, device='cuda:0')\n",
      "T: 220.000 Train Loss: 0.007975 L2-Train Loss: 0.008849 Test Accuracy: 0.00%\n",
      "grad_l2_norm =  tensor(1.0402e-07, device='cuda:0')\n",
      "T: 240.000 Train Loss: 0.007842 L2-Train Loss: 0.008687 Test Accuracy: 0.00%\n",
      "grad_l2_norm =  tensor(1.0887e-07, device='cuda:0')\n",
      "T: 260.000 Train Loss: 0.007725 L2-Train Loss: 0.008546 Test Accuracy: 0.00%\n",
      "grad_l2_norm =  tensor(1.5993e-07, device='cuda:0')\n",
      "T: 280.000 Train Loss: 0.007613 L2-Train Loss: 0.008411 Test Accuracy: 0.00%\n",
      "grad_l2_norm =  tensor(1.0483e-07, device='cuda:0')\n"
     ]
    },
    {
     "name": "stderr",
     "output_type": "stream",
     "text": [
      "\r",
      " 10%|████████▎                                                                          | 1/10 [01:17<11:39, 77.67s/it]"
     ]
    },
    {
     "name": "stdout",
     "output_type": "stream",
     "text": [
      "T: 0.020 Train Loss: 0.249897 L2-Train Loss: 9.997134 Test Accuracy: 0.00%\n",
      "grad_l2_norm =  tensor(0.0001, device='cuda:0')\n",
      "T: 20.000 Train Loss: 0.024975 L2-Train Loss: 0.190344 Test Accuracy: 0.00%\n",
      "grad_l2_norm =  tensor(8.0592e-06, device='cuda:0')\n",
      "T: 40.000 Train Loss: 0.013269 L2-Train Loss: 0.014553 Test Accuracy: 0.00%\n",
      "grad_l2_norm =  tensor(1.8075e-06, device='cuda:0')\n",
      "T: 60.000 Train Loss: 0.011168 L2-Train Loss: 0.011923 Test Accuracy: 0.00%\n",
      "grad_l2_norm =  tensor(1.5288e-06, device='cuda:0')\n",
      "T: 80.000 Train Loss: 0.009940 L2-Train Loss: 0.010985 Test Accuracy: 0.00%\n",
      "grad_l2_norm =  tensor(3.2327e-07, device='cuda:0')\n",
      "T: 100.000 Train Loss: 0.009427 L2-Train Loss: 0.010483 Test Accuracy: 0.00%\n",
      "grad_l2_norm =  tensor(1.3985e-07, device='cuda:0')\n",
      "T: 120.000 Train Loss: 0.009048 L2-Train Loss: 0.010075 Test Accuracy: 0.00%\n",
      "grad_l2_norm =  tensor(2.0329e-07, device='cuda:0')\n",
      "T: 140.000 Train Loss: 0.008757 L2-Train Loss: 0.009749 Test Accuracy: 0.00%\n",
      "grad_l2_norm =  tensor(2.1125e-07, device='cuda:0')\n",
      "T: 160.000 Train Loss: 0.008528 L2-Train Loss: 0.009486 Test Accuracy: 0.00%\n",
      "grad_l2_norm =  tensor(1.5942e-07, device='cuda:0')\n",
      "T: 180.000 Train Loss: 0.008321 L2-Train Loss: 0.009249 Test Accuracy: 0.00%\n",
      "grad_l2_norm =  tensor(1.2193e-07, device='cuda:0')\n",
      "T: 200.000 Train Loss: 0.008135 L2-Train Loss: 0.009034 Test Accuracy: 0.00%\n",
      "grad_l2_norm =  tensor(1.2656e-07, device='cuda:0')\n",
      "T: 220.000 Train Loss: 0.007968 L2-Train Loss: 0.008841 Test Accuracy: 0.00%\n",
      "grad_l2_norm =  tensor(1.1913e-07, device='cuda:0')\n",
      "T: 240.000 Train Loss: 0.007824 L2-Train Loss: 0.008669 Test Accuracy: 0.00%\n",
      "grad_l2_norm =  tensor(1.6265e-07, device='cuda:0')\n",
      "T: 260.000 Train Loss: 0.007687 L2-Train Loss: 0.008505 Test Accuracy: 0.00%\n",
      "grad_l2_norm =  tensor(8.9482e-08, device='cuda:0')\n",
      "T: 280.000 Train Loss: 0.007562 L2-Train Loss: 0.008357 Test Accuracy: 0.00%\n",
      "grad_l2_norm =  tensor(1.5811e-07, device='cuda:0')\n"
     ]
    },
    {
     "name": "stderr",
     "output_type": "stream",
     "text": [
      "\r",
      " 20%|████████████████▌                                                                  | 2/10 [02:35<10:21, 77.65s/it]"
     ]
    },
    {
     "name": "stdout",
     "output_type": "stream",
     "text": [
      "T: 0.020 Train Loss: 0.249441 L2-Train Loss: 10.061451 Test Accuracy: 0.00%\n",
      "grad_l2_norm =  tensor(0.0001, device='cuda:0')\n",
      "T: 20.000 Train Loss: 0.027849 L2-Train Loss: 0.194119 Test Accuracy: 0.00%\n",
      "grad_l2_norm =  tensor(1.0360e-05, device='cuda:0')\n",
      "T: 40.000 Train Loss: 0.013105 L2-Train Loss: 0.014444 Test Accuracy: 0.00%\n",
      "grad_l2_norm =  tensor(2.0025e-06, device='cuda:0')\n",
      "T: 60.000 Train Loss: 0.011443 L2-Train Loss: 0.012199 Test Accuracy: 0.00%\n",
      "grad_l2_norm =  tensor(7.2398e-07, device='cuda:0')\n",
      "T: 80.000 Train Loss: 0.010128 L2-Train Loss: 0.011177 Test Accuracy: 0.00%\n",
      "grad_l2_norm =  tensor(4.5173e-07, device='cuda:0')\n",
      "T: 100.000 Train Loss: 0.009639 L2-Train Loss: 0.010697 Test Accuracy: 0.00%\n",
      "grad_l2_norm =  tensor(1.3812e-07, device='cuda:0')\n",
      "T: 120.000 Train Loss: 0.009243 L2-Train Loss: 0.010274 Test Accuracy: 0.00%\n",
      "grad_l2_norm =  tensor(2.1848e-07, device='cuda:0')\n",
      "T: 140.000 Train Loss: 0.008961 L2-Train Loss: 0.009956 Test Accuracy: 0.00%\n",
      "grad_l2_norm =  tensor(1.5239e-07, device='cuda:0')\n",
      "T: 160.000 Train Loss: 0.008738 L2-Train Loss: 0.009702 Test Accuracy: 0.00%\n",
      "grad_l2_norm =  tensor(1.8086e-07, device='cuda:0')\n",
      "T: 180.000 Train Loss: 0.008527 L2-Train Loss: 0.009462 Test Accuracy: 0.00%\n",
      "grad_l2_norm =  tensor(1.3420e-07, device='cuda:0')\n",
      "T: 200.000 Train Loss: 0.008349 L2-Train Loss: 0.009253 Test Accuracy: 0.00%\n",
      "grad_l2_norm =  tensor(1.1085e-07, device='cuda:0')\n",
      "T: 220.000 Train Loss: 0.008188 L2-Train Loss: 0.009063 Test Accuracy: 0.00%\n",
      "grad_l2_norm =  tensor(1.2971e-07, device='cuda:0')\n",
      "T: 240.000 Train Loss: 0.008040 L2-Train Loss: 0.008890 Test Accuracy: 0.00%\n",
      "grad_l2_norm =  tensor(1.5792e-07, device='cuda:0')\n",
      "T: 260.000 Train Loss: 0.007899 L2-Train Loss: 0.008721 Test Accuracy: 0.00%\n",
      "grad_l2_norm =  tensor(1.3631e-07, device='cuda:0')\n",
      "T: 280.000 Train Loss: 0.007777 L2-Train Loss: 0.008574 Test Accuracy: 0.00%\n",
      "grad_l2_norm =  tensor(1.4754e-07, device='cuda:0')\n"
     ]
    },
    {
     "name": "stderr",
     "output_type": "stream",
     "text": [
      "\r",
      " 30%|████████████████████████▉                                                          | 3/10 [03:53<09:04, 77.72s/it]"
     ]
    },
    {
     "name": "stdout",
     "output_type": "stream",
     "text": [
      "T: 0.020 Train Loss: 0.250278 L2-Train Loss: 10.052007 Test Accuracy: 0.00%\n",
      "grad_l2_norm =  tensor(0.0001, device='cuda:0')\n",
      "T: 20.000 Train Loss: 0.028969 L2-Train Loss: 0.195267 Test Accuracy: 0.00%\n",
      "grad_l2_norm =  tensor(1.0522e-05, device='cuda:0')\n",
      "T: 40.000 Train Loss: 0.012965 L2-Train Loss: 0.014320 Test Accuracy: 0.00%\n",
      "grad_l2_norm =  tensor(1.7085e-06, device='cuda:0')\n",
      "T: 60.000 Train Loss: 0.011501 L2-Train Loss: 0.012258 Test Accuracy: 0.00%\n",
      "grad_l2_norm =  tensor(7.3000e-07, device='cuda:0')\n",
      "T: 80.000 Train Loss: 0.010100 L2-Train Loss: 0.011153 Test Accuracy: 0.00%\n",
      "grad_l2_norm =  tensor(3.0645e-07, device='cuda:0')\n",
      "T: 100.000 Train Loss: 0.009587 L2-Train Loss: 0.010646 Test Accuracy: 0.00%\n",
      "grad_l2_norm =  tensor(1.8249e-07, device='cuda:0')\n",
      "T: 120.000 Train Loss: 0.009204 L2-Train Loss: 0.010235 Test Accuracy: 0.00%\n",
      "grad_l2_norm =  tensor(3.6146e-07, device='cuda:0')\n",
      "T: 140.000 Train Loss: 0.008914 L2-Train Loss: 0.009909 Test Accuracy: 0.00%\n",
      "grad_l2_norm =  tensor(1.0635e-07, device='cuda:0')\n",
      "T: 160.000 Train Loss: 0.008684 L2-Train Loss: 0.009648 Test Accuracy: 0.00%\n",
      "grad_l2_norm =  tensor(1.1557e-07, device='cuda:0')\n",
      "T: 180.000 Train Loss: 0.008487 L2-Train Loss: 0.009421 Test Accuracy: 0.00%\n",
      "grad_l2_norm =  tensor(2.0386e-07, device='cuda:0')\n",
      "T: 200.000 Train Loss: 0.008305 L2-Train Loss: 0.009210 Test Accuracy: 0.00%\n",
      "grad_l2_norm =  tensor(1.1076e-07, device='cuda:0')\n",
      "T: 220.000 Train Loss: 0.008141 L2-Train Loss: 0.009015 Test Accuracy: 0.00%\n",
      "grad_l2_norm =  tensor(1.3443e-07, device='cuda:0')\n",
      "T: 240.000 Train Loss: 0.007998 L2-Train Loss: 0.008845 Test Accuracy: 0.00%\n",
      "grad_l2_norm =  tensor(1.4396e-07, device='cuda:0')\n",
      "T: 260.000 Train Loss: 0.007870 L2-Train Loss: 0.008694 Test Accuracy: 0.00%\n",
      "grad_l2_norm =  tensor(1.1858e-07, device='cuda:0')\n",
      "T: 280.000 Train Loss: 0.007750 L2-Train Loss: 0.008547 Test Accuracy: 0.00%\n",
      "grad_l2_norm =  tensor(1.0851e-07, device='cuda:0')\n"
     ]
    },
    {
     "name": "stderr",
     "output_type": "stream",
     "text": [
      "\r",
      " 40%|█████████████████████████████████▏                                                 | 4/10 [05:10<07:46, 77.75s/it]"
     ]
    },
    {
     "name": "stdout",
     "output_type": "stream",
     "text": [
      "T: 0.020 Train Loss: 0.250195 L2-Train Loss: 10.031583 Test Accuracy: 0.00%\n",
      "grad_l2_norm =  tensor(0.0001, device='cuda:0')\n",
      "T: 20.000 Train Loss: 0.027882 L2-Train Loss: 0.193581 Test Accuracy: 0.00%\n",
      "grad_l2_norm =  tensor(9.9273e-06, device='cuda:0')\n",
      "T: 40.000 Train Loss: 0.014128 L2-Train Loss: 0.015432 Test Accuracy: 0.00%\n",
      "grad_l2_norm =  tensor(1.6909e-06, device='cuda:0')\n",
      "T: 60.000 Train Loss: 0.011693 L2-Train Loss: 0.012454 Test Accuracy: 0.00%\n",
      "grad_l2_norm =  tensor(6.9451e-07, device='cuda:0')\n",
      "T: 80.000 Train Loss: 0.010450 L2-Train Loss: 0.011494 Test Accuracy: 0.00%\n",
      "grad_l2_norm =  tensor(4.7792e-07, device='cuda:0')\n",
      "T: 100.000 Train Loss: 0.009906 L2-Train Loss: 0.010963 Test Accuracy: 0.00%\n",
      "grad_l2_norm =  tensor(1.6424e-07, device='cuda:0')\n",
      "T: 120.000 Train Loss: 0.009496 L2-Train Loss: 0.010525 Test Accuracy: 0.00%\n",
      "grad_l2_norm =  tensor(1.9671e-07, device='cuda:0')\n",
      "T: 140.000 Train Loss: 0.009187 L2-Train Loss: 0.010182 Test Accuracy: 0.00%\n",
      "grad_l2_norm =  tensor(1.4322e-07, device='cuda:0')\n",
      "T: 160.000 Train Loss: 0.008942 L2-Train Loss: 0.009904 Test Accuracy: 0.00%\n",
      "grad_l2_norm =  tensor(1.3654e-07, device='cuda:0')\n",
      "T: 180.000 Train Loss: 0.008726 L2-Train Loss: 0.009657 Test Accuracy: 0.00%\n",
      "grad_l2_norm =  tensor(1.8960e-07, device='cuda:0')\n",
      "T: 200.000 Train Loss: 0.008546 L2-Train Loss: 0.009447 Test Accuracy: 0.00%\n",
      "grad_l2_norm =  tensor(1.5151e-07, device='cuda:0')\n",
      "T: 220.000 Train Loss: 0.008381 L2-Train Loss: 0.009253 Test Accuracy: 0.00%\n",
      "grad_l2_norm =  tensor(1.7093e-07, device='cuda:0')\n",
      "T: 240.000 Train Loss: 0.008217 L2-Train Loss: 0.009063 Test Accuracy: 0.00%\n",
      "grad_l2_norm =  tensor(4.4396e-07, device='cuda:0')\n",
      "T: 260.000 Train Loss: 0.008073 L2-Train Loss: 0.008891 Test Accuracy: 0.00%\n",
      "grad_l2_norm =  tensor(1.3505e-07, device='cuda:0')\n",
      "T: 280.000 Train Loss: 0.007940 L2-Train Loss: 0.008737 Test Accuracy: 0.00%\n",
      "grad_l2_norm =  tensor(1.3140e-07, device='cuda:0')\n"
     ]
    },
    {
     "name": "stderr",
     "output_type": "stream",
     "text": [
      "\r",
      " 50%|█████████████████████████████████████████▌                                         | 5/10 [06:28<06:29, 77.82s/it]"
     ]
    },
    {
     "name": "stdout",
     "output_type": "stream",
     "text": [
      "T: 0.020 Train Loss: 0.251761 L2-Train Loss: 10.059016 Test Accuracy: 0.00%\n",
      "grad_l2_norm =  tensor(0.0001, device='cuda:0')\n",
      "T: 20.000 Train Loss: 0.026126 L2-Train Loss: 0.192617 Test Accuracy: 0.00%\n",
      "grad_l2_norm =  tensor(7.6631e-06, device='cuda:0')\n",
      "T: 40.000 Train Loss: 0.013870 L2-Train Loss: 0.015177 Test Accuracy: 0.00%\n",
      "grad_l2_norm =  tensor(2.1498e-06, device='cuda:0')\n",
      "T: 60.000 Train Loss: 0.011562 L2-Train Loss: 0.012321 Test Accuracy: 0.00%\n",
      "grad_l2_norm =  tensor(6.7382e-07, device='cuda:0')\n",
      "T: 80.000 Train Loss: 0.010312 L2-Train Loss: 0.011361 Test Accuracy: 0.00%\n",
      "grad_l2_norm =  tensor(4.7821e-07, device='cuda:0')\n",
      "T: 100.000 Train Loss: 0.009756 L2-Train Loss: 0.010816 Test Accuracy: 0.00%\n",
      "grad_l2_norm =  tensor(2.9559e-07, device='cuda:0')\n",
      "T: 120.000 Train Loss: 0.009353 L2-Train Loss: 0.010386 Test Accuracy: 0.00%\n",
      "grad_l2_norm =  tensor(1.8097e-07, device='cuda:0')\n",
      "T: 140.000 Train Loss: 0.009027 L2-Train Loss: 0.010026 Test Accuracy: 0.00%\n",
      "grad_l2_norm =  tensor(1.2939e-07, device='cuda:0')\n",
      "T: 160.000 Train Loss: 0.008785 L2-Train Loss: 0.009747 Test Accuracy: 0.00%\n",
      "grad_l2_norm =  tensor(3.8229e-07, device='cuda:0')\n",
      "T: 180.000 Train Loss: 0.008563 L2-Train Loss: 0.009497 Test Accuracy: 0.00%\n",
      "grad_l2_norm =  tensor(2.1122e-07, device='cuda:0')\n",
      "T: 200.000 Train Loss: 0.008380 L2-Train Loss: 0.009283 Test Accuracy: 0.00%\n",
      "grad_l2_norm =  tensor(1.4778e-07, device='cuda:0')\n",
      "T: 220.000 Train Loss: 0.008209 L2-Train Loss: 0.009085 Test Accuracy: 0.00%\n",
      "grad_l2_norm =  tensor(1.5384e-07, device='cuda:0')\n",
      "T: 240.000 Train Loss: 0.008061 L2-Train Loss: 0.008911 Test Accuracy: 0.00%\n",
      "grad_l2_norm =  tensor(1.7643e-07, device='cuda:0')\n",
      "T: 260.000 Train Loss: 0.007926 L2-Train Loss: 0.008750 Test Accuracy: 0.00%\n",
      "grad_l2_norm =  tensor(1.3830e-07, device='cuda:0')\n",
      "T: 280.000 Train Loss: 0.007799 L2-Train Loss: 0.008596 Test Accuracy: 0.00%\n",
      "grad_l2_norm =  tensor(1.3560e-07, device='cuda:0')\n"
     ]
    },
    {
     "name": "stderr",
     "output_type": "stream",
     "text": [
      "\r",
      " 60%|█████████████████████████████████████████████████▊                                 | 6/10 [07:46<05:11, 77.86s/it]"
     ]
    },
    {
     "name": "stdout",
     "output_type": "stream",
     "text": [
      "T: 0.020 Train Loss: 0.250041 L2-Train Loss: 10.064849 Test Accuracy: 0.00%\n",
      "grad_l2_norm =  tensor(0.0001, device='cuda:0')\n",
      "T: 20.000 Train Loss: 0.027760 L2-Train Loss: 0.194318 Test Accuracy: 0.00%\n",
      "grad_l2_norm =  tensor(1.0388e-05, device='cuda:0')\n",
      "T: 40.000 Train Loss: 0.012595 L2-Train Loss: 0.013955 Test Accuracy: 0.00%\n",
      "grad_l2_norm =  tensor(1.9522e-06, device='cuda:0')\n",
      "T: 60.000 Train Loss: 0.011187 L2-Train Loss: 0.011941 Test Accuracy: 0.00%\n",
      "grad_l2_norm =  tensor(8.9224e-07, device='cuda:0')\n",
      "T: 80.000 Train Loss: 0.009859 L2-Train Loss: 0.010910 Test Accuracy: 0.00%\n",
      "grad_l2_norm =  tensor(5.0966e-07, device='cuda:0')\n",
      "T: 100.000 Train Loss: 0.009397 L2-Train Loss: 0.010457 Test Accuracy: 0.00%\n",
      "grad_l2_norm =  tensor(5.7647e-07, device='cuda:0')\n",
      "T: 120.000 Train Loss: 0.009056 L2-Train Loss: 0.010087 Test Accuracy: 0.00%\n",
      "grad_l2_norm =  tensor(1.6375e-07, device='cuda:0')\n",
      "T: 140.000 Train Loss: 0.008766 L2-Train Loss: 0.009761 Test Accuracy: 0.00%\n",
      "grad_l2_norm =  tensor(3.6680e-07, device='cuda:0')\n",
      "T: 160.000 Train Loss: 0.008559 L2-Train Loss: 0.009522 Test Accuracy: 0.00%\n",
      "grad_l2_norm =  tensor(1.1876e-07, device='cuda:0')\n",
      "T: 180.000 Train Loss: 0.008366 L2-Train Loss: 0.009301 Test Accuracy: 0.00%\n",
      "grad_l2_norm =  tensor(1.5395e-07, device='cuda:0')\n",
      "T: 200.000 Train Loss: 0.008193 L2-Train Loss: 0.009099 Test Accuracy: 0.00%\n",
      "grad_l2_norm =  tensor(1.4001e-07, device='cuda:0')\n",
      "T: 220.000 Train Loss: 0.008042 L2-Train Loss: 0.008918 Test Accuracy: 0.00%\n",
      "grad_l2_norm =  tensor(1.2069e-07, device='cuda:0')\n",
      "T: 240.000 Train Loss: 0.007907 L2-Train Loss: 0.008755 Test Accuracy: 0.00%\n",
      "grad_l2_norm =  tensor(9.8552e-08, device='cuda:0')\n",
      "T: 260.000 Train Loss: 0.007779 L2-Train Loss: 0.008602 Test Accuracy: 0.00%\n",
      "grad_l2_norm =  tensor(1.1073e-07, device='cuda:0')\n",
      "T: 280.000 Train Loss: 0.007663 L2-Train Loss: 0.008462 Test Accuracy: 0.00%\n",
      "grad_l2_norm =  tensor(1.0420e-07, device='cuda:0')\n"
     ]
    },
    {
     "name": "stderr",
     "output_type": "stream",
     "text": [
      "\r",
      " 70%|██████████████████████████████████████████████████████████                         | 7/10 [09:04<03:53, 77.88s/it]"
     ]
    },
    {
     "name": "stdout",
     "output_type": "stream",
     "text": [
      "T: 0.020 Train Loss: 0.250812 L2-Train Loss: 10.021303 Test Accuracy: 0.00%\n",
      "grad_l2_norm =  tensor(0.0001, device='cuda:0')\n",
      "T: 20.000 Train Loss: 0.024044 L2-Train Loss: 0.190207 Test Accuracy: 0.00%\n",
      "grad_l2_norm =  tensor(6.8789e-06, device='cuda:0')\n",
      "T: 40.000 Train Loss: 0.014496 L2-Train Loss: 0.015771 Test Accuracy: 0.00%\n",
      "grad_l2_norm =  tensor(1.7726e-06, device='cuda:0')\n",
      "T: 60.000 Train Loss: 0.011599 L2-Train Loss: 0.012370 Test Accuracy: 0.00%\n",
      "grad_l2_norm =  tensor(6.2515e-07, device='cuda:0')\n",
      "T: 80.000 Train Loss: 0.010201 L2-Train Loss: 0.011256 Test Accuracy: 0.00%\n",
      "grad_l2_norm =  tensor(5.8015e-07, device='cuda:0')\n",
      "T: 100.000 Train Loss: 0.009585 L2-Train Loss: 0.010647 Test Accuracy: 0.00%\n",
      "grad_l2_norm =  tensor(2.3354e-07, device='cuda:0')\n",
      "T: 120.000 Train Loss: 0.009116 L2-Train Loss: 0.010150 Test Accuracy: 0.00%\n",
      "grad_l2_norm =  tensor(2.4668e-07, device='cuda:0')\n",
      "T: 140.000 Train Loss: 0.008775 L2-Train Loss: 0.009772 Test Accuracy: 0.00%\n",
      "grad_l2_norm =  tensor(1.5332e-07, device='cuda:0')\n",
      "T: 160.000 Train Loss: 0.008498 L2-Train Loss: 0.009465 Test Accuracy: 0.00%\n",
      "grad_l2_norm =  tensor(1.1681e-07, device='cuda:0')\n",
      "T: 180.000 Train Loss: 0.008277 L2-Train Loss: 0.009211 Test Accuracy: 0.00%\n",
      "grad_l2_norm =  tensor(1.2674e-07, device='cuda:0')\n",
      "T: 200.000 Train Loss: 0.008087 L2-Train Loss: 0.008991 Test Accuracy: 0.00%\n",
      "grad_l2_norm =  tensor(1.4355e-07, device='cuda:0')\n",
      "T: 220.000 Train Loss: 0.007912 L2-Train Loss: 0.008785 Test Accuracy: 0.00%\n",
      "grad_l2_norm =  tensor(1.0004e-07, device='cuda:0')\n",
      "T: 240.000 Train Loss: 0.007757 L2-Train Loss: 0.008609 Test Accuracy: 0.00%\n",
      "grad_l2_norm =  tensor(1.1088e-07, device='cuda:0')\n",
      "T: 260.000 Train Loss: 0.007610 L2-Train Loss: 0.008433 Test Accuracy: 0.00%\n",
      "grad_l2_norm =  tensor(1.1757e-07, device='cuda:0')\n",
      "T: 280.000 Train Loss: 0.007468 L2-Train Loss: 0.008268 Test Accuracy: 0.00%\n",
      "grad_l2_norm =  tensor(1.2287e-07, device='cuda:0')\n"
     ]
    },
    {
     "name": "stderr",
     "output_type": "stream",
     "text": [
      "\r",
      " 80%|██████████████████████████████████████████████████████████████████▍                | 8/10 [10:22<02:35, 77.88s/it]"
     ]
    },
    {
     "name": "stdout",
     "output_type": "stream",
     "text": [
      "T: 0.020 Train Loss: 0.250736 L2-Train Loss: 10.012012 Test Accuracy: 0.00%\n",
      "grad_l2_norm =  tensor(0.0001, device='cuda:0')\n",
      "T: 20.000 Train Loss: 0.024505 L2-Train Loss: 0.190301 Test Accuracy: 0.00%\n",
      "grad_l2_norm =  tensor(7.1188e-06, device='cuda:0')\n",
      "T: 40.000 Train Loss: 0.013626 L2-Train Loss: 0.014917 Test Accuracy: 0.00%\n",
      "grad_l2_norm =  tensor(1.6458e-06, device='cuda:0')\n",
      "T: 60.000 Train Loss: 0.011333 L2-Train Loss: 0.012094 Test Accuracy: 0.00%\n",
      "grad_l2_norm =  tensor(1.1264e-06, device='cuda:0')\n",
      "T: 80.000 Train Loss: 0.010045 L2-Train Loss: 0.011093 Test Accuracy: 0.00%\n",
      "grad_l2_norm =  tensor(4.2437e-07, device='cuda:0')\n",
      "T: 100.000 Train Loss: 0.009471 L2-Train Loss: 0.010529 Test Accuracy: 0.00%\n",
      "grad_l2_norm =  tensor(3.5509e-07, device='cuda:0')\n",
      "T: 120.000 Train Loss: 0.009077 L2-Train Loss: 0.010106 Test Accuracy: 0.00%\n",
      "grad_l2_norm =  tensor(1.6833e-07, device='cuda:0')\n",
      "T: 140.000 Train Loss: 0.008773 L2-Train Loss: 0.009766 Test Accuracy: 0.00%\n",
      "grad_l2_norm =  tensor(2.2950e-07, device='cuda:0')\n",
      "T: 160.000 Train Loss: 0.008523 L2-Train Loss: 0.009485 Test Accuracy: 0.00%\n",
      "grad_l2_norm =  tensor(2.1769e-07, device='cuda:0')\n",
      "T: 180.000 Train Loss: 0.008308 L2-Train Loss: 0.009241 Test Accuracy: 0.00%\n",
      "grad_l2_norm =  tensor(2.0793e-07, device='cuda:0')\n",
      "T: 200.000 Train Loss: 0.008118 L2-Train Loss: 0.009020 Test Accuracy: 0.00%\n",
      "grad_l2_norm =  tensor(1.1030e-07, device='cuda:0')\n",
      "T: 220.000 Train Loss: 0.007966 L2-Train Loss: 0.008840 Test Accuracy: 0.00%\n",
      "grad_l2_norm =  tensor(1.0100e-07, device='cuda:0')\n",
      "T: 240.000 Train Loss: 0.007833 L2-Train Loss: 0.008679 Test Accuracy: 0.00%\n",
      "grad_l2_norm =  tensor(1.1187e-07, device='cuda:0')\n",
      "T: 260.000 Train Loss: 0.007700 L2-Train Loss: 0.008519 Test Accuracy: 0.00%\n",
      "grad_l2_norm =  tensor(1.1490e-07, device='cuda:0')\n",
      "T: 280.000 Train Loss: 0.007578 L2-Train Loss: 0.008373 Test Accuracy: 0.00%\n",
      "grad_l2_norm =  tensor(1.2500e-07, device='cuda:0')\n"
     ]
    },
    {
     "name": "stderr",
     "output_type": "stream",
     "text": [
      "\r",
      " 90%|██████████████████████████████████████████████████████████████████████████▋        | 9/10 [11:40<01:17, 77.84s/it]"
     ]
    },
    {
     "name": "stdout",
     "output_type": "stream",
     "text": [
      "T: 0.020 Train Loss: 0.249984 L2-Train Loss: 10.030788 Test Accuracy: 0.00%\n",
      "grad_l2_norm =  tensor(0.0001, device='cuda:0')\n",
      "T: 20.000 Train Loss: 0.027681 L2-Train Loss: 0.193333 Test Accuracy: 0.00%\n",
      "grad_l2_norm =  tensor(1.0216e-05, device='cuda:0')\n",
      "T: 40.000 Train Loss: 0.012709 L2-Train Loss: 0.014032 Test Accuracy: 0.00%\n",
      "grad_l2_norm =  tensor(1.8079e-06, device='cuda:0')\n",
      "T: 60.000 Train Loss: 0.010953 L2-Train Loss: 0.011711 Test Accuracy: 0.00%\n",
      "grad_l2_norm =  tensor(9.6260e-07, device='cuda:0')\n",
      "T: 80.000 Train Loss: 0.009748 L2-Train Loss: 0.010791 Test Accuracy: 0.00%\n",
      "grad_l2_norm =  tensor(3.4936e-07, device='cuda:0')\n",
      "T: 100.000 Train Loss: 0.009280 L2-Train Loss: 0.010334 Test Accuracy: 0.00%\n",
      "grad_l2_norm =  tensor(1.8709e-07, device='cuda:0')\n",
      "T: 120.000 Train Loss: 0.008931 L2-Train Loss: 0.009959 Test Accuracy: 0.00%\n",
      "grad_l2_norm =  tensor(1.4196e-07, device='cuda:0')\n",
      "T: 140.000 Train Loss: 0.008671 L2-Train Loss: 0.009663 Test Accuracy: 0.00%\n",
      "grad_l2_norm =  tensor(1.7159e-07, device='cuda:0')\n",
      "T: 160.000 Train Loss: 0.008453 L2-Train Loss: 0.009417 Test Accuracy: 0.00%\n",
      "grad_l2_norm =  tensor(1.2924e-07, device='cuda:0')\n",
      "T: 180.000 Train Loss: 0.008255 L2-Train Loss: 0.009188 Test Accuracy: 0.00%\n",
      "grad_l2_norm =  tensor(1.0026e-07, device='cuda:0')\n",
      "T: 200.000 Train Loss: 0.008090 L2-Train Loss: 0.008994 Test Accuracy: 0.00%\n",
      "grad_l2_norm =  tensor(1.0971e-07, device='cuda:0')\n",
      "T: 220.000 Train Loss: 0.007944 L2-Train Loss: 0.008817 Test Accuracy: 0.00%\n",
      "grad_l2_norm =  tensor(1.3532e-07, device='cuda:0')\n",
      "T: 240.000 Train Loss: 0.007811 L2-Train Loss: 0.008661 Test Accuracy: 0.00%\n",
      "grad_l2_norm =  tensor(1.2239e-07, device='cuda:0')\n",
      "T: 260.000 Train Loss: 0.007683 L2-Train Loss: 0.008501 Test Accuracy: 0.00%\n",
      "grad_l2_norm =  tensor(1.1451e-07, device='cuda:0')\n",
      "T: 280.000 Train Loss: 0.007566 L2-Train Loss: 0.008362 Test Accuracy: 0.00%\n",
      "grad_l2_norm =  tensor(1.1843e-07, device='cuda:0')\n"
     ]
    },
    {
     "name": "stderr",
     "output_type": "stream",
     "text": [
      "100%|██████████████████████████████████████████████████████████████████████████████████| 10/10 [12:58<00:00, 77.80s/it]\n"
     ]
    },
    {
     "name": "stdout",
     "output_type": "stream",
     "text": [
      "Finish test particle_num=512.0000 cutoff = 500.00 lr = 0.020 lr2 = 0.020 momentum = 1.00 avg_trainloss=7.583e-03 avg_L2_trainloss=8.362e-03\n"
     ]
    },
    {
     "name": "stderr",
     "output_type": "stream",
     "text": [
      "\r",
      "  0%|                                                                                           | 0/10 [00:00<?, ?it/s]"
     ]
    },
    {
     "name": "stdout",
     "output_type": "stream",
     "text": [
      "T: 0.020 Train Loss: 0.250127 L2-Train Loss: 10.065819 Test Accuracy: 0.00%\n",
      "grad_l2_norm =  tensor(5.3307e-05, device='cuda:0')\n",
      "T: 20.000 Train Loss: 0.022870 L2-Train Loss: 0.189661 Test Accuracy: 0.00%\n",
      "grad_l2_norm =  tensor(3.4653e-06, device='cuda:0')\n",
      "T: 40.000 Train Loss: 0.012678 L2-Train Loss: 0.013945 Test Accuracy: 0.00%\n",
      "grad_l2_norm =  tensor(9.7153e-07, device='cuda:0')\n",
      "T: 60.000 Train Loss: 0.010213 L2-Train Loss: 0.010976 Test Accuracy: 0.00%\n",
      "grad_l2_norm =  tensor(4.9079e-07, device='cuda:0')\n",
      "T: 80.000 Train Loss: 0.009153 L2-Train Loss: 0.010200 Test Accuracy: 0.00%\n",
      "grad_l2_norm =  tensor(2.1560e-07, device='cuda:0')\n",
      "T: 100.000 Train Loss: 0.008691 L2-Train Loss: 0.009754 Test Accuracy: 0.00%\n",
      "grad_l2_norm =  tensor(9.9877e-08, device='cuda:0')\n",
      "T: 120.000 Train Loss: 0.008351 L2-Train Loss: 0.009382 Test Accuracy: 0.00%\n",
      "grad_l2_norm =  tensor(9.5864e-08, device='cuda:0')\n",
      "T: 140.000 Train Loss: 0.008093 L2-Train Loss: 0.009090 Test Accuracy: 0.00%\n",
      "grad_l2_norm =  tensor(6.1495e-08, device='cuda:0')\n",
      "T: 160.000 Train Loss: 0.007879 L2-Train Loss: 0.008845 Test Accuracy: 0.00%\n",
      "grad_l2_norm =  tensor(6.6662e-08, device='cuda:0')\n",
      "T: 180.000 Train Loss: 0.007696 L2-Train Loss: 0.008629 Test Accuracy: 0.00%\n",
      "grad_l2_norm =  tensor(7.0644e-08, device='cuda:0')\n",
      "T: 200.000 Train Loss: 0.007534 L2-Train Loss: 0.008437 Test Accuracy: 0.00%\n",
      "grad_l2_norm =  tensor(6.8665e-08, device='cuda:0')\n",
      "T: 220.000 Train Loss: 0.007388 L2-Train Loss: 0.008265 Test Accuracy: 0.00%\n",
      "grad_l2_norm =  tensor(7.2249e-08, device='cuda:0')\n",
      "T: 240.000 Train Loss: 0.007250 L2-Train Loss: 0.008100 Test Accuracy: 0.00%\n",
      "grad_l2_norm =  tensor(6.2409e-08, device='cuda:0')\n",
      "T: 260.000 Train Loss: 0.007123 L2-Train Loss: 0.007947 Test Accuracy: 0.00%\n",
      "grad_l2_norm =  tensor(7.4199e-08, device='cuda:0')\n",
      "T: 280.000 Train Loss: 0.007001 L2-Train Loss: 0.007800 Test Accuracy: 0.00%\n",
      "grad_l2_norm =  tensor(5.1977e-08, device='cuda:0')\n"
     ]
    },
    {
     "name": "stderr",
     "output_type": "stream",
     "text": [
      "\r",
      " 10%|████████▏                                                                         | 1/10 [02:20<21:08, 140.92s/it]"
     ]
    },
    {
     "name": "stdout",
     "output_type": "stream",
     "text": [
      "T: 0.020 Train Loss: 0.249968 L2-Train Loss: 10.042044 Test Accuracy: 0.00%\n",
      "grad_l2_norm =  tensor(5.3443e-05, device='cuda:0')\n",
      "T: 20.000 Train Loss: 0.025906 L2-Train Loss: 0.191996 Test Accuracy: 0.00%\n",
      "grad_l2_norm =  tensor(4.6874e-06, device='cuda:0')\n",
      "T: 40.000 Train Loss: 0.012279 L2-Train Loss: 0.013609 Test Accuracy: 0.00%\n",
      "grad_l2_norm =  tensor(9.5249e-07, device='cuda:0')\n",
      "T: 60.000 Train Loss: 0.010688 L2-Train Loss: 0.011444 Test Accuracy: 0.00%\n",
      "grad_l2_norm =  tensor(3.9066e-07, device='cuda:0')\n",
      "T: 80.000 Train Loss: 0.009424 L2-Train Loss: 0.010472 Test Accuracy: 0.00%\n",
      "grad_l2_norm =  tensor(1.9442e-07, device='cuda:0')\n",
      "T: 100.000 Train Loss: 0.008951 L2-Train Loss: 0.010009 Test Accuracy: 0.00%\n",
      "grad_l2_norm =  tensor(1.2483e-07, device='cuda:0')\n",
      "T: 120.000 Train Loss: 0.008594 L2-Train Loss: 0.009625 Test Accuracy: 0.00%\n",
      "grad_l2_norm =  tensor(9.3932e-08, device='cuda:0')\n",
      "T: 140.000 Train Loss: 0.008321 L2-Train Loss: 0.009318 Test Accuracy: 0.00%\n",
      "grad_l2_norm =  tensor(8.1999e-08, device='cuda:0')\n",
      "T: 160.000 Train Loss: 0.008098 L2-Train Loss: 0.009062 Test Accuracy: 0.00%\n",
      "grad_l2_norm =  tensor(7.0862e-08, device='cuda:0')\n",
      "T: 180.000 Train Loss: 0.007897 L2-Train Loss: 0.008829 Test Accuracy: 0.00%\n",
      "grad_l2_norm =  tensor(7.7644e-08, device='cuda:0')\n",
      "T: 200.000 Train Loss: 0.007728 L2-Train Loss: 0.008630 Test Accuracy: 0.00%\n",
      "grad_l2_norm =  tensor(7.7332e-08, device='cuda:0')\n",
      "T: 220.000 Train Loss: 0.007568 L2-Train Loss: 0.008442 Test Accuracy: 0.00%\n",
      "grad_l2_norm =  tensor(6.8039e-08, device='cuda:0')\n",
      "T: 240.000 Train Loss: 0.007434 L2-Train Loss: 0.008281 Test Accuracy: 0.00%\n",
      "grad_l2_norm =  tensor(6.1670e-08, device='cuda:0')\n",
      "T: 260.000 Train Loss: 0.007304 L2-Train Loss: 0.008126 Test Accuracy: 0.00%\n",
      "grad_l2_norm =  tensor(6.2917e-08, device='cuda:0')\n",
      "T: 280.000 Train Loss: 0.007179 L2-Train Loss: 0.007976 Test Accuracy: 0.00%\n",
      "grad_l2_norm =  tensor(5.4558e-08, device='cuda:0')\n"
     ]
    },
    {
     "name": "stderr",
     "output_type": "stream",
     "text": [
      "\r",
      " 20%|████████████████▍                                                                 | 2/10 [04:41<18:47, 140.95s/it]"
     ]
    },
    {
     "name": "stdout",
     "output_type": "stream",
     "text": [
      "T: 0.020 Train Loss: 0.249816 L2-Train Loss: 10.045958 Test Accuracy: 0.00%\n",
      "grad_l2_norm =  tensor(5.3538e-05, device='cuda:0')\n",
      "T: 20.000 Train Loss: 0.027818 L2-Train Loss: 0.193777 Test Accuracy: 0.00%\n",
      "grad_l2_norm =  tensor(5.4943e-06, device='cuda:0')\n",
      "T: 40.000 Train Loss: 0.011950 L2-Train Loss: 0.013291 Test Accuracy: 0.00%\n",
      "grad_l2_norm =  tensor(7.0451e-07, device='cuda:0')\n",
      "T: 60.000 Train Loss: 0.010620 L2-Train Loss: 0.011371 Test Accuracy: 0.00%\n",
      "grad_l2_norm =  tensor(3.2498e-07, device='cuda:0')\n",
      "T: 80.000 Train Loss: 0.009400 L2-Train Loss: 0.010445 Test Accuracy: 0.00%\n",
      "grad_l2_norm =  tensor(1.4224e-07, device='cuda:0')\n",
      "T: 100.000 Train Loss: 0.008971 L2-Train Loss: 0.010027 Test Accuracy: 0.00%\n",
      "grad_l2_norm =  tensor(1.2639e-07, device='cuda:0')\n",
      "T: 120.000 Train Loss: 0.008638 L2-Train Loss: 0.009668 Test Accuracy: 0.00%\n",
      "grad_l2_norm =  tensor(7.7815e-08, device='cuda:0')\n",
      "T: 140.000 Train Loss: 0.008370 L2-Train Loss: 0.009365 Test Accuracy: 0.00%\n",
      "grad_l2_norm =  tensor(1.8861e-07, device='cuda:0')\n",
      "T: 160.000 Train Loss: 0.008152 L2-Train Loss: 0.009114 Test Accuracy: 0.00%\n",
      "grad_l2_norm =  tensor(6.2625e-08, device='cuda:0')\n",
      "T: 180.000 Train Loss: 0.007963 L2-Train Loss: 0.008894 Test Accuracy: 0.00%\n",
      "grad_l2_norm =  tensor(6.4628e-08, device='cuda:0')\n",
      "T: 200.000 Train Loss: 0.007796 L2-Train Loss: 0.008699 Test Accuracy: 0.00%\n",
      "grad_l2_norm =  tensor(8.2780e-08, device='cuda:0')\n",
      "T: 220.000 Train Loss: 0.007650 L2-Train Loss: 0.008525 Test Accuracy: 0.00%\n",
      "grad_l2_norm =  tensor(6.8260e-08, device='cuda:0')\n",
      "T: 240.000 Train Loss: 0.007515 L2-Train Loss: 0.008363 Test Accuracy: 0.00%\n",
      "grad_l2_norm =  tensor(7.5499e-08, device='cuda:0')\n",
      "T: 260.000 Train Loss: 0.007385 L2-Train Loss: 0.008207 Test Accuracy: 0.00%\n",
      "grad_l2_norm =  tensor(7.2753e-08, device='cuda:0')\n",
      "T: 280.000 Train Loss: 0.007255 L2-Train Loss: 0.008053 Test Accuracy: 0.00%\n",
      "grad_l2_norm =  tensor(7.6804e-08, device='cuda:0')\n"
     ]
    },
    {
     "name": "stderr",
     "output_type": "stream",
     "text": [
      "\r",
      " 30%|████████████████████████▌                                                         | 3/10 [07:03<16:27, 141.09s/it]"
     ]
    },
    {
     "name": "stdout",
     "output_type": "stream",
     "text": [
      "T: 0.020 Train Loss: 0.250774 L2-Train Loss: 10.059212 Test Accuracy: 0.00%\n",
      "grad_l2_norm =  tensor(5.3976e-05, device='cuda:0')\n",
      "T: 20.000 Train Loss: 0.023136 L2-Train Loss: 0.189774 Test Accuracy: 0.00%\n",
      "grad_l2_norm =  tensor(3.6608e-06, device='cuda:0')\n",
      "T: 40.000 Train Loss: 0.012812 L2-Train Loss: 0.014105 Test Accuracy: 0.00%\n",
      "grad_l2_norm =  tensor(9.0547e-07, device='cuda:0')\n",
      "T: 60.000 Train Loss: 0.010609 L2-Train Loss: 0.011373 Test Accuracy: 0.00%\n",
      "grad_l2_norm =  tensor(4.0076e-07, device='cuda:0')\n",
      "T: 80.000 Train Loss: 0.009435 L2-Train Loss: 0.010484 Test Accuracy: 0.00%\n",
      "grad_l2_norm =  tensor(2.3977e-07, device='cuda:0')\n",
      "T: 100.000 Train Loss: 0.008941 L2-Train Loss: 0.010000 Test Accuracy: 0.00%\n",
      "grad_l2_norm =  tensor(8.8307e-08, device='cuda:0')\n",
      "T: 120.000 Train Loss: 0.008572 L2-Train Loss: 0.009602 Test Accuracy: 0.00%\n",
      "grad_l2_norm =  tensor(1.2944e-07, device='cuda:0')\n",
      "T: 140.000 Train Loss: 0.008288 L2-Train Loss: 0.009286 Test Accuracy: 0.00%\n",
      "grad_l2_norm =  tensor(8.2216e-08, device='cuda:0')\n",
      "T: 160.000 Train Loss: 0.008061 L2-Train Loss: 0.009026 Test Accuracy: 0.00%\n",
      "grad_l2_norm =  tensor(6.1361e-08, device='cuda:0')\n",
      "T: 180.000 Train Loss: 0.007866 L2-Train Loss: 0.008800 Test Accuracy: 0.00%\n",
      "grad_l2_norm =  tensor(5.2109e-08, device='cuda:0')\n",
      "T: 200.000 Train Loss: 0.007703 L2-Train Loss: 0.008606 Test Accuracy: 0.00%\n",
      "grad_l2_norm =  tensor(7.7663e-08, device='cuda:0')\n",
      "T: 220.000 Train Loss: 0.007551 L2-Train Loss: 0.008427 Test Accuracy: 0.00%\n",
      "grad_l2_norm =  tensor(5.6972e-08, device='cuda:0')\n",
      "T: 240.000 Train Loss: 0.007413 L2-Train Loss: 0.008261 Test Accuracy: 0.00%\n",
      "grad_l2_norm =  tensor(7.4851e-08, device='cuda:0')\n",
      "T: 260.000 Train Loss: 0.007284 L2-Train Loss: 0.008107 Test Accuracy: 0.00%\n",
      "grad_l2_norm =  tensor(6.3368e-08, device='cuda:0')\n",
      "T: 280.000 Train Loss: 0.007161 L2-Train Loss: 0.007959 Test Accuracy: 0.00%\n",
      "grad_l2_norm =  tensor(5.5266e-08, device='cuda:0')\n"
     ]
    },
    {
     "name": "stderr",
     "output_type": "stream",
     "text": [
      "\r",
      " 40%|████████████████████████████████▊                                                 | 4/10 [09:24<14:06, 141.15s/it]"
     ]
    },
    {
     "name": "stdout",
     "output_type": "stream",
     "text": [
      "T: 0.020 Train Loss: 0.250743 L2-Train Loss: 10.046811 Test Accuracy: 0.00%\n",
      "grad_l2_norm =  tensor(5.6296e-05, device='cuda:0')\n",
      "T: 20.000 Train Loss: 0.025111 L2-Train Loss: 0.191247 Test Accuracy: 0.00%\n",
      "grad_l2_norm =  tensor(4.2802e-06, device='cuda:0')\n",
      "T: 40.000 Train Loss: 0.012078 L2-Train Loss: 0.013394 Test Accuracy: 0.00%\n",
      "grad_l2_norm =  tensor(8.1751e-07, device='cuda:0')\n",
      "T: 60.000 Train Loss: 0.010407 L2-Train Loss: 0.011165 Test Accuracy: 0.00%\n",
      "grad_l2_norm =  tensor(4.6858e-07, device='cuda:0')\n",
      "T: 80.000 Train Loss: 0.009215 L2-Train Loss: 0.010260 Test Accuracy: 0.00%\n",
      "grad_l2_norm =  tensor(2.1189e-07, device='cuda:0')\n",
      "T: 100.000 Train Loss: 0.008746 L2-Train Loss: 0.009806 Test Accuracy: 0.00%\n",
      "grad_l2_norm =  tensor(1.4098e-07, device='cuda:0')\n",
      "T: 120.000 Train Loss: 0.008404 L2-Train Loss: 0.009433 Test Accuracy: 0.00%\n",
      "grad_l2_norm =  tensor(9.4087e-08, device='cuda:0')\n",
      "T: 140.000 Train Loss: 0.008123 L2-Train Loss: 0.009118 Test Accuracy: 0.00%\n",
      "grad_l2_norm =  tensor(1.0512e-07, device='cuda:0')\n",
      "T: 160.000 Train Loss: 0.007915 L2-Train Loss: 0.008876 Test Accuracy: 0.00%\n",
      "grad_l2_norm =  tensor(6.7597e-08, device='cuda:0')\n",
      "T: 180.000 Train Loss: 0.007730 L2-Train Loss: 0.008661 Test Accuracy: 0.00%\n",
      "grad_l2_norm =  tensor(6.6507e-08, device='cuda:0')\n",
      "T: 200.000 Train Loss: 0.007564 L2-Train Loss: 0.008465 Test Accuracy: 0.00%\n",
      "grad_l2_norm =  tensor(6.9563e-08, device='cuda:0')\n",
      "T: 220.000 Train Loss: 0.007406 L2-Train Loss: 0.008280 Test Accuracy: 0.00%\n",
      "grad_l2_norm =  tensor(7.3839e-08, device='cuda:0')\n",
      "T: 240.000 Train Loss: 0.007277 L2-Train Loss: 0.008124 Test Accuracy: 0.00%\n",
      "grad_l2_norm =  tensor(5.6367e-08, device='cuda:0')\n",
      "T: 260.000 Train Loss: 0.007151 L2-Train Loss: 0.007973 Test Accuracy: 0.00%\n",
      "grad_l2_norm =  tensor(7.2541e-08, device='cuda:0')\n",
      "T: 280.000 Train Loss: 0.007028 L2-Train Loss: 0.007826 Test Accuracy: 0.00%\n",
      "grad_l2_norm =  tensor(6.5683e-08, device='cuda:0')\n"
     ]
    },
    {
     "name": "stderr",
     "output_type": "stream",
     "text": [
      "\r",
      " 50%|█████████████████████████████████████████                                         | 5/10 [11:45<11:46, 141.26s/it]"
     ]
    },
    {
     "name": "stdout",
     "output_type": "stream",
     "text": [
      "T: 0.020 Train Loss: 0.251212 L2-Train Loss: 10.063978 Test Accuracy: 0.00%\n",
      "grad_l2_norm =  tensor(5.6598e-05, device='cuda:0')\n",
      "T: 20.000 Train Loss: 0.023430 L2-Train Loss: 0.190166 Test Accuracy: 0.00%\n",
      "grad_l2_norm =  tensor(3.5587e-06, device='cuda:0')\n",
      "T: 40.000 Train Loss: 0.012992 L2-Train Loss: 0.014263 Test Accuracy: 0.00%\n",
      "grad_l2_norm =  tensor(1.0635e-06, device='cuda:0')\n",
      "T: 60.000 Train Loss: 0.010480 L2-Train Loss: 0.011244 Test Accuracy: 0.00%\n",
      "grad_l2_norm =  tensor(5.2123e-07, device='cuda:0')\n",
      "T: 80.000 Train Loss: 0.009383 L2-Train Loss: 0.010430 Test Accuracy: 0.00%\n",
      "grad_l2_norm =  tensor(2.5296e-07, device='cuda:0')\n",
      "T: 100.000 Train Loss: 0.008892 L2-Train Loss: 0.009954 Test Accuracy: 0.00%\n",
      "grad_l2_norm =  tensor(1.1369e-07, device='cuda:0')\n",
      "T: 120.000 Train Loss: 0.008530 L2-Train Loss: 0.009562 Test Accuracy: 0.00%\n",
      "grad_l2_norm =  tensor(7.5823e-08, device='cuda:0')\n",
      "T: 140.000 Train Loss: 0.008266 L2-Train Loss: 0.009261 Test Accuracy: 0.00%\n",
      "grad_l2_norm =  tensor(7.5256e-08, device='cuda:0')\n",
      "T: 160.000 Train Loss: 0.008044 L2-Train Loss: 0.009009 Test Accuracy: 0.00%\n",
      "grad_l2_norm =  tensor(8.1908e-08, device='cuda:0')\n",
      "T: 180.000 Train Loss: 0.007853 L2-Train Loss: 0.008788 Test Accuracy: 0.00%\n",
      "grad_l2_norm =  tensor(9.2024e-08, device='cuda:0')\n",
      "T: 200.000 Train Loss: 0.007682 L2-Train Loss: 0.008587 Test Accuracy: 0.00%\n",
      "grad_l2_norm =  tensor(5.8191e-08, device='cuda:0')\n",
      "T: 220.000 Train Loss: 0.007521 L2-Train Loss: 0.008398 Test Accuracy: 0.00%\n",
      "grad_l2_norm =  tensor(7.1222e-08, device='cuda:0')\n",
      "T: 240.000 Train Loss: 0.007381 L2-Train Loss: 0.008230 Test Accuracy: 0.00%\n",
      "grad_l2_norm =  tensor(7.1101e-08, device='cuda:0')\n",
      "T: 260.000 Train Loss: 0.007250 L2-Train Loss: 0.008073 Test Accuracy: 0.00%\n",
      "grad_l2_norm =  tensor(5.8232e-08, device='cuda:0')\n",
      "T: 280.000 Train Loss: 0.007124 L2-Train Loss: 0.007922 Test Accuracy: 0.00%\n",
      "grad_l2_norm =  tensor(7.3837e-08, device='cuda:0')\n"
     ]
    },
    {
     "name": "stderr",
     "output_type": "stream",
     "text": [
      "\r",
      " 60%|█████████████████████████████████████████████████▏                                | 6/10 [14:07<09:25, 141.30s/it]"
     ]
    },
    {
     "name": "stdout",
     "output_type": "stream",
     "text": [
      "T: 0.020 Train Loss: 0.250200 L2-Train Loss: 10.056700 Test Accuracy: 0.00%\n",
      "grad_l2_norm =  tensor(5.2628e-05, device='cuda:0')\n",
      "T: 20.000 Train Loss: 0.026070 L2-Train Loss: 0.192592 Test Accuracy: 0.00%\n",
      "grad_l2_norm =  tensor(4.4051e-06, device='cuda:0')\n",
      "T: 40.000 Train Loss: 0.012538 L2-Train Loss: 0.013878 Test Accuracy: 0.00%\n",
      "grad_l2_norm =  tensor(7.2551e-07, device='cuda:0')\n",
      "T: 60.000 Train Loss: 0.010954 L2-Train Loss: 0.011708 Test Accuracy: 0.00%\n",
      "grad_l2_norm =  tensor(4.0806e-07, device='cuda:0')\n",
      "T: 80.000 Train Loss: 0.009613 L2-Train Loss: 0.010666 Test Accuracy: 0.00%\n",
      "grad_l2_norm =  tensor(2.8312e-07, device='cuda:0')\n",
      "T: 100.000 Train Loss: 0.009086 L2-Train Loss: 0.010148 Test Accuracy: 0.00%\n",
      "grad_l2_norm =  tensor(9.0142e-08, device='cuda:0')\n",
      "T: 120.000 Train Loss: 0.008714 L2-Train Loss: 0.009747 Test Accuracy: 0.00%\n",
      "grad_l2_norm =  tensor(1.3482e-07, device='cuda:0')\n",
      "T: 140.000 Train Loss: 0.008414 L2-Train Loss: 0.009413 Test Accuracy: 0.00%\n",
      "grad_l2_norm =  tensor(6.6520e-08, device='cuda:0')\n",
      "T: 160.000 Train Loss: 0.008171 L2-Train Loss: 0.009136 Test Accuracy: 0.00%\n",
      "grad_l2_norm =  tensor(6.6650e-08, device='cuda:0')\n",
      "T: 180.000 Train Loss: 0.007971 L2-Train Loss: 0.008904 Test Accuracy: 0.00%\n",
      "grad_l2_norm =  tensor(6.4286e-08, device='cuda:0')\n",
      "T: 200.000 Train Loss: 0.007788 L2-Train Loss: 0.008693 Test Accuracy: 0.00%\n",
      "grad_l2_norm =  tensor(6.3394e-08, device='cuda:0')\n",
      "T: 220.000 Train Loss: 0.007627 L2-Train Loss: 0.008503 Test Accuracy: 0.00%\n",
      "grad_l2_norm =  tensor(4.7358e-08, device='cuda:0')\n",
      "T: 240.000 Train Loss: 0.007480 L2-Train Loss: 0.008329 Test Accuracy: 0.00%\n",
      "grad_l2_norm =  tensor(6.6500e-08, device='cuda:0')\n",
      "T: 260.000 Train Loss: 0.007349 L2-Train Loss: 0.008171 Test Accuracy: 0.00%\n",
      "grad_l2_norm =  tensor(7.8397e-08, device='cuda:0')\n",
      "T: 280.000 Train Loss: 0.007217 L2-Train Loss: 0.008015 Test Accuracy: 0.00%\n",
      "grad_l2_norm =  tensor(5.0719e-08, device='cuda:0')\n"
     ]
    },
    {
     "name": "stderr",
     "output_type": "stream",
     "text": [
      "\r",
      " 70%|█████████████████████████████████████████████████████████▍                        | 7/10 [16:28<07:04, 141.36s/it]"
     ]
    },
    {
     "name": "stdout",
     "output_type": "stream",
     "text": [
      "T: 0.020 Train Loss: 0.249022 L2-Train Loss: 10.072867 Test Accuracy: 0.00%\n",
      "grad_l2_norm =  tensor(5.3826e-05, device='cuda:0')\n",
      "T: 20.000 Train Loss: 0.024956 L2-Train Loss: 0.191609 Test Accuracy: 0.00%\n",
      "grad_l2_norm =  tensor(4.5078e-06, device='cuda:0')\n",
      "T: 40.000 Train Loss: 0.012024 L2-Train Loss: 0.013344 Test Accuracy: 0.00%\n",
      "grad_l2_norm =  tensor(8.3692e-07, device='cuda:0')\n",
      "T: 60.000 Train Loss: 0.010444 L2-Train Loss: 0.011197 Test Accuracy: 0.00%\n",
      "grad_l2_norm =  tensor(3.8960e-07, device='cuda:0')\n",
      "T: 80.000 Train Loss: 0.009249 L2-Train Loss: 0.010300 Test Accuracy: 0.00%\n",
      "grad_l2_norm =  tensor(2.4205e-07, device='cuda:0')\n",
      "T: 100.000 Train Loss: 0.008802 L2-Train Loss: 0.009865 Test Accuracy: 0.00%\n",
      "grad_l2_norm =  tensor(1.0905e-07, device='cuda:0')\n",
      "T: 120.000 Train Loss: 0.008471 L2-Train Loss: 0.009503 Test Accuracy: 0.00%\n",
      "grad_l2_norm =  tensor(9.4719e-08, device='cuda:0')\n",
      "T: 140.000 Train Loss: 0.008202 L2-Train Loss: 0.009200 Test Accuracy: 0.00%\n",
      "grad_l2_norm =  tensor(8.3453e-08, device='cuda:0')\n",
      "T: 160.000 Train Loss: 0.007993 L2-Train Loss: 0.008959 Test Accuracy: 0.00%\n",
      "grad_l2_norm =  tensor(6.6674e-08, device='cuda:0')\n",
      "T: 180.000 Train Loss: 0.007819 L2-Train Loss: 0.008755 Test Accuracy: 0.00%\n",
      "grad_l2_norm =  tensor(7.4833e-08, device='cuda:0')\n",
      "T: 200.000 Train Loss: 0.007658 L2-Train Loss: 0.008564 Test Accuracy: 0.00%\n",
      "grad_l2_norm =  tensor(6.6130e-08, device='cuda:0')\n",
      "T: 220.000 Train Loss: 0.007518 L2-Train Loss: 0.008393 Test Accuracy: 0.00%\n",
      "grad_l2_norm =  tensor(5.4312e-08, device='cuda:0')\n",
      "T: 240.000 Train Loss: 0.007382 L2-Train Loss: 0.008231 Test Accuracy: 0.00%\n",
      "grad_l2_norm =  tensor(7.6338e-08, device='cuda:0')\n",
      "T: 260.000 Train Loss: 0.007248 L2-Train Loss: 0.008072 Test Accuracy: 0.00%\n",
      "grad_l2_norm =  tensor(7.2526e-08, device='cuda:0')\n",
      "T: 280.000 Train Loss: 0.007127 L2-Train Loss: 0.007926 Test Accuracy: 0.00%\n",
      "grad_l2_norm =  tensor(8.1451e-08, device='cuda:0')\n"
     ]
    },
    {
     "name": "stderr",
     "output_type": "stream",
     "text": [
      "\r",
      " 80%|█████████████████████████████████████████████████████████████████▌                | 8/10 [18:50<04:42, 141.37s/it]"
     ]
    },
    {
     "name": "stdout",
     "output_type": "stream",
     "text": [
      "T: 0.020 Train Loss: 0.250658 L2-Train Loss: 10.047629 Test Accuracy: 0.00%\n",
      "grad_l2_norm =  tensor(5.4386e-05, device='cuda:0')\n",
      "T: 20.000 Train Loss: 0.023821 L2-Train Loss: 0.190094 Test Accuracy: 0.00%\n",
      "grad_l2_norm =  tensor(3.5285e-06, device='cuda:0')\n",
      "T: 40.000 Train Loss: 0.012648 L2-Train Loss: 0.013931 Test Accuracy: 0.00%\n",
      "grad_l2_norm =  tensor(1.0174e-06, device='cuda:0')\n",
      "T: 60.000 Train Loss: 0.010448 L2-Train Loss: 0.011209 Test Accuracy: 0.00%\n",
      "grad_l2_norm =  tensor(3.9395e-07, device='cuda:0')\n",
      "T: 80.000 Train Loss: 0.009313 L2-Train Loss: 0.010361 Test Accuracy: 0.00%\n",
      "grad_l2_norm =  tensor(1.6284e-07, device='cuda:0')\n",
      "T: 100.000 Train Loss: 0.008820 L2-Train Loss: 0.009878 Test Accuracy: 0.00%\n",
      "grad_l2_norm =  tensor(1.2174e-07, device='cuda:0')\n",
      "T: 120.000 Train Loss: 0.008464 L2-Train Loss: 0.009492 Test Accuracy: 0.00%\n",
      "grad_l2_norm =  tensor(9.6622e-08, device='cuda:0')\n",
      "T: 140.000 Train Loss: 0.008191 L2-Train Loss: 0.009187 Test Accuracy: 0.00%\n",
      "grad_l2_norm =  tensor(8.0864e-08, device='cuda:0')\n",
      "T: 160.000 Train Loss: 0.007959 L2-Train Loss: 0.008922 Test Accuracy: 0.00%\n",
      "grad_l2_norm =  tensor(6.7186e-08, device='cuda:0')\n",
      "T: 180.000 Train Loss: 0.007774 L2-Train Loss: 0.008706 Test Accuracy: 0.00%\n",
      "grad_l2_norm =  tensor(7.0442e-08, device='cuda:0')\n",
      "T: 200.000 Train Loss: 0.007604 L2-Train Loss: 0.008508 Test Accuracy: 0.00%\n",
      "grad_l2_norm =  tensor(7.2190e-08, device='cuda:0')\n",
      "T: 220.000 Train Loss: 0.007453 L2-Train Loss: 0.008329 Test Accuracy: 0.00%\n",
      "grad_l2_norm =  tensor(8.0021e-08, device='cuda:0')\n",
      "T: 240.000 Train Loss: 0.007307 L2-Train Loss: 0.008155 Test Accuracy: 0.00%\n",
      "grad_l2_norm =  tensor(5.0316e-08, device='cuda:0')\n",
      "T: 260.000 Train Loss: 0.007171 L2-Train Loss: 0.007993 Test Accuracy: 0.00%\n",
      "grad_l2_norm =  tensor(6.2560e-08, device='cuda:0')\n",
      "T: 280.000 Train Loss: 0.007049 L2-Train Loss: 0.007846 Test Accuracy: 0.00%\n",
      "grad_l2_norm =  tensor(7.0246e-08, device='cuda:0')\n"
     ]
    },
    {
     "name": "stderr",
     "output_type": "stream",
     "text": [
      "\r",
      " 90%|█████████████████████████████████████████████████████████████████████████▊        | 9/10 [21:11<02:21, 141.32s/it]"
     ]
    },
    {
     "name": "stdout",
     "output_type": "stream",
     "text": [
      "T: 0.020 Train Loss: 0.250166 L2-Train Loss: 10.026942 Test Accuracy: 0.00%\n",
      "grad_l2_norm =  tensor(5.4480e-05, device='cuda:0')\n",
      "T: 20.000 Train Loss: 0.025472 L2-Train Loss: 0.191334 Test Accuracy: 0.00%\n",
      "grad_l2_norm =  tensor(4.7878e-06, device='cuda:0')\n",
      "T: 40.000 Train Loss: 0.012016 L2-Train Loss: 0.013347 Test Accuracy: 0.00%\n",
      "grad_l2_norm =  tensor(8.2194e-07, device='cuda:0')\n",
      "T: 60.000 Train Loss: 0.010625 L2-Train Loss: 0.011379 Test Accuracy: 0.00%\n",
      "grad_l2_norm =  tensor(5.5758e-07, device='cuda:0')\n",
      "T: 80.000 Train Loss: 0.009360 L2-Train Loss: 0.010407 Test Accuracy: 0.00%\n",
      "grad_l2_norm =  tensor(1.7305e-07, device='cuda:0')\n",
      "T: 100.000 Train Loss: 0.008884 L2-Train Loss: 0.009942 Test Accuracy: 0.00%\n",
      "grad_l2_norm =  tensor(1.4138e-07, device='cuda:0')\n",
      "T: 120.000 Train Loss: 0.008520 L2-Train Loss: 0.009548 Test Accuracy: 0.00%\n",
      "grad_l2_norm =  tensor(1.2873e-07, device='cuda:0')\n",
      "T: 140.000 Train Loss: 0.008230 L2-Train Loss: 0.009225 Test Accuracy: 0.00%\n",
      "grad_l2_norm =  tensor(7.1760e-08, device='cuda:0')\n",
      "T: 160.000 Train Loss: 0.007999 L2-Train Loss: 0.008961 Test Accuracy: 0.00%\n",
      "grad_l2_norm =  tensor(1.0510e-07, device='cuda:0')\n",
      "T: 180.000 Train Loss: 0.007796 L2-Train Loss: 0.008728 Test Accuracy: 0.00%\n",
      "grad_l2_norm =  tensor(5.6911e-08, device='cuda:0')\n",
      "T: 200.000 Train Loss: 0.007613 L2-Train Loss: 0.008516 Test Accuracy: 0.00%\n",
      "grad_l2_norm =  tensor(5.0840e-08, device='cuda:0')\n",
      "T: 220.000 Train Loss: 0.007456 L2-Train Loss: 0.008330 Test Accuracy: 0.00%\n",
      "grad_l2_norm =  tensor(6.8783e-08, device='cuda:0')\n",
      "T: 240.000 Train Loss: 0.007321 L2-Train Loss: 0.008168 Test Accuracy: 0.00%\n",
      "grad_l2_norm =  tensor(5.8832e-08, device='cuda:0')\n",
      "T: 260.000 Train Loss: 0.007184 L2-Train Loss: 0.008006 Test Accuracy: 0.00%\n",
      "grad_l2_norm =  tensor(6.7764e-08, device='cuda:0')\n",
      "T: 280.000 Train Loss: 0.007055 L2-Train Loss: 0.007851 Test Accuracy: 0.00%\n",
      "grad_l2_norm =  tensor(6.2865e-08, device='cuda:0')\n"
     ]
    },
    {
     "name": "stderr",
     "output_type": "stream",
     "text": [
      "100%|█████████████████████████████████████████████████████████████████████████████████| 10/10 [23:32<00:00, 141.23s/it]\n"
     ]
    },
    {
     "name": "stdout",
     "output_type": "stream",
     "text": [
      "Finish test particle_num=1024.0000 cutoff = 500.00 lr = 0.020 lr2 = 0.020 momentum = 1.00 avg_trainloss=7.031e-03 avg_L2_trainloss=7.811e-03\n"
     ]
    },
    {
     "name": "stderr",
     "output_type": "stream",
     "text": [
      "\r",
      "  0%|                                                                                           | 0/10 [00:00<?, ?it/s]"
     ]
    },
    {
     "name": "stdout",
     "output_type": "stream",
     "text": [
      "T: 0.020 Train Loss: 0.250187 L2-Train Loss: 10.032302 Test Accuracy: 0.00%\n",
      "grad_l2_norm =  tensor(2.8007e-05, device='cuda:0')\n",
      "T: 20.000 Train Loss: 0.024347 L2-Train Loss: 0.190395 Test Accuracy: 0.00%\n",
      "grad_l2_norm =  tensor(2.0670e-06, device='cuda:0')\n",
      "T: 40.000 Train Loss: 0.011921 L2-Train Loss: 0.013236 Test Accuracy: 0.00%\n",
      "grad_l2_norm =  tensor(3.9467e-07, device='cuda:0')\n",
      "T: 60.000 Train Loss: 0.010196 L2-Train Loss: 0.010950 Test Accuracy: 0.00%\n",
      "grad_l2_norm =  tensor(1.9006e-07, device='cuda:0')\n",
      "T: 80.000 Train Loss: 0.008999 L2-Train Loss: 0.010046 Test Accuracy: 0.00%\n",
      "grad_l2_norm =  tensor(9.5011e-08, device='cuda:0')\n",
      "T: 100.000 Train Loss: 0.008548 L2-Train Loss: 0.009605 Test Accuracy: 0.00%\n",
      "grad_l2_norm =  tensor(6.5113e-08, device='cuda:0')\n",
      "T: 120.000 Train Loss: 0.008212 L2-Train Loss: 0.009241 Test Accuracy: 0.00%\n",
      "grad_l2_norm =  tensor(4.4433e-08, device='cuda:0')\n",
      "T: 140.000 Train Loss: 0.007941 L2-Train Loss: 0.008935 Test Accuracy: 0.00%\n",
      "grad_l2_norm =  tensor(3.7932e-08, device='cuda:0')\n",
      "T: 160.000 Train Loss: 0.007724 L2-Train Loss: 0.008687 Test Accuracy: 0.00%\n",
      "grad_l2_norm =  tensor(3.8637e-08, device='cuda:0')\n",
      "T: 180.000 Train Loss: 0.007538 L2-Train Loss: 0.008469 Test Accuracy: 0.00%\n",
      "grad_l2_norm =  tensor(3.2790e-08, device='cuda:0')\n",
      "T: 200.000 Train Loss: 0.007366 L2-Train Loss: 0.008270 Test Accuracy: 0.00%\n",
      "grad_l2_norm =  tensor(3.0739e-08, device='cuda:0')\n",
      "T: 220.000 Train Loss: 0.007209 L2-Train Loss: 0.008084 Test Accuracy: 0.00%\n",
      "grad_l2_norm =  tensor(2.9724e-08, device='cuda:0')\n",
      "T: 240.000 Train Loss: 0.007066 L2-Train Loss: 0.007914 Test Accuracy: 0.00%\n",
      "grad_l2_norm =  tensor(3.9874e-08, device='cuda:0')\n",
      "T: 260.000 Train Loss: 0.006934 L2-Train Loss: 0.007755 Test Accuracy: 0.00%\n",
      "grad_l2_norm =  tensor(2.8206e-08, device='cuda:0')\n",
      "T: 280.000 Train Loss: 0.006812 L2-Train Loss: 0.007610 Test Accuracy: 0.00%\n",
      "grad_l2_norm =  tensor(3.1881e-08, device='cuda:0')\n"
     ]
    },
    {
     "name": "stderr",
     "output_type": "stream",
     "text": [
      "\r",
      " 10%|████████▏                                                                         | 1/10 [04:39<41:58, 279.82s/it]"
     ]
    },
    {
     "name": "stdout",
     "output_type": "stream",
     "text": [
      "T: 0.020 Train Loss: 0.250065 L2-Train Loss: 10.046188 Test Accuracy: 0.00%\n",
      "grad_l2_norm =  tensor(2.7618e-05, device='cuda:0')\n",
      "T: 20.000 Train Loss: 0.023422 L2-Train Loss: 0.189663 Test Accuracy: 0.00%\n",
      "grad_l2_norm =  tensor(1.9154e-06, device='cuda:0')\n",
      "T: 40.000 Train Loss: 0.011777 L2-Train Loss: 0.013065 Test Accuracy: 0.00%\n",
      "grad_l2_norm =  tensor(4.2686e-07, device='cuda:0')\n",
      "T: 60.000 Train Loss: 0.009896 L2-Train Loss: 0.010651 Test Accuracy: 0.00%\n",
      "grad_l2_norm =  tensor(1.9627e-07, device='cuda:0')\n",
      "T: 80.000 Train Loss: 0.008828 L2-Train Loss: 0.009873 Test Accuracy: 0.00%\n",
      "grad_l2_norm =  tensor(8.3108e-08, device='cuda:0')\n",
      "T: 100.000 Train Loss: 0.008393 L2-Train Loss: 0.009452 Test Accuracy: 0.00%\n",
      "grad_l2_norm =  tensor(7.1343e-08, device='cuda:0')\n",
      "T: 120.000 Train Loss: 0.008062 L2-Train Loss: 0.009092 Test Accuracy: 0.00%\n",
      "grad_l2_norm =  tensor(6.1340e-08, device='cuda:0')\n",
      "T: 140.000 Train Loss: 0.007811 L2-Train Loss: 0.008808 Test Accuracy: 0.00%\n",
      "grad_l2_norm =  tensor(3.4969e-08, device='cuda:0')\n",
      "T: 160.000 Train Loss: 0.007608 L2-Train Loss: 0.008571 Test Accuracy: 0.00%\n",
      "grad_l2_norm =  tensor(3.9442e-08, device='cuda:0')\n",
      "T: 180.000 Train Loss: 0.007424 L2-Train Loss: 0.008357 Test Accuracy: 0.00%\n",
      "grad_l2_norm =  tensor(4.0216e-08, device='cuda:0')\n",
      "T: 200.000 Train Loss: 0.007264 L2-Train Loss: 0.008168 Test Accuracy: 0.00%\n",
      "grad_l2_norm =  tensor(3.2953e-08, device='cuda:0')\n",
      "T: 220.000 Train Loss: 0.007121 L2-Train Loss: 0.007996 Test Accuracy: 0.00%\n",
      "grad_l2_norm =  tensor(3.1993e-08, device='cuda:0')\n",
      "T: 240.000 Train Loss: 0.006991 L2-Train Loss: 0.007840 Test Accuracy: 0.00%\n",
      "grad_l2_norm =  tensor(2.5368e-08, device='cuda:0')\n",
      "T: 260.000 Train Loss: 0.006870 L2-Train Loss: 0.007692 Test Accuracy: 0.00%\n",
      "grad_l2_norm =  tensor(2.9113e-08, device='cuda:0')\n",
      "T: 280.000 Train Loss: 0.006755 L2-Train Loss: 0.007553 Test Accuracy: 0.00%\n",
      "grad_l2_norm =  tensor(2.8883e-08, device='cuda:0')\n"
     ]
    },
    {
     "name": "stderr",
     "output_type": "stream",
     "text": [
      "\r",
      " 20%|████████████████▍                                                                 | 2/10 [09:19<37:17, 279.70s/it]"
     ]
    },
    {
     "name": "stdout",
     "output_type": "stream",
     "text": [
      "T: 0.020 Train Loss: 0.249072 L2-Train Loss: 10.060406 Test Accuracy: 0.00%\n",
      "grad_l2_norm =  tensor(2.6792e-05, device='cuda:0')\n",
      "T: 20.000 Train Loss: 0.025063 L2-Train Loss: 0.191443 Test Accuracy: 0.00%\n",
      "grad_l2_norm =  tensor(2.3103e-06, device='cuda:0')\n",
      "T: 40.000 Train Loss: 0.011580 L2-Train Loss: 0.012899 Test Accuracy: 0.00%\n",
      "grad_l2_norm =  tensor(3.6339e-07, device='cuda:0')\n",
      "T: 60.000 Train Loss: 0.010053 L2-Train Loss: 0.010808 Test Accuracy: 0.00%\n",
      "grad_l2_norm =  tensor(2.4445e-07, device='cuda:0')\n",
      "T: 80.000 Train Loss: 0.008907 L2-Train Loss: 0.009955 Test Accuracy: 0.00%\n",
      "grad_l2_norm =  tensor(1.0855e-07, device='cuda:0')\n",
      "T: 100.000 Train Loss: 0.008476 L2-Train Loss: 0.009536 Test Accuracy: 0.00%\n",
      "grad_l2_norm =  tensor(5.1108e-08, device='cuda:0')\n",
      "T: 120.000 Train Loss: 0.008156 L2-Train Loss: 0.009187 Test Accuracy: 0.00%\n",
      "grad_l2_norm =  tensor(4.4536e-08, device='cuda:0')\n",
      "T: 140.000 Train Loss: 0.007898 L2-Train Loss: 0.008896 Test Accuracy: 0.00%\n",
      "grad_l2_norm =  tensor(4.3433e-08, device='cuda:0')\n",
      "T: 160.000 Train Loss: 0.007687 L2-Train Loss: 0.008651 Test Accuracy: 0.00%\n",
      "grad_l2_norm =  tensor(4.3872e-08, device='cuda:0')\n",
      "T: 180.000 Train Loss: 0.007504 L2-Train Loss: 0.008438 Test Accuracy: 0.00%\n",
      "grad_l2_norm =  tensor(3.4861e-08, device='cuda:0')\n",
      "T: 200.000 Train Loss: 0.007344 L2-Train Loss: 0.008247 Test Accuracy: 0.00%\n",
      "grad_l2_norm =  tensor(3.6656e-08, device='cuda:0')\n",
      "T: 220.000 Train Loss: 0.007193 L2-Train Loss: 0.008069 Test Accuracy: 0.00%\n",
      "grad_l2_norm =  tensor(2.9360e-08, device='cuda:0')\n",
      "T: 240.000 Train Loss: 0.007061 L2-Train Loss: 0.007910 Test Accuracy: 0.00%\n",
      "grad_l2_norm =  tensor(3.5426e-08, device='cuda:0')\n",
      "T: 260.000 Train Loss: 0.006934 L2-Train Loss: 0.007758 Test Accuracy: 0.00%\n",
      "grad_l2_norm =  tensor(2.7178e-08, device='cuda:0')\n",
      "T: 280.000 Train Loss: 0.006814 L2-Train Loss: 0.007613 Test Accuracy: 0.00%\n",
      "grad_l2_norm =  tensor(3.3135e-08, device='cuda:0')\n"
     ]
    },
    {
     "name": "stderr",
     "output_type": "stream",
     "text": [
      "\r",
      " 30%|████████████████████████▌                                                         | 3/10 [13:58<32:37, 279.62s/it]"
     ]
    },
    {
     "name": "stdout",
     "output_type": "stream",
     "text": [
      "T: 0.020 Train Loss: 0.249545 L2-Train Loss: 10.059599 Test Accuracy: 0.00%\n",
      "grad_l2_norm =  tensor(2.7350e-05, device='cuda:0')\n",
      "T: 20.000 Train Loss: 0.025485 L2-Train Loss: 0.191897 Test Accuracy: 0.00%\n",
      "grad_l2_norm =  tensor(2.3694e-06, device='cuda:0')\n",
      "T: 40.000 Train Loss: 0.011765 L2-Train Loss: 0.013104 Test Accuracy: 0.00%\n",
      "grad_l2_norm =  tensor(3.8064e-07, device='cuda:0')\n",
      "T: 60.000 Train Loss: 0.010350 L2-Train Loss: 0.011104 Test Accuracy: 0.00%\n",
      "grad_l2_norm =  tensor(2.1082e-07, device='cuda:0')\n",
      "T: 80.000 Train Loss: 0.009088 L2-Train Loss: 0.010138 Test Accuracy: 0.00%\n",
      "grad_l2_norm =  tensor(9.3178e-08, device='cuda:0')\n",
      "T: 100.000 Train Loss: 0.008618 L2-Train Loss: 0.009678 Test Accuracy: 0.00%\n",
      "grad_l2_norm =  tensor(6.4225e-08, device='cuda:0')\n",
      "T: 120.000 Train Loss: 0.008273 L2-Train Loss: 0.009304 Test Accuracy: 0.00%\n",
      "grad_l2_norm =  tensor(3.5235e-08, device='cuda:0')\n",
      "T: 140.000 Train Loss: 0.008006 L2-Train Loss: 0.009003 Test Accuracy: 0.00%\n",
      "grad_l2_norm =  tensor(4.7109e-08, device='cuda:0')\n",
      "T: 160.000 Train Loss: 0.007786 L2-Train Loss: 0.008750 Test Accuracy: 0.00%\n",
      "grad_l2_norm =  tensor(3.7393e-08, device='cuda:0')\n",
      "T: 180.000 Train Loss: 0.007598 L2-Train Loss: 0.008532 Test Accuracy: 0.00%\n",
      "grad_l2_norm =  tensor(3.3876e-08, device='cuda:0')\n",
      "T: 200.000 Train Loss: 0.007429 L2-Train Loss: 0.008334 Test Accuracy: 0.00%\n",
      "grad_l2_norm =  tensor(2.8598e-08, device='cuda:0')\n",
      "T: 220.000 Train Loss: 0.007272 L2-Train Loss: 0.008150 Test Accuracy: 0.00%\n",
      "grad_l2_norm =  tensor(3.4037e-08, device='cuda:0')\n",
      "T: 240.000 Train Loss: 0.007130 L2-Train Loss: 0.007980 Test Accuracy: 0.00%\n",
      "grad_l2_norm =  tensor(3.4952e-08, device='cuda:0')\n",
      "T: 260.000 Train Loss: 0.006997 L2-Train Loss: 0.007821 Test Accuracy: 0.00%\n",
      "grad_l2_norm =  tensor(3.5392e-08, device='cuda:0')\n",
      "T: 280.000 Train Loss: 0.006876 L2-Train Loss: 0.007674 Test Accuracy: 0.00%\n",
      "grad_l2_norm =  tensor(2.7753e-08, device='cuda:0')\n"
     ]
    },
    {
     "name": "stderr",
     "output_type": "stream",
     "text": [
      "\r",
      " 40%|████████████████████████████████▊                                                 | 4/10 [18:38<27:57, 279.67s/it]"
     ]
    },
    {
     "name": "stdout",
     "output_type": "stream",
     "text": [
      "T: 0.020 Train Loss: 0.250039 L2-Train Loss: 10.053991 Test Accuracy: 0.00%\n",
      "grad_l2_norm =  tensor(2.7073e-05, device='cuda:0')\n",
      "T: 20.000 Train Loss: 0.024664 L2-Train Loss: 0.190984 Test Accuracy: 0.00%\n",
      "grad_l2_norm =  tensor(2.1845e-06, device='cuda:0')\n",
      "T: 40.000 Train Loss: 0.011879 L2-Train Loss: 0.013194 Test Accuracy: 0.00%\n",
      "grad_l2_norm =  tensor(4.2035e-07, device='cuda:0')\n",
      "T: 60.000 Train Loss: 0.010208 L2-Train Loss: 0.010965 Test Accuracy: 0.00%\n",
      "grad_l2_norm =  tensor(2.5468e-07, device='cuda:0')\n",
      "T: 80.000 Train Loss: 0.009040 L2-Train Loss: 0.010088 Test Accuracy: 0.00%\n",
      "grad_l2_norm =  tensor(7.5770e-08, device='cuda:0')\n",
      "T: 100.000 Train Loss: 0.008603 L2-Train Loss: 0.009662 Test Accuracy: 0.00%\n",
      "grad_l2_norm =  tensor(4.7452e-08, device='cuda:0')\n",
      "T: 120.000 Train Loss: 0.008294 L2-Train Loss: 0.009324 Test Accuracy: 0.00%\n",
      "grad_l2_norm =  tensor(5.2967e-08, device='cuda:0')\n",
      "T: 140.000 Train Loss: 0.008028 L2-Train Loss: 0.009025 Test Accuracy: 0.00%\n",
      "grad_l2_norm =  tensor(7.1308e-08, device='cuda:0')\n",
      "T: 160.000 Train Loss: 0.007818 L2-Train Loss: 0.008782 Test Accuracy: 0.00%\n",
      "grad_l2_norm =  tensor(3.5313e-08, device='cuda:0')\n",
      "T: 180.000 Train Loss: 0.007631 L2-Train Loss: 0.008563 Test Accuracy: 0.00%\n",
      "grad_l2_norm =  tensor(3.7569e-08, device='cuda:0')\n",
      "T: 200.000 Train Loss: 0.007466 L2-Train Loss: 0.008369 Test Accuracy: 0.00%\n",
      "grad_l2_norm =  tensor(3.0544e-08, device='cuda:0')\n",
      "T: 220.000 Train Loss: 0.007320 L2-Train Loss: 0.008194 Test Accuracy: 0.00%\n",
      "grad_l2_norm =  tensor(3.3645e-08, device='cuda:0')\n",
      "T: 240.000 Train Loss: 0.007177 L2-Train Loss: 0.008026 Test Accuracy: 0.00%\n",
      "grad_l2_norm =  tensor(2.9925e-08, device='cuda:0')\n",
      "T: 260.000 Train Loss: 0.007053 L2-Train Loss: 0.007876 Test Accuracy: 0.00%\n",
      "grad_l2_norm =  tensor(2.6653e-08, device='cuda:0')\n",
      "T: 280.000 Train Loss: 0.006938 L2-Train Loss: 0.007737 Test Accuracy: 0.00%\n",
      "grad_l2_norm =  tensor(3.4630e-08, device='cuda:0')\n"
     ]
    },
    {
     "name": "stderr",
     "output_type": "stream",
     "text": [
      "\r",
      " 50%|█████████████████████████████████████████                                         | 5/10 [23:18<23:18, 279.69s/it]"
     ]
    },
    {
     "name": "stdout",
     "output_type": "stream",
     "text": [
      "T: 0.020 Train Loss: 0.249574 L2-Train Loss: 10.058005 Test Accuracy: 0.00%\n",
      "grad_l2_norm =  tensor(2.7049e-05, device='cuda:0')\n",
      "T: 20.000 Train Loss: 0.025592 L2-Train Loss: 0.191768 Test Accuracy: 0.00%\n",
      "grad_l2_norm =  tensor(2.2851e-06, device='cuda:0')\n",
      "T: 40.000 Train Loss: 0.011757 L2-Train Loss: 0.013070 Test Accuracy: 0.00%\n",
      "grad_l2_norm =  tensor(3.5696e-07, device='cuda:0')\n",
      "T: 60.000 Train Loss: 0.010130 L2-Train Loss: 0.010887 Test Accuracy: 0.00%\n",
      "grad_l2_norm =  tensor(1.9439e-07, device='cuda:0')\n",
      "T: 80.000 Train Loss: 0.008950 L2-Train Loss: 0.009999 Test Accuracy: 0.00%\n",
      "grad_l2_norm =  tensor(1.0491e-07, device='cuda:0')\n",
      "T: 100.000 Train Loss: 0.008524 L2-Train Loss: 0.009584 Test Accuracy: 0.00%\n",
      "grad_l2_norm =  tensor(4.8127e-08, device='cuda:0')\n",
      "T: 120.000 Train Loss: 0.008183 L2-Train Loss: 0.009215 Test Accuracy: 0.00%\n",
      "grad_l2_norm =  tensor(4.7990e-08, device='cuda:0')\n",
      "T: 140.000 Train Loss: 0.007904 L2-Train Loss: 0.008901 Test Accuracy: 0.00%\n",
      "grad_l2_norm =  tensor(3.2816e-08, device='cuda:0')\n",
      "T: 160.000 Train Loss: 0.007690 L2-Train Loss: 0.008654 Test Accuracy: 0.00%\n",
      "grad_l2_norm =  tensor(3.1232e-08, device='cuda:0')\n",
      "T: 180.000 Train Loss: 0.007503 L2-Train Loss: 0.008438 Test Accuracy: 0.00%\n",
      "grad_l2_norm =  tensor(3.3765e-08, device='cuda:0')\n",
      "T: 200.000 Train Loss: 0.007335 L2-Train Loss: 0.008241 Test Accuracy: 0.00%\n",
      "grad_l2_norm =  tensor(3.8003e-08, device='cuda:0')\n",
      "T: 220.000 Train Loss: 0.007184 L2-Train Loss: 0.008061 Test Accuracy: 0.00%\n",
      "grad_l2_norm =  tensor(3.2042e-08, device='cuda:0')\n",
      "T: 240.000 Train Loss: 0.007043 L2-Train Loss: 0.007893 Test Accuracy: 0.00%\n",
      "grad_l2_norm =  tensor(3.2061e-08, device='cuda:0')\n",
      "T: 260.000 Train Loss: 0.006912 L2-Train Loss: 0.007736 Test Accuracy: 0.00%\n",
      "grad_l2_norm =  tensor(3.1933e-08, device='cuda:0')\n",
      "T: 280.000 Train Loss: 0.006795 L2-Train Loss: 0.007593 Test Accuracy: 0.00%\n",
      "grad_l2_norm =  tensor(3.1256e-08, device='cuda:0')\n"
     ]
    },
    {
     "name": "stderr",
     "output_type": "stream",
     "text": [
      "\r",
      " 60%|█████████████████████████████████████████████████▏                                | 6/10 [27:57<18:38, 279.63s/it]"
     ]
    },
    {
     "name": "stdout",
     "output_type": "stream",
     "text": [
      "T: 0.020 Train Loss: 0.249811 L2-Train Loss: 10.051003 Test Accuracy: 0.00%\n",
      "grad_l2_norm =  tensor(2.6929e-05, device='cuda:0')\n",
      "T: 20.000 Train Loss: 0.024146 L2-Train Loss: 0.190528 Test Accuracy: 0.00%\n",
      "grad_l2_norm =  tensor(2.0104e-06, device='cuda:0')\n",
      "T: 40.000 Train Loss: 0.012201 L2-Train Loss: 0.013506 Test Accuracy: 0.00%\n",
      "grad_l2_norm =  tensor(3.9733e-07, device='cuda:0')\n",
      "T: 60.000 Train Loss: 0.010195 L2-Train Loss: 0.010953 Test Accuracy: 0.00%\n",
      "grad_l2_norm =  tensor(2.1676e-07, device='cuda:0')\n",
      "T: 80.000 Train Loss: 0.009047 L2-Train Loss: 0.010095 Test Accuracy: 0.00%\n",
      "grad_l2_norm =  tensor(1.0759e-07, device='cuda:0')\n",
      "T: 100.000 Train Loss: 0.008576 L2-Train Loss: 0.009635 Test Accuracy: 0.00%\n",
      "grad_l2_norm =  tensor(6.6107e-08, device='cuda:0')\n",
      "T: 120.000 Train Loss: 0.008233 L2-Train Loss: 0.009263 Test Accuracy: 0.00%\n",
      "grad_l2_norm =  tensor(4.6016e-08, device='cuda:0')\n",
      "T: 140.000 Train Loss: 0.007971 L2-Train Loss: 0.008968 Test Accuracy: 0.00%\n",
      "grad_l2_norm =  tensor(3.1484e-08, device='cuda:0')\n",
      "T: 160.000 Train Loss: 0.007757 L2-Train Loss: 0.008720 Test Accuracy: 0.00%\n",
      "grad_l2_norm =  tensor(3.3871e-08, device='cuda:0')\n",
      "T: 180.000 Train Loss: 0.007574 L2-Train Loss: 0.008506 Test Accuracy: 0.00%\n",
      "grad_l2_norm =  tensor(4.1062e-08, device='cuda:0')\n",
      "T: 200.000 Train Loss: 0.007406 L2-Train Loss: 0.008309 Test Accuracy: 0.00%\n",
      "grad_l2_norm =  tensor(2.6936e-08, device='cuda:0')\n",
      "T: 220.000 Train Loss: 0.007259 L2-Train Loss: 0.008135 Test Accuracy: 0.00%\n",
      "grad_l2_norm =  tensor(3.4226e-08, device='cuda:0')\n",
      "T: 240.000 Train Loss: 0.007122 L2-Train Loss: 0.007969 Test Accuracy: 0.00%\n",
      "grad_l2_norm =  tensor(3.5129e-08, device='cuda:0')\n",
      "T: 260.000 Train Loss: 0.006999 L2-Train Loss: 0.007821 Test Accuracy: 0.00%\n",
      "grad_l2_norm =  tensor(3.1145e-08, device='cuda:0')\n",
      "T: 280.000 Train Loss: 0.006885 L2-Train Loss: 0.007683 Test Accuracy: 0.00%\n",
      "grad_l2_norm =  tensor(3.5509e-08, device='cuda:0')\n"
     ]
    },
    {
     "name": "stderr",
     "output_type": "stream",
     "text": [
      "\r",
      " 70%|█████████████████████████████████████████████████████████▍                        | 7/10 [32:37<13:58, 279.63s/it]"
     ]
    },
    {
     "name": "stdout",
     "output_type": "stream",
     "text": [
      "T: 0.020 Train Loss: 0.250533 L2-Train Loss: 10.062228 Test Accuracy: 0.00%\n",
      "grad_l2_norm =  tensor(2.7648e-05, device='cuda:0')\n",
      "T: 20.000 Train Loss: 0.024398 L2-Train Loss: 0.190972 Test Accuracy: 0.00%\n",
      "grad_l2_norm =  tensor(2.1295e-06, device='cuda:0')\n",
      "T: 40.000 Train Loss: 0.012338 L2-Train Loss: 0.013655 Test Accuracy: 0.00%\n",
      "grad_l2_norm =  tensor(5.2305e-07, device='cuda:0')\n",
      "T: 60.000 Train Loss: 0.010369 L2-Train Loss: 0.011126 Test Accuracy: 0.00%\n",
      "grad_l2_norm =  tensor(1.8421e-07, device='cuda:0')\n",
      "T: 80.000 Train Loss: 0.009154 L2-Train Loss: 0.010204 Test Accuracy: 0.00%\n",
      "grad_l2_norm =  tensor(1.0681e-07, device='cuda:0')\n",
      "T: 100.000 Train Loss: 0.008672 L2-Train Loss: 0.009732 Test Accuracy: 0.00%\n",
      "grad_l2_norm =  tensor(6.6922e-08, device='cuda:0')\n",
      "T: 120.000 Train Loss: 0.008323 L2-Train Loss: 0.009354 Test Accuracy: 0.00%\n",
      "grad_l2_norm =  tensor(4.0993e-08, device='cuda:0')\n",
      "T: 140.000 Train Loss: 0.008044 L2-Train Loss: 0.009042 Test Accuracy: 0.00%\n",
      "grad_l2_norm =  tensor(4.1537e-08, device='cuda:0')\n",
      "T: 160.000 Train Loss: 0.007831 L2-Train Loss: 0.008796 Test Accuracy: 0.00%\n",
      "grad_l2_norm =  tensor(3.8538e-08, device='cuda:0')\n",
      "T: 180.000 Train Loss: 0.007647 L2-Train Loss: 0.008580 Test Accuracy: 0.00%\n",
      "grad_l2_norm =  tensor(3.5342e-08, device='cuda:0')\n",
      "T: 200.000 Train Loss: 0.007476 L2-Train Loss: 0.008380 Test Accuracy: 0.00%\n",
      "grad_l2_norm =  tensor(3.7037e-08, device='cuda:0')\n",
      "T: 220.000 Train Loss: 0.007328 L2-Train Loss: 0.008204 Test Accuracy: 0.00%\n",
      "grad_l2_norm =  tensor(2.8211e-08, device='cuda:0')\n",
      "T: 240.000 Train Loss: 0.007193 L2-Train Loss: 0.008041 Test Accuracy: 0.00%\n",
      "grad_l2_norm =  tensor(3.3232e-08, device='cuda:0')\n",
      "T: 260.000 Train Loss: 0.007068 L2-Train Loss: 0.007892 Test Accuracy: 0.00%\n",
      "grad_l2_norm =  tensor(3.1184e-08, device='cuda:0')\n",
      "T: 280.000 Train Loss: 0.006950 L2-Train Loss: 0.007748 Test Accuracy: 0.00%\n",
      "grad_l2_norm =  tensor(2.9572e-08, device='cuda:0')\n"
     ]
    },
    {
     "name": "stderr",
     "output_type": "stream",
     "text": [
      "\r",
      " 80%|█████████████████████████████████████████████████████████████████▌                | 8/10 [37:17<09:19, 279.59s/it]"
     ]
    },
    {
     "name": "stdout",
     "output_type": "stream",
     "text": [
      "T: 0.020 Train Loss: 0.249835 L2-Train Loss: 10.046372 Test Accuracy: 0.00%\n",
      "grad_l2_norm =  tensor(2.6555e-05, device='cuda:0')\n",
      "T: 20.000 Train Loss: 0.026481 L2-Train Loss: 0.192454 Test Accuracy: 0.00%\n",
      "grad_l2_norm =  tensor(2.5796e-06, device='cuda:0')\n",
      "T: 40.000 Train Loss: 0.011599 L2-Train Loss: 0.012930 Test Accuracy: 0.00%\n",
      "grad_l2_norm =  tensor(4.0706e-07, device='cuda:0')\n",
      "T: 60.000 Train Loss: 0.010080 L2-Train Loss: 0.010835 Test Accuracy: 0.00%\n",
      "grad_l2_norm =  tensor(1.9616e-07, device='cuda:0')\n",
      "T: 80.000 Train Loss: 0.008881 L2-Train Loss: 0.009927 Test Accuracy: 0.00%\n",
      "grad_l2_norm =  tensor(8.1758e-08, device='cuda:0')\n",
      "T: 100.000 Train Loss: 0.008439 L2-Train Loss: 0.009497 Test Accuracy: 0.00%\n",
      "grad_l2_norm =  tensor(6.4052e-08, device='cuda:0')\n",
      "T: 120.000 Train Loss: 0.008101 L2-Train Loss: 0.009132 Test Accuracy: 0.00%\n",
      "grad_l2_norm =  tensor(4.5986e-08, device='cuda:0')\n",
      "T: 140.000 Train Loss: 0.007841 L2-Train Loss: 0.008836 Test Accuracy: 0.00%\n",
      "grad_l2_norm =  tensor(3.8179e-08, device='cuda:0')\n",
      "T: 160.000 Train Loss: 0.007627 L2-Train Loss: 0.008590 Test Accuracy: 0.00%\n",
      "grad_l2_norm =  tensor(4.6481e-08, device='cuda:0')\n",
      "T: 180.000 Train Loss: 0.007444 L2-Train Loss: 0.008374 Test Accuracy: 0.00%\n",
      "grad_l2_norm =  tensor(3.3418e-08, device='cuda:0')\n",
      "T: 200.000 Train Loss: 0.007284 L2-Train Loss: 0.008186 Test Accuracy: 0.00%\n",
      "grad_l2_norm =  tensor(3.2025e-08, device='cuda:0')\n",
      "T: 220.000 Train Loss: 0.007140 L2-Train Loss: 0.008015 Test Accuracy: 0.00%\n",
      "grad_l2_norm =  tensor(2.8842e-08, device='cuda:0')\n",
      "T: 240.000 Train Loss: 0.007003 L2-Train Loss: 0.007850 Test Accuracy: 0.00%\n",
      "grad_l2_norm =  tensor(3.9914e-08, device='cuda:0')\n",
      "T: 260.000 Train Loss: 0.006877 L2-Train Loss: 0.007699 Test Accuracy: 0.00%\n",
      "grad_l2_norm =  tensor(2.8901e-08, device='cuda:0')\n",
      "T: 280.000 Train Loss: 0.006756 L2-Train Loss: 0.007553 Test Accuracy: 0.00%\n",
      "grad_l2_norm =  tensor(3.6020e-08, device='cuda:0')\n"
     ]
    },
    {
     "name": "stderr",
     "output_type": "stream",
     "text": [
      "\r",
      " 90%|█████████████████████████████████████████████████████████████████████████▊        | 9/10 [41:56<04:39, 279.59s/it]"
     ]
    },
    {
     "name": "stdout",
     "output_type": "stream",
     "text": [
      "T: 0.020 Train Loss: 0.249860 L2-Train Loss: 10.039928 Test Accuracy: 0.00%\n",
      "grad_l2_norm =  tensor(2.7435e-05, device='cuda:0')\n",
      "T: 20.000 Train Loss: 0.023379 L2-Train Loss: 0.189630 Test Accuracy: 0.00%\n",
      "grad_l2_norm =  tensor(1.9836e-06, device='cuda:0')\n",
      "T: 40.000 Train Loss: 0.012127 L2-Train Loss: 0.013430 Test Accuracy: 0.00%\n",
      "grad_l2_norm =  tensor(4.3123e-07, device='cuda:0')\n",
      "T: 60.000 Train Loss: 0.010226 L2-Train Loss: 0.010980 Test Accuracy: 0.00%\n",
      "grad_l2_norm =  tensor(1.8063e-07, device='cuda:0')\n",
      "T: 80.000 Train Loss: 0.009068 L2-Train Loss: 0.010115 Test Accuracy: 0.00%\n",
      "grad_l2_norm =  tensor(9.1173e-08, device='cuda:0')\n",
      "T: 100.000 Train Loss: 0.008624 L2-Train Loss: 0.009681 Test Accuracy: 0.00%\n",
      "grad_l2_norm =  tensor(5.1698e-08, device='cuda:0')\n",
      "T: 120.000 Train Loss: 0.008289 L2-Train Loss: 0.009318 Test Accuracy: 0.00%\n",
      "grad_l2_norm =  tensor(4.8964e-08, device='cuda:0')\n",
      "T: 140.000 Train Loss: 0.008015 L2-Train Loss: 0.009010 Test Accuracy: 0.00%\n",
      "grad_l2_norm =  tensor(3.1789e-08, device='cuda:0')\n",
      "T: 160.000 Train Loss: 0.007804 L2-Train Loss: 0.008766 Test Accuracy: 0.00%\n",
      "grad_l2_norm =  tensor(4.2583e-08, device='cuda:0')\n",
      "T: 180.000 Train Loss: 0.007619 L2-Train Loss: 0.008552 Test Accuracy: 0.00%\n",
      "grad_l2_norm =  tensor(3.6758e-08, device='cuda:0')\n",
      "T: 200.000 Train Loss: 0.007453 L2-Train Loss: 0.008355 Test Accuracy: 0.00%\n",
      "grad_l2_norm =  tensor(5.5289e-08, device='cuda:0')\n",
      "T: 220.000 Train Loss: 0.007304 L2-Train Loss: 0.008178 Test Accuracy: 0.00%\n",
      "grad_l2_norm =  tensor(3.2296e-08, device='cuda:0')\n",
      "T: 240.000 Train Loss: 0.007167 L2-Train Loss: 0.008014 Test Accuracy: 0.00%\n",
      "grad_l2_norm =  tensor(3.8029e-08, device='cuda:0')\n",
      "T: 260.000 Train Loss: 0.007037 L2-Train Loss: 0.007858 Test Accuracy: 0.00%\n",
      "grad_l2_norm =  tensor(3.3986e-08, device='cuda:0')\n",
      "T: 280.000 Train Loss: 0.006917 L2-Train Loss: 0.007715 Test Accuracy: 0.00%\n",
      "grad_l2_norm =  tensor(3.5712e-08, device='cuda:0')\n"
     ]
    },
    {
     "name": "stderr",
     "output_type": "stream",
     "text": [
      "100%|█████████████████████████████████████████████████████████████████████████████████| 10/10 [46:36<00:00, 279.62s/it]"
     ]
    },
    {
     "name": "stdout",
     "output_type": "stream",
     "text": [
      "Finish test particle_num=2048.0000 cutoff = 500.00 lr = 0.020 lr2 = 0.020 momentum = 1.00 avg_trainloss=6.766e-03 avg_L2_trainloss=7.546e-03\n"
     ]
    },
    {
     "name": "stderr",
     "output_type": "stream",
     "text": [
      "\n"
     ]
    }
   ],
   "source": [
    "output_result = True\n",
    "\n",
    "test_var = 'particle_num'\n",
    "test_values = [128,256,512,1024,2048]\n",
    "\n",
    "# test_var = 'lr_2'\n",
    "# test_values = [0.002,0.005,0.01,0.02,0.05,0.1,0.2,1]\n",
    "\n",
    "# test_var = 'momentum'\n",
    "# test_values = [True, False]\n",
    "\n",
    "# test_var = 'lr_2'\n",
    "# test_values = [0.1]\n",
    "\n",
    "test_time_per_objective = 10\n",
    "\n",
    "result_trainloss_set = []\n",
    "result_L2_trainloss_set = []\n",
    "result_testacc_set = []\n",
    "\n",
    "for test_value in test_values:\n",
    "    globals()[test_var] = test_value\n",
    "    \n",
    "    trainloss_current = []\n",
    "    L2_trainloss_current = []\n",
    "    testacc_current = []\n",
    "    \n",
    "    for test_number in tqdm(range(test_time_per_objective)):\n",
    "        # Define the loss function and optimizer\n",
    "        net = Net(N=particle_num,cut_off=cut_off).to(device)\n",
    "\n",
    "        if loss_type == 'MSE':\n",
    "            criterion = nn.MSELoss()\n",
    "        elif loss_type == 'KL':\n",
    "            criterion = nn.CrossEntropyLoss()\n",
    "\n",
    "        optimizer = FullMomentumGradientDescentWithNoisyAndWeightDecay(net.parameters(),particle_num, momentum=momentum, lr=lr,lr_2= lr_2,\n",
    "                                                               weight_decay = weight_decay, noise_scale = sigma, gamma=gamma)\n",
    "\n",
    "        # Train the network\n",
    "        T = 300\n",
    "        epochs = int(T//lr)\n",
    "        \n",
    "        # epochs = 10000\n",
    "        \n",
    "        train_losses = []\n",
    "        test_accs = []\n",
    "        L2_train_losses = []\n",
    "        \n",
    "        for epoch in range(1, epochs + 1):\n",
    "#             for param_group in optimizer.param_groups:\n",
    "#                 param_group['lr_2'] = 1\n",
    "            \n",
    "            train_loss = 0.0\n",
    "            net.train()\n",
    "\n",
    "            optimizer.zero_grad()\n",
    "            output = net(data)\n",
    "            if loss_type == 'MSE':\n",
    "                loss = criterion(output, target_onehot.float())/2\n",
    "            elif loss_type == 'KL':\n",
    "                loss = criterion(output, target)/2\n",
    "\n",
    "            loss.backward()\n",
    "            optimizer.step()\n",
    "            train_loss += loss.item() * data.size(0)\n",
    "\n",
    "            train_loss /= len(train_loader.dataset)\n",
    "            train_losses.append(train_loss)\n",
    "\n",
    "            squared_sum = 0\n",
    "#             l2_norm = torch.zeros(particle_num).cuda()\n",
    "            \n",
    "#             for p_idx, p in enumerate(net.parameters()):\n",
    "#                 if p_idx == 0:\n",
    "#                     l2_norm +=  (p.data **2).sum(axis=1)\n",
    "#                 elif p_idx == 2:\n",
    "#                     l2_norm +=  (p.data **2).sum(axis=0)\n",
    "#                 else: \n",
    "#                     l2_norm +=  (p.data **2)\n",
    "                    \n",
    "#             reg_array = (l2_norm > C).long()\n",
    "            \n",
    "#             for idx, param in enumerate(net.parameters()):\n",
    "#                 if idx == 2:  # 存疑\n",
    "#                     data_temp = torch.clamp(param.data, min=-cut_off,max=cut_off)\n",
    "#                     squared_sum += torch.sum((data_temp * reg_array) ** 2) / particle_num\n",
    "#                 elif idx == 1:\n",
    "#                     squared_sum += torch.sum((param.data * reg_array) ** 2) / particle_num\n",
    "#                 elif idx == 0:\n",
    "#                     squared_sum += torch.sum((param.data * reg_array.view(particle_num,1)) ** 2) / particle_num\n",
    "                    \n",
    "            L2_trian_loss = train_loss + squared_sum * weight_decay * 0\n",
    "\n",
    "            velo_squared_sum = 0\n",
    "            for group in optimizer.param_groups:\n",
    "                for p in group['params']:\n",
    "                    param_state = optimizer.state[p]\n",
    "                    velo_squared_sum += torch.sum(param_state['momentum_buffer'] ** 2) / particle_num\n",
    "            \n",
    "            L2_trian_loss += gamma/2 * velo_squared_sum.item()\n",
    "            \n",
    "            L2_train_losses.append(L2_trian_loss)\n",
    "\n",
    "            net.eval()\n",
    "            correct = 0\n",
    "#             with torch.no_grad():\n",
    "#                 output = net(test_data)\n",
    "#                 _, predicted = torch.max(output.data, 1)\n",
    "#                 correct += (predicted == test_target).sum().item()\n",
    "\n",
    "            test_acc = correct / len(test_loader.dataset)\n",
    "            test_accs.append(test_acc)\n",
    "            if (epoch == 1 or epoch % 1000 == 0) and output_result:\n",
    "                \n",
    "                print('T: {:.3f} Train Loss: {:.6f} L2-Train Loss: {:.6f} Test Accuracy: {:.2f}%'.format(\n",
    "                    epoch * lr, train_loss, L2_trian_loss, 100. * test_acc))\n",
    "                \n",
    "                squared_sum = 0\n",
    "            \n",
    "                for idx, param in enumerate(net.parameters()):\n",
    "                    squared_sum += torch.sum(param.grad.data ** 2)\n",
    "                        \n",
    "                print('grad_l2_norm = ',squared_sum)\n",
    "                \n",
    "        trainloss_current.append(train_losses)\n",
    "        L2_trainloss_current.append(L2_train_losses)\n",
    "        testacc_current.append(test_accs)\n",
    "\n",
    "    result_trainloss_set.append(trainloss_current)\n",
    "    result_L2_trainloss_set.append(L2_trainloss_current)\n",
    "    result_testacc_set.append(testacc_current)\n",
    "    \n",
    "    avg_trainloss_cur = np.mean(np.array(trainloss_current)[:,-500:])\n",
    "    avg_L2_trainloss =  np.mean(np.array(L2_trainloss_current)[:,-500:])\n",
    "    \n",
    "    print('Finish test %s=%.4f'%(test_var,globals()[test_var]),\n",
    "          'cutoff = %.2f'%(cut_off),\n",
    "           'lr = %.3f'%(lr),\n",
    "           'lr2 = %.3f'%(lr_2),\n",
    "          'momentum = %.2f'%(momentum),\n",
    "          'avg_trainloss=%.3e'%(avg_trainloss_cur), \n",
    "          'avg_L2_trainloss=%.3e'%(avg_L2_trainloss))"
   ]
  },
  {
   "cell_type": "markdown",
   "id": "5688deec",
   "metadata": {},
   "source": [
    "## 数据存储"
   ]
  },
  {
   "cell_type": "code",
   "execution_count": 11,
   "id": "2748de5e",
   "metadata": {},
   "outputs": [],
   "source": [
    "# data save (serialize)\n",
    "\n",
    "with open('data_err_tested_0625_N_test10.txt','wb')as f:\n",
    "#     pickle.dump({'err_train':err_train,'err_valid':err_valid,'predicts_list':predicts_list},f)  \n",
    "    pickle.dump({'result_trainloss_set':result_trainloss_set, 'result_L2_trainloss_set':result_L2_trainloss_set,'result_testacc_set':result_testacc_set},f)  "
   ]
  },
  {
   "cell_type": "code",
   "execution_count": 12,
   "id": "f42415ab",
   "metadata": {},
   "outputs": [],
   "source": [
    "# with open('data_err_tested_0603_compared_momentum_nomomentum.txt','rb') as f:\n",
    "#     data_dict = pickle.load(f)  \n",
    "    \n",
    "# result_trainloss_set, result_L2_trainloss_set, result_testacc_set = data_dict['result_trainloss_set'], data_dict['result_L2_trainloss_set'],data_dict['result_testacc_set']\n"
   ]
  },
  {
   "cell_type": "code",
   "execution_count": 13,
   "id": "cf15f685",
   "metadata": {},
   "outputs": [],
   "source": [
    "# result_err_set = []\n",
    "# result_loss_path_set = []\n",
    "\n",
    "# for test_value_idx in range(test_values_num):\n",
    "#     result_loss_path_curr = []\n",
    "#     result_err_curr = []\n",
    "#     for exp_idx in range(len(result_err_set1)):\n",
    "#         result_loss_path_curr.append(result_loss_path_set1[test_value_idx][exp_idx])\n",
    "#         result_err_curr.append(result_err_set1[test_value_idx][exp_idx])\n",
    "        \n",
    "#     for exp_idx in range(len(result_err_set2)):\n",
    "#         result_loss_path_curr.append(result_loss_path_set2[test_value_idx][exp_idx])\n",
    "#         result_err_curr.append(result_err_set2[test_value_idx][exp_idx])    \n",
    "    \n",
    "#     result_err_set.append(result_err_curr)\n",
    "#     result_loss_path_set.append(result_loss_path_curr)\n",
    "    "
   ]
  },
  {
   "cell_type": "markdown",
   "id": "3a430e11",
   "metadata": {},
   "source": [
    "## 可视化"
   ]
  },
  {
   "cell_type": "code",
   "execution_count": 14,
   "id": "189074ce",
   "metadata": {},
   "outputs": [],
   "source": [
    "def smooth_loss(loss_array, window_size=3):\n",
    "    \"\"\"\n",
    "    Smooths out a 1D array of loss values by replacing each value with the mean\n",
    "    of itself and its neighbors, within a given window size.\n",
    "    \n",
    "    Args:\n",
    "        loss_array (list or numpy array): 1D array of loss values to be smoothed\n",
    "        window_size (int): Size of the window for computing the mean, default is 3\n",
    "        \n",
    "    Returns:\n",
    "        smoothed_loss (numpy array): 1D array of smoothed loss values\n",
    "    \"\"\"\n",
    "    if window_size == 0:\n",
    "        return loss_array\n",
    "    \n",
    "    # Pad the array with zeros on either end to handle edge cases\n",
    "    padded_loss = np.pad(loss_array, (window_size//2, window_size//2), mode='edge')\n",
    "    \n",
    "    # Compute the rolling mean of the padded array\n",
    "    smoothed_loss = np.convolve(padded_loss, np.ones(window_size)/window_size, mode='valid')\n",
    "    \n",
    "    return smoothed_loss"
   ]
  },
  {
   "cell_type": "code",
   "execution_count": 15,
   "id": "7a381807",
   "metadata": {},
   "outputs": [],
   "source": [
    "from mpl_toolkits.axes_grid1.inset_locator import mark_inset\n",
    "from mpl_toolkits.axes_grid1.inset_locator import inset_axes\n",
    "# import seaborn\n",
    "# from sklearn import linear_model"
   ]
  },
  {
   "cell_type": "markdown",
   "id": "65fe3987",
   "metadata": {},
   "source": [
    "### N test with/without V2 has been moved into visualization.ipynb"
   ]
  },
  {
   "cell_type": "code",
   "execution_count": 16,
   "id": "ad8965ab",
   "metadata": {},
   "outputs": [
    {
     "data": {
      "image/png": "[encoded data removed]",
      "text/plain": [
       "<Figure size 400x350 with 1 Axes>"
      ]
     },
     "metadata": {},
     "output_type": "display_data"
    }
   ],
   "source": [
    "# log 2 loss versus interation numbers, different test var, restore the test info at first\n",
    "\n",
    "# test_var = 'c_cutoff'\n",
    "# test_values = [1,2,5,10,20]\n",
    "\n",
    "# test_var = 'particle_num'\n",
    "# try:\n",
    "#     print(test_values)\n",
    "# except:\n",
    "#     test_values = [32,64,128,256,512]\n",
    "\n",
    "# test_var = 'momentum'\n",
    "# test_values = [True, False]\n",
    "# lr = 0.01\n",
    "# test_values = [32,64,128,256,512,1024,2048]\n",
    "\n",
    "test_var = 'particle_num'\n",
    "# test_values = [32,64,128,256,512,1024]\n",
    "\n",
    "log_wise_step = False\n",
    "log_wise_loss = True\n",
    "minus_minimum = False\n",
    "time_xaxis = True\n",
    "\n",
    "# colors = sns.color_palette(\"Paired\")[1:len(test_values)+1]\n",
    "colors = [sns.xkcd_rgb['pale red'],sns.xkcd_rgb['medium green'], sns.xkcd_rgb['denim blue'],'purple',sns.xkcd_rgb['orange'],'yellow','black','brown','C1']\n",
    "\n",
    "plot_idx = 0\n",
    "\n",
    "fig = plt.figure(figsize=(4,3.5))\n",
    "\n",
    "if plot_idx == 0:\n",
    "    ax1 = fig.add_subplot(111)\n",
    "    ax2 = None\n",
    "else:\n",
    "    ax1 = None\n",
    "    ax2 = fig.add_subplot(111)\n",
    "\n",
    "axs = [ax1,ax2]\n",
    "labels = ['\\\\frac{1}{N}F_{NNet}^N(m_t^N)', '\\\\frac{1}{N}F_{NNet}^N(m_t^N) + \\\\frac{1}{N}F_{Ext}^N(m_t^N)']\n",
    "losses_set = [result_trainloss_set,result_L2_trainloss_set]\n",
    "disvisible_index = []\n",
    "\n",
    "for idx, losses in enumerate(losses_set):\n",
    "    if idx != plot_idx:\n",
    "        continue\n",
    "        \n",
    "    ax = axs[idx]\n",
    "    eps = 1e-4\n",
    "    smooth_window_size = 300\n",
    "\n",
    "    for idx_ in range(len(test_values)):\n",
    "        if idx_ in disvisible_index:\n",
    "            continue\n",
    "        I = np.array(losses[idx_]).shape[-1]\n",
    "        obser_end = int(I * 1) \n",
    "        # obser_end = 200\n",
    "        \n",
    "        xplot_set = np.arange(I) if log_wise_loss else np.arange(I-1)\n",
    "    \n",
    "        globals()[test_var] = test_values[idx_]\n",
    "        \n",
    "        if time_xaxis == False:\n",
    "            lr = 1\n",
    "\n",
    "        xplot_set = np.log2(np.arange(1,I+1)) if log_wise_step else np.arange(I)\n",
    "\n",
    "        for pending_list in losses[idx_]:\n",
    "\n",
    "            yplot_set = smooth_loss(pending_list, window_size  = smooth_window_size)\n",
    "            yplot_set = np.log2(yplot_set - min(yplot_set) + eps) if minus_minimum else np.log10(yplot_set)\n",
    "            \n",
    "            ax.plot(xplot_set[:obser_end]*lr,yplot_set[:obser_end],c=colors[idx_],alpha=0.2,zorder = 1)\n",
    "        \n",
    "        yplot_set = np.mean(losses[idx_],axis=0)\n",
    "        yplot_set = smooth_loss(yplot_set, window_size  = smooth_window_size)\n",
    "        yplot_set = np.log2(yplot_set - min(yplot_set) + eps) if minus_minimum else np.log10(yplot_set)\n",
    "\n",
    "        ax.plot(xplot_set[:obser_end]* lr,yplot_set[:obser_end],linewidth = 2.5,\n",
    "                 zorder = -idx_,c=colors[idx_],label='N = %d'%(test_values[idx_]))\n",
    "        \n",
    "        \n",
    "    ax.legend(loc = 'upper right',ncol=1)\n",
    "#     ax.set_ylim(-2,-1)\n",
    "    ax.set_xlabel('$log_{10} (Step)$') if log_wise_step else plt.xlabel('$Time$')\n",
    "    ax.set_ylabel('$log_{10} (%s)$'%(labels[idx])) \n",
    "    \n",
    "plt.savefig('MNIST_paths.png', bbox_inches='tight')\n",
    "plt.show()\n",
    "\n"
   ]
  },
  {
   "cell_type": "markdown",
   "id": "f90bba5d",
   "metadata": {},
   "source": [
    "## momentum test"
   ]
  },
  {
   "cell_type": "code",
   "execution_count": 17,
   "id": "0e73f612",
   "metadata": {
    "scrolled": false
   },
   "outputs": [],
   "source": [
    "# # log 2 loss versus interation numbers, different test var, restore the test info at first\n",
    "\n",
    "# # test_var = 'c_cutoff'\n",
    "# # test_values = [1,2,5,10,20]\n",
    "\n",
    "# # test_var = 'particle_num'\n",
    "# # try:\n",
    "# #     print(test_values)\n",
    "# # except:\n",
    "# #     test_values = [32,64,128,256,512]\n",
    "\n",
    "# test_var = 'momentum'\n",
    "# test_values = [True, False]\n",
    "# lr = 0.01\n",
    "# # test_values = [32,64,128,256,512,1024,2048]\n",
    "\n",
    "# log_wise_step = False\n",
    "# log_wise_loss = True\n",
    "# minus_minimum = False\n",
    "# time_xaxis = True\n",
    "\n",
    "# # colors = sns.color_palette(\"Paired\")[1:len(test_values)+1]\n",
    "# colors = ['C0','C3']\n",
    "\n",
    "# fig = plt.figure(figsize=(4,3.5))\n",
    "# ax1 = fig.add_subplot(111)\n",
    "# # ax2 = fig.add_subplot(122)\n",
    "\n",
    "# axs = [ax1,]\n",
    "# labels = ['train\\ loss', 'L2\\ regularized\\ train\\ loss']\n",
    "# disvisible_index = [] # [2,4]\n",
    "# labels = ['Underdamped Langevin','Overdamped Langevin']\n",
    "\n",
    "# for idx, losses in enumerate([result_trainloss_set]):\n",
    "    \n",
    "#     ax = axs[idx]\n",
    "\n",
    "#     eps = 1e-4\n",
    "#     smooth_window_size = 1\n",
    "\n",
    "#     axins = inset_axes(ax, width=\"40%\", height=\"30%\",loc='lower left',\n",
    "#            bbox_to_anchor=(0.5, 0.45, 0.78, 0.8),\n",
    "#            bbox_transform=ax.transAxes)\n",
    "\n",
    "#     axins.set_xlim(0, 50)\n",
    "#     axins.set_ylim(-2.3, -1.3)\n",
    "\n",
    "#     for idx_ in range(len(test_values)):\n",
    "#         if idx_ in disvisible_index:\n",
    "#             continue\n",
    "#         I = np.array(losses[idx_]).shape[-1]\n",
    "#         obser_end = int(I * 1) \n",
    "#         # obser_end = 200\n",
    "        \n",
    "#         xplot_set = np.arange(I) if log_wise_loss else np.arange(I-1)\n",
    "    \n",
    "#         globals()[test_var] = test_values[idx_]\n",
    "        \n",
    "#         if time_xaxis == False:\n",
    "#             lr = 1\n",
    "\n",
    "#         xplot_set = np.log2(np.arange(1,I+1)) if log_wise_step else np.arange(I)\n",
    "\n",
    "#         for pending_list in losses[idx_]:\n",
    "\n",
    "#             yplot_set = smooth_loss(pending_list, window_size  = smooth_window_size)\n",
    "#             yplot_set = np.log2(yplot_set - min(yplot_set) + eps) if minus_minimum else np.log10(yplot_set)\n",
    "            \n",
    "#             ax.plot(xplot_set[:obser_end]*lr,yplot_set[:obser_end],c=colors[idx_],alpha=0.05,zorder = 1)\n",
    "#             axins.plot(xplot_set[:obser_end]* lr,yplot_set[:obser_end],c=colors[idx_],linewidth=2.5)\n",
    "        \n",
    "#         yplot_set = np.mean(losses[idx_],axis=0)\n",
    "#         yplot_set = smooth_loss(yplot_set, window_size  = smooth_window_size)\n",
    "#         yplot_set = np.log2(yplot_set - min(yplot_set) + eps) if minus_minimum else np.log10(yplot_set)\n",
    "\n",
    "#         ax.plot(xplot_set[:obser_end]* lr,yplot_set[:obser_end],linewidth = 2.5,\n",
    "#                  zorder = -idx_,c=colors[idx_],label=labels[idx_])\n",
    "        \n",
    "        \n",
    "#         axins.plot(xplot_set[:obser_end]* lr,yplot_set[:obser_end],c=colors[idx_],linewidth=2.5)\n",
    "    \n",
    "#     mark_inset(ax, axins,loc1=3, loc2=1, fc=\"none\", ec='k', lw=1,linestyle='--',alpha=0.8)\n",
    "#     ax.legend(loc = 'upper right',ncol=1)\n",
    "# #     ax.set_ylim(-2,-1)\n",
    "#     ax.set_xlabel('$log_{10} (Step)$') if log_wise_step else ax.set_xlabel('$Step$',fontsize =12)\n",
    "#     ax.set_ylabel('$log_{10} (\\\\frac{1}{N} F_{NNet})$',fontsize=12) \n",
    "    \n",
    "# plt.savefig('Compared_to_GD.png', bbox_inches='tight')\n",
    "# plt.show()\n",
    "\n"
   ]
  },
  {
   "cell_type": "markdown",
   "id": "63b75428",
   "metadata": {},
   "source": [
    "## Fitting"
   ]
  },
  {
   "cell_type": "code",
   "execution_count": 18,
   "id": "3c59b350",
   "metadata": {},
   "outputs": [],
   "source": [
    "from sklearn import linear_model\n",
    "\n",
    "trained_losses = []\n",
    "L2_trained_losses = []\n",
    "\n",
    "for idx, test_vulue in enumerate(test_values):\n",
    "    trained_losses_current = []\n",
    "    L2_trained_losses_current = []\n",
    "    \n",
    "    for test_number in range(len(result_trainloss_set[idx])):\n",
    "        trained_losses_current.append(np.mean(result_trainloss_set[idx][test_number][-500:]))\n",
    "        L2_trained_losses_current.append(np.mean(result_L2_trainloss_set[idx][test_number][-500:]))\n",
    "        \n",
    "    trained_losses.append(trained_losses_current)\n",
    "    L2_trained_losses.append(L2_trained_losses_current)\n",
    "    \n"
   ]
  },
  {
   "cell_type": "code",
   "execution_count": 52,
   "id": "7e5881e1",
   "metadata": {},
   "outputs": [],
   "source": [
    "# trained_losses = trained_losses[1:]\n",
    "# # L2_trained_losses = L2_trained_losses[1:]"
   ]
  },
  {
   "cell_type": "markdown",
   "id": "0ece6e8e",
   "metadata": {},
   "source": [
    "## Fixed alpha regression"
   ]
  },
  {
   "cell_type": "code",
   "execution_count": null,
   "id": "314619c0",
   "metadata": {},
   "outputs": [],
   "source": []
  },
  {
   "cell_type": "code",
   "execution_count": 19,
   "id": "c436979d",
   "metadata": {},
   "outputs": [],
   "source": [
    "test_time_per_objective = len(trained_losses_current)\n",
    "# try:\n",
    "#     print(test_values)\n",
    "# except:\n",
    "#     test_values = [32,64,128,256,512]\n",
    "\n",
    "test_values = [128,256,512,1024,2048]\n",
    "test_values = np.array(test_values)\n",
    "all_data = (np.ones([test_time_per_objective,1]) * test_values).T.reshape(-1)\n",
    "trained_losses = np.array(trained_losses)\n",
    "L2_trained_losses =  np.array(L2_trained_losses)\n",
    "\n",
    "model = linear_model.LinearRegression()\n",
    "alpha = -1.\n",
    "\n",
    "model.fit(all_data.reshape(-1,1)**(alpha), trained_losses.reshape(-1))\n",
    "w = model.coef_[0]\n",
    "b = model.intercept_\n",
    "\n",
    "model = linear_model.LinearRegression()\n",
    "alpha_l2 = -1.\n",
    "          \n",
    "model.fit(all_data.reshape(-1,1)**(alpha_l2), L2_trained_losses.reshape(-1))\n",
    "w_l2 = model.coef_[0]\n",
    "b_l2 = model.intercept_\n"
   ]
  },
  {
   "cell_type": "markdown",
   "id": "d58d64db",
   "metadata": {},
   "source": [
    "## 可视化模组1"
   ]
  },
  {
   "cell_type": "code",
   "execution_count": 20,
   "id": "aca8ba85",
   "metadata": {
    "scrolled": false
   },
   "outputs": [
    {
     "data": {
      "image/png": "[encoded data removed]",
      "text/plain": [
       "<Figure size 1000x400 with 2 Axes>"
      ]
     },
     "metadata": {},
     "output_type": "display_data"
    }
   ],
   "source": [
    "# log 2 terminal loss versus different test var\n",
    "\n",
    "# test_var = 'c_cutoff'\n",
    "# test_values = [1,2,5,10,20]\n",
    "\n",
    "fig = plt.figure(figsize=(10,4))\n",
    "ax1 = fig.add_subplot(121)\n",
    "ax2 = fig.add_subplot(122)\n",
    "\n",
    "axs = [ax1,ax2]\n",
    "labels = ['train\\ loss', 'L2\\ regularized\\ train\\ loss']\n",
    "ws = [w, w_l2]\n",
    "bs = [b, b_l2]\n",
    "alphas = [alpha, alpha_l2]\n",
    "logwise_loss = True\n",
    "\n",
    "\n",
    "for idx, trained_losses_data in enumerate([trained_losses, L2_trained_losses]):\n",
    "    ax = axs[idx]\n",
    "    w_plot = ws[idx]\n",
    "    b_plot = bs[idx]\n",
    "    alpha_plot = alphas[idx]\n",
    "    \n",
    "    avg_trained_loss_vec = np.mean(trained_losses_data,axis=1)\n",
    "\n",
    "    all_data = (np.ones([test_time_per_objective,1]) * test_values).T.reshape(-1)\n",
    "    \n",
    "    xplot_all = np.log2(all_data.copy()) if logwise_loss else all_data.copy()\n",
    "    xplot = np.log2(test_values.reshape(-1).copy()) if logwise_loss else test_values.reshape(-1).copy()\n",
    "    yplot_all = np.log2(trained_losses_data.reshape(-1).copy()) if logwise_loss else trained_losses_data.reshape(-1).copy()\n",
    "    yplot =  np.log2(avg_trained_loss_vec.copy())if logwise_loss else avg_trained_loss_vec.copy()\n",
    "    yplot_predict = np.log2(b_plot + w_plot * test_values.reshape(-1) ** (alpha_plot)) if logwise_loss else b_plot + w_plot * test_values.reshape(-1) ** (alpha_plot)\n",
    "    \n",
    "    ax.scatter(xplot_all,yplot_all,color='none',marker='o',edgecolors='k',linewidths=1,label='Experiment result')\n",
    "    ax.plot(xplot,yplot,c='k',marker='s',markersize=8,label='Averange value')\n",
    "    ax.plot(xplot, yplot_predict,'--', marker='o', c= 'grey', label='Fitted curve: \\n    $y= %.2f + %.2f N^{%.2f}$'%(b_plot,w_plot,alpha_plot),alpha=0.6)\n",
    "\n",
    "    ax.legend()\n",
    "    \n",
    "    if logwise_loss:\n",
    "        ax.set_xlabel('$\\log_2 (N)$')\n",
    "        ax.set_ylabel('$log_2 (%s)$'%(labels[idx])) \n",
    "    else:\n",
    "        ax.set_xlabel('$N$')\n",
    "        ax.set_ylabel('$%s$'%(labels[idx])) \n",
    "        \n",
    "plt.savefig('loss.png', bbox_inches='tight')\n",
    "plt.show()\n"
   ]
  },
  {
   "cell_type": "markdown",
   "id": "cd8e2214",
   "metadata": {},
   "source": [
    "## 可视化模组2"
   ]
  },
  {
   "cell_type": "code",
   "execution_count": 38,
   "id": "58ad55e9",
   "metadata": {},
   "outputs": [
    {
     "data": {
      "image/png": "[encoded data removed]",
      "text/plain": [
       "<Figure size 400x350 with 1 Axes>"
      ]
     },
     "metadata": {},
     "output_type": "display_data"
    }
   ],
   "source": [
    "# log 2 terminal loss versus different test var\n",
    "\n",
    "# test_var = 'c_cutoff'\n",
    "# test_values = [1,2,5,10,20]\n",
    "\n",
    "fig = plt.figure(figsize=(4,3.5))\n",
    "ax1 = fig.add_subplot(111)\n",
    "\n",
    "axs = [ax1]\n",
    "labels = ['train\\ loss', 'L2\\ regularized\\ train\\ loss']\n",
    "ws = [w, w_l2]\n",
    "bs = [b, b_l2]\n",
    "alphas = [alpha, alpha_l2]\n",
    "logwise_loss = True\n",
    "\n",
    "\n",
    "for idx, trained_losses_data in enumerate([L2_trained_losses]):\n",
    "    ax = axs[idx]\n",
    "    w_plot = ws[idx]\n",
    "    b_plot = bs[idx]\n",
    "    alpha_plot = alphas[idx]\n",
    "    \n",
    "    avg_trained_loss_vec = np.mean(trained_losses_data,axis=1)\n",
    "    std_trained_loss_vec = np.std(trained_losses_data,axis=1)\n",
    "\n",
    "    all_data = (np.ones([test_time_per_objective,1]) * test_values).T.reshape(-1)\n",
    "    \n",
    "    xplot = np.log2(test_values.reshape(-1).copy() )\n",
    "    yplot =  avg_trained_loss_vec.copy()\n",
    "    yplot_predict = b_plot + w_plot * test_values.reshape(-1) ** (alpha_plot)\n",
    "    \n",
    "    ax.errorbar(xplot,yplot,std_trained_loss_vec.std(),color='red', ls='--', marker='o', capsize=5, capthick=1, ecolor='black',label='Experiment result')\n",
    "    ax.plot(xplot,yplot,c='k',marker='s',markersize=8,label='Averange value')\n",
    "    ax.plot(xplot, yplot_predict,'--', marker='o', c= 'grey', label='Fitted curve: \\n    $y= %.2f + %.2f N^{%.2f}$'%(b_plot,w_plot,alpha_plot),alpha=0.6)\n",
    "    \n",
    "    ax.set_yscale('log')\n",
    "#     ax.set_ylim(0.01,0.4)\n",
    "    ax.legend()\n",
    "    \n",
    "    if logwise_loss:\n",
    "        ax.set_xlabel('$\\log_2 (N)$')\n",
    "        ax.set_ylabel('$log_2 (%s)$'%(labels[idx])) \n",
    "    else:\n",
    "        ax.set_xlabel('$N$')\n",
    "        ax.set_ylabel('$%s$'%(labels[idx])) \n",
    "        \n",
    "plt.savefig('loss.png', bbox_inches='tight')\n",
    "plt.show()\n"
   ]
  },
  {
   "cell_type": "code",
   "execution_count": 19,
   "id": "c3c3fe93",
   "metadata": {},
   "outputs": [
    {
     "data": {
      "text/plain": [
       "array([0.07066971, 0.04019733, 0.00739608, 0.01239414, 0.00822539])"
      ]
     },
     "execution_count": 19,
     "metadata": {},
     "output_type": "execute_result"
    }
   ],
   "source": [
    "std_trained_loss_vec"
   ]
  },
  {
   "cell_type": "code",
   "execution_count": 69,
   "id": "33439871",
   "metadata": {},
   "outputs": [
    {
     "name": "stderr",
     "output_type": "stream",
     "text": [
      "100%|█████████████████████████████████████████████████████████████████████████████| 1000/1000 [00:02<00:00, 394.56it/s]\n"
     ]
    },
    {
     "data": {
      "text/plain": [
       "22561.98012841797"
      ]
     },
     "execution_count": 69,
     "metadata": {},
     "output_type": "execute_result"
    }
   ],
   "source": [
    "particle_num = 128\n",
    "criterion = nn.MSELoss()\n",
    "Xai = []\n",
    "\n",
    "for _ in tqdm(range(1000)):\n",
    "    net = Net(N=particle_num,cut_off=None).to(device)\n",
    "    output = net(data)\n",
    "    loss = criterion(output, target_onehot.float())\n",
    "    Xai.append(loss.item())\n",
    "np.mean(Xai)\n"
   ]
  },
  {
   "cell_type": "code",
   "execution_count": 64,
   "id": "513eb9d0",
   "metadata": {},
   "outputs": [
    {
     "data": {
      "text/plain": [
       "(tensor(1.6088, device='cuda:0', grad_fn=<MeanBackward0>),\n",
       " tensor(27.4478, device='cuda:0', grad_fn=<StdBackward0>))"
      ]
     },
     "execution_count": 64,
     "metadata": {},
     "output_type": "execute_result"
    }
   ],
   "source": [
    "particle_num = 512\n",
    "net = Net(N=particle_num,cut_off=cut_off).to(device)\n",
    "x = torch.ones([28,28]).cuda()\n",
    "net.fc1(x.view(-1)).mean(),net.fc1(x.view(-1)).std()"
   ]
  },
  {
   "cell_type": "code",
   "execution_count": 51,
   "id": "274245e0",
   "metadata": {},
   "outputs": [
    {
     "data": {
      "text/plain": [
       "tensor(15.9758)"
      ]
     },
     "execution_count": 51,
     "metadata": {},
     "output_type": "execute_result"
    }
   ],
   "source": [
    "x = torch.normal(0,4,size = [200])\n",
    "x.var()"
   ]
  },
  {
   "cell_type": "code",
   "execution_count": 23,
   "id": "cc7557aa",
   "metadata": {},
   "outputs": [
    {
     "ename": "RuntimeError",
     "evalue": "a Tensor with 2 elements cannot be converted to Scalar",
     "output_type": "error",
     "traceback": [
      "\u001b[1;31m---------------------------------------------------------------------------\u001b[0m",
      "\u001b[1;31mRuntimeError\u001b[0m                              Traceback (most recent call last)",
      "Cell \u001b[1;32mIn[23], line 1\u001b[0m\n\u001b[1;32m----> 1\u001b[0m \u001b[43mnet\u001b[49m\u001b[38;5;241;43m.\u001b[39;49m\u001b[43mfc2\u001b[49m\u001b[43m(\u001b[49m\u001b[43mnet\u001b[49m\u001b[38;5;241;43m.\u001b[39;49m\u001b[43mfc1\u001b[49m\u001b[43m(\u001b[49m\u001b[43mx\u001b[49m\u001b[38;5;241;43m.\u001b[39;49m\u001b[43mview\u001b[49m\u001b[43m(\u001b[49m\u001b[38;5;241;43m-\u001b[39;49m\u001b[38;5;241;43m1\u001b[39;49m\u001b[43m)\u001b[49m\u001b[43m)\u001b[49m\u001b[43m)\u001b[49m\u001b[38;5;241;43m.\u001b[39;49m\u001b[43mitem\u001b[49m\u001b[43m(\u001b[49m\u001b[43m)\u001b[49m\n",
      "\u001b[1;31mRuntimeError\u001b[0m: a Tensor with 2 elements cannot be converted to Scalar"
     ]
    }
   ],
   "source": [
    "net.fc2(net.fc1(x.view(-1))).item()"
   ]
  },
  {
   "cell_type": "code",
   "execution_count": 66,
   "id": "d7cb566f",
   "metadata": {},
   "outputs": [
    {
     "name": "stderr",
     "output_type": "stream",
     "text": [
      "100%|█████████████████████████████████████████████████████████████████████████████| 1000/1000 [00:02<00:00, 347.07it/s]\n"
     ]
    },
    {
     "data": {
      "text/plain": [
       "0.05794675201177597"
      ]
     },
     "execution_count": 66,
     "metadata": {},
     "output_type": "execute_result"
    }
   ],
   "source": [
    "x = torch.ones([28,28]).cuda()\n",
    "\n",
    "particle_num = 256\n",
    "criterion = nn.MSELoss()\n",
    "Xai = []\n",
    "\n",
    "for _ in tqdm(range(1000)):\n",
    "    net = Net(N=particle_num,cut_off=None).to(device)\n",
    "    Xai.append(net.fc2(net.fc1(x.view(-1)))[0].item()/particle_num)\n",
    "np.mean(Xai)\n"
   ]
  },
  {
   "cell_type": "code",
   "execution_count": 20,
   "id": "a880ffa5",
   "metadata": {},
   "outputs": [
    {
     "data": {
      "text/plain": [
       "torch.Size([11760, 2])"
      ]
     },
     "execution_count": 20,
     "metadata": {},
     "output_type": "execute_result"
    }
   ],
   "source": [
    "target_onehot.shape"
   ]
  },
  {
   "cell_type": "code",
   "execution_count": 82,
   "id": "d2bf2f9f",
   "metadata": {},
   "outputs": [
    {
     "data": {
      "text/plain": [
       "19.45249426622391"
      ]
     },
     "execution_count": 82,
     "metadata": {},
     "output_type": "execute_result"
    }
   ],
   "source": [
    "np.mean(Xai)"
   ]
  },
  {
   "cell_type": "code",
   "execution_count": 74,
   "id": "ba62450d",
   "metadata": {
    "scrolled": true
   },
   "outputs": [
    {
     "ename": "TypeError",
     "evalue": "can't convert cuda:0 device type tensor to numpy. Use Tensor.cpu() to copy the tensor to host memory first.",
     "output_type": "error",
     "traceback": [
      "\u001b[1;31m---------------------------------------------------------------------------\u001b[0m",
      "\u001b[1;31mTypeError\u001b[0m                                 Traceback (most recent call last)",
      "Cell \u001b[1;32mIn[74], line 1\u001b[0m\n\u001b[1;32m----> 1\u001b[0m \u001b[43mplt\u001b[49m\u001b[38;5;241;43m.\u001b[39;49m\u001b[43mhist\u001b[49m\u001b[43m(\u001b[49m\u001b[43mnet\u001b[49m\u001b[38;5;241;43m.\u001b[39;49m\u001b[43mfc1\u001b[49m\u001b[38;5;241;43m.\u001b[39;49m\u001b[43mweight\u001b[49m\u001b[43m)\u001b[49m\n",
      "File \u001b[1;32mF:\\miniconda\\envs\\py310\\lib\\site-packages\\matplotlib\\pyplot.py:2645\u001b[0m, in \u001b[0;36mhist\u001b[1;34m(x, bins, range, density, weights, cumulative, bottom, histtype, align, orientation, rwidth, log, color, label, stacked, data, **kwargs)\u001b[0m\n\u001b[0;32m   2639\u001b[0m \u001b[38;5;129m@_copy_docstring_and_deprecators\u001b[39m(Axes\u001b[38;5;241m.\u001b[39mhist)\n\u001b[0;32m   2640\u001b[0m \u001b[38;5;28;01mdef\u001b[39;00m \u001b[38;5;21mhist\u001b[39m(\n\u001b[0;32m   2641\u001b[0m         x, bins\u001b[38;5;241m=\u001b[39m\u001b[38;5;28;01mNone\u001b[39;00m, \u001b[38;5;28mrange\u001b[39m\u001b[38;5;241m=\u001b[39m\u001b[38;5;28;01mNone\u001b[39;00m, density\u001b[38;5;241m=\u001b[39m\u001b[38;5;28;01mFalse\u001b[39;00m, weights\u001b[38;5;241m=\u001b[39m\u001b[38;5;28;01mNone\u001b[39;00m,\n\u001b[0;32m   2642\u001b[0m         cumulative\u001b[38;5;241m=\u001b[39m\u001b[38;5;28;01mFalse\u001b[39;00m, bottom\u001b[38;5;241m=\u001b[39m\u001b[38;5;28;01mNone\u001b[39;00m, histtype\u001b[38;5;241m=\u001b[39m\u001b[38;5;124m'\u001b[39m\u001b[38;5;124mbar\u001b[39m\u001b[38;5;124m'\u001b[39m, align\u001b[38;5;241m=\u001b[39m\u001b[38;5;124m'\u001b[39m\u001b[38;5;124mmid\u001b[39m\u001b[38;5;124m'\u001b[39m,\n\u001b[0;32m   2643\u001b[0m         orientation\u001b[38;5;241m=\u001b[39m\u001b[38;5;124m'\u001b[39m\u001b[38;5;124mvertical\u001b[39m\u001b[38;5;124m'\u001b[39m, rwidth\u001b[38;5;241m=\u001b[39m\u001b[38;5;28;01mNone\u001b[39;00m, log\u001b[38;5;241m=\u001b[39m\u001b[38;5;28;01mFalse\u001b[39;00m, color\u001b[38;5;241m=\u001b[39m\u001b[38;5;28;01mNone\u001b[39;00m,\n\u001b[0;32m   2644\u001b[0m         label\u001b[38;5;241m=\u001b[39m\u001b[38;5;28;01mNone\u001b[39;00m, stacked\u001b[38;5;241m=\u001b[39m\u001b[38;5;28;01mFalse\u001b[39;00m, \u001b[38;5;241m*\u001b[39m, data\u001b[38;5;241m=\u001b[39m\u001b[38;5;28;01mNone\u001b[39;00m, \u001b[38;5;241m*\u001b[39m\u001b[38;5;241m*\u001b[39mkwargs):\n\u001b[1;32m-> 2645\u001b[0m     \u001b[38;5;28;01mreturn\u001b[39;00m gca()\u001b[38;5;241m.\u001b[39mhist(\n\u001b[0;32m   2646\u001b[0m         x, bins\u001b[38;5;241m=\u001b[39mbins, \u001b[38;5;28mrange\u001b[39m\u001b[38;5;241m=\u001b[39m\u001b[38;5;28mrange\u001b[39m, density\u001b[38;5;241m=\u001b[39mdensity, weights\u001b[38;5;241m=\u001b[39mweights,\n\u001b[0;32m   2647\u001b[0m         cumulative\u001b[38;5;241m=\u001b[39mcumulative, bottom\u001b[38;5;241m=\u001b[39mbottom, histtype\u001b[38;5;241m=\u001b[39mhisttype,\n\u001b[0;32m   2648\u001b[0m         align\u001b[38;5;241m=\u001b[39malign, orientation\u001b[38;5;241m=\u001b[39morientation, rwidth\u001b[38;5;241m=\u001b[39mrwidth, log\u001b[38;5;241m=\u001b[39mlog,\n\u001b[0;32m   2649\u001b[0m         color\u001b[38;5;241m=\u001b[39mcolor, label\u001b[38;5;241m=\u001b[39mlabel, stacked\u001b[38;5;241m=\u001b[39mstacked,\n\u001b[0;32m   2650\u001b[0m         \u001b[38;5;241m*\u001b[39m\u001b[38;5;241m*\u001b[39m({\u001b[38;5;124m\"\u001b[39m\u001b[38;5;124mdata\u001b[39m\u001b[38;5;124m\"\u001b[39m: data} \u001b[38;5;28;01mif\u001b[39;00m data \u001b[38;5;129;01mis\u001b[39;00m \u001b[38;5;129;01mnot\u001b[39;00m \u001b[38;5;28;01mNone\u001b[39;00m \u001b[38;5;28;01melse\u001b[39;00m {}), \u001b[38;5;241m*\u001b[39m\u001b[38;5;241m*\u001b[39mkwargs)\n",
      "File \u001b[1;32mF:\\miniconda\\envs\\py310\\lib\\site-packages\\matplotlib\\__init__.py:1442\u001b[0m, in \u001b[0;36m_preprocess_data.<locals>.inner\u001b[1;34m(ax, data, *args, **kwargs)\u001b[0m\n\u001b[0;32m   1439\u001b[0m \u001b[38;5;129m@functools\u001b[39m\u001b[38;5;241m.\u001b[39mwraps(func)\n\u001b[0;32m   1440\u001b[0m \u001b[38;5;28;01mdef\u001b[39;00m \u001b[38;5;21minner\u001b[39m(ax, \u001b[38;5;241m*\u001b[39margs, data\u001b[38;5;241m=\u001b[39m\u001b[38;5;28;01mNone\u001b[39;00m, \u001b[38;5;241m*\u001b[39m\u001b[38;5;241m*\u001b[39mkwargs):\n\u001b[0;32m   1441\u001b[0m     \u001b[38;5;28;01mif\u001b[39;00m data \u001b[38;5;129;01mis\u001b[39;00m \u001b[38;5;28;01mNone\u001b[39;00m:\n\u001b[1;32m-> 1442\u001b[0m         \u001b[38;5;28;01mreturn\u001b[39;00m func(ax, \u001b[38;5;241m*\u001b[39m\u001b[38;5;28mmap\u001b[39m(sanitize_sequence, args), \u001b[38;5;241m*\u001b[39m\u001b[38;5;241m*\u001b[39mkwargs)\n\u001b[0;32m   1444\u001b[0m     bound \u001b[38;5;241m=\u001b[39m new_sig\u001b[38;5;241m.\u001b[39mbind(ax, \u001b[38;5;241m*\u001b[39margs, \u001b[38;5;241m*\u001b[39m\u001b[38;5;241m*\u001b[39mkwargs)\n\u001b[0;32m   1445\u001b[0m     auto_label \u001b[38;5;241m=\u001b[39m (bound\u001b[38;5;241m.\u001b[39marguments\u001b[38;5;241m.\u001b[39mget(label_namer)\n\u001b[0;32m   1446\u001b[0m                   \u001b[38;5;129;01mor\u001b[39;00m bound\u001b[38;5;241m.\u001b[39mkwargs\u001b[38;5;241m.\u001b[39mget(label_namer))\n",
      "File \u001b[1;32mF:\\miniconda\\envs\\py310\\lib\\site-packages\\matplotlib\\axes\\_axes.py:6703\u001b[0m, in \u001b[0;36mAxes.hist\u001b[1;34m(self, x, bins, range, density, weights, cumulative, bottom, histtype, align, orientation, rwidth, log, color, label, stacked, **kwargs)\u001b[0m\n\u001b[0;32m   6700\u001b[0m     stacked \u001b[38;5;241m=\u001b[39m \u001b[38;5;28;01mTrue\u001b[39;00m\n\u001b[0;32m   6702\u001b[0m \u001b[38;5;66;03m# Massage 'x' for processing.\u001b[39;00m\n\u001b[1;32m-> 6703\u001b[0m x \u001b[38;5;241m=\u001b[39m \u001b[43mcbook\u001b[49m\u001b[38;5;241;43m.\u001b[39;49m\u001b[43m_reshape_2D\u001b[49m\u001b[43m(\u001b[49m\u001b[43mx\u001b[49m\u001b[43m,\u001b[49m\u001b[43m \u001b[49m\u001b[38;5;124;43m'\u001b[39;49m\u001b[38;5;124;43mx\u001b[39;49m\u001b[38;5;124;43m'\u001b[39;49m\u001b[43m)\u001b[49m\n\u001b[0;32m   6704\u001b[0m nx \u001b[38;5;241m=\u001b[39m \u001b[38;5;28mlen\u001b[39m(x)  \u001b[38;5;66;03m# number of datasets\u001b[39;00m\n\u001b[0;32m   6706\u001b[0m \u001b[38;5;66;03m# Process unit information.  _process_unit_info sets the unit and\u001b[39;00m\n\u001b[0;32m   6707\u001b[0m \u001b[38;5;66;03m# converts the first dataset; then we convert each following dataset\u001b[39;00m\n\u001b[0;32m   6708\u001b[0m \u001b[38;5;66;03m# one at a time.\u001b[39;00m\n",
      "File \u001b[1;32mF:\\miniconda\\envs\\py310\\lib\\site-packages\\matplotlib\\cbook\\__init__.py:1399\u001b[0m, in \u001b[0;36m_reshape_2D\u001b[1;34m(X, name)\u001b[0m\n\u001b[0;32m   1397\u001b[0m     \u001b[38;5;28;01melse\u001b[39;00m:\n\u001b[0;32m   1398\u001b[0m         is_1d \u001b[38;5;241m=\u001b[39m \u001b[38;5;28;01mFalse\u001b[39;00m\n\u001b[1;32m-> 1399\u001b[0m xi \u001b[38;5;241m=\u001b[39m \u001b[43mnp\u001b[49m\u001b[38;5;241;43m.\u001b[39;49m\u001b[43masanyarray\u001b[49m\u001b[43m(\u001b[49m\u001b[43mxi\u001b[49m\u001b[43m)\u001b[49m\n\u001b[0;32m   1400\u001b[0m nd \u001b[38;5;241m=\u001b[39m np\u001b[38;5;241m.\u001b[39mndim(xi)\n\u001b[0;32m   1401\u001b[0m \u001b[38;5;28;01mif\u001b[39;00m nd \u001b[38;5;241m>\u001b[39m \u001b[38;5;241m1\u001b[39m:\n",
      "File \u001b[1;32mF:\\miniconda\\envs\\py310\\lib\\site-packages\\torch\\_tensor.py:970\u001b[0m, in \u001b[0;36mTensor.__array__\u001b[1;34m(self, dtype)\u001b[0m\n\u001b[0;32m    968\u001b[0m     \u001b[38;5;28;01mreturn\u001b[39;00m handle_torch_function(Tensor\u001b[38;5;241m.\u001b[39m__array__, (\u001b[38;5;28mself\u001b[39m,), \u001b[38;5;28mself\u001b[39m, dtype\u001b[38;5;241m=\u001b[39mdtype)\n\u001b[0;32m    969\u001b[0m \u001b[38;5;28;01mif\u001b[39;00m dtype \u001b[38;5;129;01mis\u001b[39;00m \u001b[38;5;28;01mNone\u001b[39;00m:\n\u001b[1;32m--> 970\u001b[0m     \u001b[38;5;28;01mreturn\u001b[39;00m \u001b[38;5;28;43mself\u001b[39;49m\u001b[38;5;241;43m.\u001b[39;49m\u001b[43mnumpy\u001b[49m\u001b[43m(\u001b[49m\u001b[43m)\u001b[49m\n\u001b[0;32m    971\u001b[0m \u001b[38;5;28;01melse\u001b[39;00m:\n\u001b[0;32m    972\u001b[0m     \u001b[38;5;28;01mreturn\u001b[39;00m \u001b[38;5;28mself\u001b[39m\u001b[38;5;241m.\u001b[39mnumpy()\u001b[38;5;241m.\u001b[39mastype(dtype, copy\u001b[38;5;241m=\u001b[39m\u001b[38;5;28;01mFalse\u001b[39;00m)\n",
      "\u001b[1;31mTypeError\u001b[0m: can't convert cuda:0 device type tensor to numpy. Use Tensor.cpu() to copy the tensor to host memory first."
     ]
    },
    {
     "data": {
      "image/png": "[encoded data removed]",
      "text/plain": [
       "<Figure size 640x480 with 1 Axes>"
      ]
     },
     "metadata": {},
     "output_type": "display_data"
    }
   ],
   "source": [
    "plt.hist(net.fc1.weight)"
   ]
  },
  {
   "cell_type": "markdown",
   "id": "e4fe716c",
   "metadata": {},
   "source": [
    "# CIFAR 10 deployment"
   ]
  },
  {
   "cell_type": "code",
   "execution_count": 3,
   "id": "89968f1d",
   "metadata": {},
   "outputs": [
    {
     "name": "stdout",
     "output_type": "stream",
     "text": [
      "Files already downloaded and verified\n"
     ]
    }
   ],
   "source": [
    "transform = transforms.Compose([\n",
    "    transforms.ToTensor(),\n",
    "    transforms.Normalize(mean=[0.5, 0.5, 0.5], std=[0.5, 0.5, 0.5])\n",
    "])\n",
    "\n",
    "train_dataset = datasets.CIFAR10('../data', train=True, transform = transform, download=True)\n",
    "test_dataset =  datasets.CIFAR10('../data', train=False,  transform = transform,)"
   ]
  },
  {
   "cell_type": "code",
   "execution_count": 4,
   "id": "1359f4f2",
   "metadata": {},
   "outputs": [],
   "source": [
    "# Filter the train dataset to extract images with labels 4 and 6\n",
    "train_label_4_idx = torch.Tensor(train_dataset.targets) == 4\n",
    "train_label_6_idx = torch.Tensor(train_dataset.targets) == 6\n",
    "train_selected_idx = train_label_4_idx | train_label_6_idx\n",
    "\n",
    "train_selected_images = train_dataset.data[list(train_selected_idx)]\n",
    "train_selected_labels = np.array(train_dataset.targets)[list(train_selected_idx)]\n",
    "\n",
    "# Relabel the train images with labels 4 as 0 and labels 6 as 1\n",
    "train_selected_labels = np.where(train_selected_labels == 4, torch.tensor(0), torch.tensor(1))\n",
    "\n",
    "# Create a TensorDataset for the train set\n",
    "train_dataset = TensorDataset(torch.Tensor(train_selected_images), torch.Tensor(train_selected_labels))\n",
    "\n",
    "# Filter the test dataset to extract images with labels 4 and 6\n",
    "test_label_4_idx = torch.Tensor(test_dataset.targets) == 4\n",
    "test_label_6_idx = torch.Tensor(test_dataset.targets) == 6\n",
    "test_selected_idx = test_label_4_idx | test_label_6_idx\n",
    "\n",
    "test_selected_images = test_dataset.data[test_selected_idx]\n",
    "test_selected_labels = np.array(test_dataset.targets)[test_selected_idx]\n",
    "\n",
    "# Relabel the test images with labels 4 as 0 and labels 6 as 1\n",
    "test_selected_labels = np.where(test_selected_labels == 4, torch.tensor(0), torch.tensor(1))\n",
    "\n",
    "# Create a TensorDataset for the test set\n",
    "test_dataset = TensorDataset(torch.Tensor(test_selected_images), torch.Tensor(test_selected_labels))\n",
    "\n",
    "# transform=transforms.Compose([\n",
    "#                        transforms.Normalize((0.1307,), (0.3081,))\n",
    "#                    ])"
   ]
  },
  {
   "cell_type": "markdown",
   "id": "a18fa31d",
   "metadata": {},
   "source": [
    "## Freed alpha fit"
   ]
  },
  {
   "cell_type": "code",
   "execution_count": 14,
   "id": "9db9d0bb",
   "metadata": {
    "scrolled": true
   },
   "outputs": [
    {
     "ename": "AttributeError",
     "evalue": "'list' object has no attribute 'reshape'",
     "output_type": "error",
     "traceback": [
      "\u001b[1;31m---------------------------------------------------------------------------\u001b[0m",
      "\u001b[1;31mAttributeError\u001b[0m                            Traceback (most recent call last)",
      "Cell \u001b[1;32mIn[14], line 11\u001b[0m\n\u001b[0;32m      8\u001b[0m     \u001b[38;5;28;01mreturn\u001b[39;00m np\u001b[38;5;241m.\u001b[39mmean((L2_trained_losses\u001b[38;5;241m.\u001b[39mreshape(\u001b[38;5;241m-\u001b[39m\u001b[38;5;241m1\u001b[39m) \u001b[38;5;241m-\u001b[39m C_1 \u001b[38;5;241m-\u001b[39m C_2 \u001b[38;5;241m*\u001b[39m all_data \u001b[38;5;241m*\u001b[39m\u001b[38;5;241m*\u001b[39m (alpha) )\u001b[38;5;241m*\u001b[39m\u001b[38;5;241m*\u001b[39m\u001b[38;5;241m2\u001b[39m)\n\u001b[0;32m     10\u001b[0m method \u001b[38;5;241m=\u001b[39m \u001b[38;5;124m'\u001b[39m\u001b[38;5;124mBFGS\u001b[39m\u001b[38;5;124m'\u001b[39m\n\u001b[1;32m---> 11\u001b[0m result \u001b[38;5;241m=\u001b[39m \u001b[43mminimize\u001b[49m\u001b[43m(\u001b[49m\u001b[43mloss\u001b[49m\u001b[43m,\u001b[49m\u001b[43m \u001b[49m\u001b[43mx0\u001b[49m\u001b[38;5;241;43m=\u001b[39;49m\u001b[43m[\u001b[49m\u001b[38;5;241;43m0\u001b[39;49m\u001b[43m,\u001b[49m\u001b[38;5;241;43m0\u001b[39;49m\u001b[43m,\u001b[49m\u001b[38;5;241;43m0\u001b[39;49m\u001b[43m]\u001b[49m\u001b[43m,\u001b[49m\u001b[43m \u001b[49m\u001b[43mmethod\u001b[49m\u001b[43m \u001b[49m\u001b[38;5;241;43m=\u001b[39;49m\u001b[43m \u001b[49m\u001b[43mmethod\u001b[49m\u001b[43m)\u001b[49m\n\u001b[0;32m     12\u001b[0m \u001b[38;5;28mprint\u001b[39m(result)\n\u001b[0;32m     14\u001b[0m b_l2, w_l2, alpha_l2 \u001b[38;5;241m=\u001b[39m  result\u001b[38;5;241m.\u001b[39mx\n",
      "File \u001b[1;32mF:\\miniconda\\envs\\py310\\lib\\site-packages\\scipy\\optimize\\_minimize.py:691\u001b[0m, in \u001b[0;36mminimize\u001b[1;34m(fun, x0, args, method, jac, hess, hessp, bounds, constraints, tol, callback, options)\u001b[0m\n\u001b[0;32m    689\u001b[0m     res \u001b[38;5;241m=\u001b[39m _minimize_cg(fun, x0, args, jac, callback, \u001b[38;5;241m*\u001b[39m\u001b[38;5;241m*\u001b[39moptions)\n\u001b[0;32m    690\u001b[0m \u001b[38;5;28;01melif\u001b[39;00m meth \u001b[38;5;241m==\u001b[39m \u001b[38;5;124m'\u001b[39m\u001b[38;5;124mbfgs\u001b[39m\u001b[38;5;124m'\u001b[39m:\n\u001b[1;32m--> 691\u001b[0m     res \u001b[38;5;241m=\u001b[39m _minimize_bfgs(fun, x0, args, jac, callback, \u001b[38;5;241m*\u001b[39m\u001b[38;5;241m*\u001b[39moptions)\n\u001b[0;32m    692\u001b[0m \u001b[38;5;28;01melif\u001b[39;00m meth \u001b[38;5;241m==\u001b[39m \u001b[38;5;124m'\u001b[39m\u001b[38;5;124mnewton-cg\u001b[39m\u001b[38;5;124m'\u001b[39m:\n\u001b[0;32m    693\u001b[0m     res \u001b[38;5;241m=\u001b[39m _minimize_newtoncg(fun, x0, args, jac, hess, hessp, callback,\n\u001b[0;32m    694\u001b[0m                              \u001b[38;5;241m*\u001b[39m\u001b[38;5;241m*\u001b[39moptions)\n",
      "File \u001b[1;32mF:\\miniconda\\envs\\py310\\lib\\site-packages\\scipy\\optimize\\_optimize.py:1362\u001b[0m, in \u001b[0;36m_minimize_bfgs\u001b[1;34m(fun, x0, args, jac, callback, gtol, norm, eps, maxiter, disp, return_all, finite_diff_rel_step, xrtol, **unknown_options)\u001b[0m\n\u001b[0;32m   1359\u001b[0m \u001b[38;5;28;01mif\u001b[39;00m maxiter \u001b[38;5;129;01mis\u001b[39;00m \u001b[38;5;28;01mNone\u001b[39;00m:\n\u001b[0;32m   1360\u001b[0m     maxiter \u001b[38;5;241m=\u001b[39m \u001b[38;5;28mlen\u001b[39m(x0) \u001b[38;5;241m*\u001b[39m \u001b[38;5;241m200\u001b[39m\n\u001b[1;32m-> 1362\u001b[0m sf \u001b[38;5;241m=\u001b[39m \u001b[43m_prepare_scalar_function\u001b[49m\u001b[43m(\u001b[49m\u001b[43mfun\u001b[49m\u001b[43m,\u001b[49m\u001b[43m \u001b[49m\u001b[43mx0\u001b[49m\u001b[43m,\u001b[49m\u001b[43m \u001b[49m\u001b[43mjac\u001b[49m\u001b[43m,\u001b[49m\u001b[43m \u001b[49m\u001b[43margs\u001b[49m\u001b[38;5;241;43m=\u001b[39;49m\u001b[43margs\u001b[49m\u001b[43m,\u001b[49m\u001b[43m \u001b[49m\u001b[43mepsilon\u001b[49m\u001b[38;5;241;43m=\u001b[39;49m\u001b[43meps\u001b[49m\u001b[43m,\u001b[49m\n\u001b[0;32m   1363\u001b[0m \u001b[43m                              \u001b[49m\u001b[43mfinite_diff_rel_step\u001b[49m\u001b[38;5;241;43m=\u001b[39;49m\u001b[43mfinite_diff_rel_step\u001b[49m\u001b[43m)\u001b[49m\n\u001b[0;32m   1365\u001b[0m f \u001b[38;5;241m=\u001b[39m sf\u001b[38;5;241m.\u001b[39mfun\n\u001b[0;32m   1366\u001b[0m myfprime \u001b[38;5;241m=\u001b[39m sf\u001b[38;5;241m.\u001b[39mgrad\n",
      "File \u001b[1;32mF:\\miniconda\\envs\\py310\\lib\\site-packages\\scipy\\optimize\\_optimize.py:332\u001b[0m, in \u001b[0;36m_prepare_scalar_function\u001b[1;34m(fun, x0, jac, args, bounds, epsilon, finite_diff_rel_step, hess)\u001b[0m\n\u001b[0;32m    328\u001b[0m     bounds \u001b[38;5;241m=\u001b[39m (\u001b[38;5;241m-\u001b[39mnp\u001b[38;5;241m.\u001b[39minf, np\u001b[38;5;241m.\u001b[39minf)\n\u001b[0;32m    330\u001b[0m \u001b[38;5;66;03m# ScalarFunction caches. Reuse of fun(x) during grad\u001b[39;00m\n\u001b[0;32m    331\u001b[0m \u001b[38;5;66;03m# calculation reduces overall function evaluations.\u001b[39;00m\n\u001b[1;32m--> 332\u001b[0m sf \u001b[38;5;241m=\u001b[39m \u001b[43mScalarFunction\u001b[49m\u001b[43m(\u001b[49m\u001b[43mfun\u001b[49m\u001b[43m,\u001b[49m\u001b[43m \u001b[49m\u001b[43mx0\u001b[49m\u001b[43m,\u001b[49m\u001b[43m \u001b[49m\u001b[43margs\u001b[49m\u001b[43m,\u001b[49m\u001b[43m \u001b[49m\u001b[43mgrad\u001b[49m\u001b[43m,\u001b[49m\u001b[43m \u001b[49m\u001b[43mhess\u001b[49m\u001b[43m,\u001b[49m\n\u001b[0;32m    333\u001b[0m \u001b[43m                    \u001b[49m\u001b[43mfinite_diff_rel_step\u001b[49m\u001b[43m,\u001b[49m\u001b[43m \u001b[49m\u001b[43mbounds\u001b[49m\u001b[43m,\u001b[49m\u001b[43m \u001b[49m\u001b[43mepsilon\u001b[49m\u001b[38;5;241;43m=\u001b[39;49m\u001b[43mepsilon\u001b[49m\u001b[43m)\u001b[49m\n\u001b[0;32m    335\u001b[0m \u001b[38;5;28;01mreturn\u001b[39;00m sf\n",
      "File \u001b[1;32mF:\\miniconda\\envs\\py310\\lib\\site-packages\\scipy\\optimize\\_differentiable_functions.py:158\u001b[0m, in \u001b[0;36mScalarFunction.__init__\u001b[1;34m(self, fun, x0, args, grad, hess, finite_diff_rel_step, finite_diff_bounds, epsilon)\u001b[0m\n\u001b[0;32m    155\u001b[0m     \u001b[38;5;28mself\u001b[39m\u001b[38;5;241m.\u001b[39mf \u001b[38;5;241m=\u001b[39m fun_wrapped(\u001b[38;5;28mself\u001b[39m\u001b[38;5;241m.\u001b[39mx)\n\u001b[0;32m    157\u001b[0m \u001b[38;5;28mself\u001b[39m\u001b[38;5;241m.\u001b[39m_update_fun_impl \u001b[38;5;241m=\u001b[39m update_fun\n\u001b[1;32m--> 158\u001b[0m \u001b[38;5;28;43mself\u001b[39;49m\u001b[38;5;241;43m.\u001b[39;49m\u001b[43m_update_fun\u001b[49m\u001b[43m(\u001b[49m\u001b[43m)\u001b[49m\n\u001b[0;32m    160\u001b[0m \u001b[38;5;66;03m# Gradient evaluation\u001b[39;00m\n\u001b[0;32m    161\u001b[0m \u001b[38;5;28;01mif\u001b[39;00m \u001b[38;5;28mcallable\u001b[39m(grad):\n",
      "File \u001b[1;32mF:\\miniconda\\envs\\py310\\lib\\site-packages\\scipy\\optimize\\_differentiable_functions.py:251\u001b[0m, in \u001b[0;36mScalarFunction._update_fun\u001b[1;34m(self)\u001b[0m\n\u001b[0;32m    249\u001b[0m \u001b[38;5;28;01mdef\u001b[39;00m \u001b[38;5;21m_update_fun\u001b[39m(\u001b[38;5;28mself\u001b[39m):\n\u001b[0;32m    250\u001b[0m     \u001b[38;5;28;01mif\u001b[39;00m \u001b[38;5;129;01mnot\u001b[39;00m \u001b[38;5;28mself\u001b[39m\u001b[38;5;241m.\u001b[39mf_updated:\n\u001b[1;32m--> 251\u001b[0m         \u001b[38;5;28;43mself\u001b[39;49m\u001b[38;5;241;43m.\u001b[39;49m\u001b[43m_update_fun_impl\u001b[49m\u001b[43m(\u001b[49m\u001b[43m)\u001b[49m\n\u001b[0;32m    252\u001b[0m         \u001b[38;5;28mself\u001b[39m\u001b[38;5;241m.\u001b[39mf_updated \u001b[38;5;241m=\u001b[39m \u001b[38;5;28;01mTrue\u001b[39;00m\n",
      "File \u001b[1;32mF:\\miniconda\\envs\\py310\\lib\\site-packages\\scipy\\optimize\\_differentiable_functions.py:155\u001b[0m, in \u001b[0;36mScalarFunction.__init__.<locals>.update_fun\u001b[1;34m()\u001b[0m\n\u001b[0;32m    154\u001b[0m \u001b[38;5;28;01mdef\u001b[39;00m \u001b[38;5;21mupdate_fun\u001b[39m():\n\u001b[1;32m--> 155\u001b[0m     \u001b[38;5;28mself\u001b[39m\u001b[38;5;241m.\u001b[39mf \u001b[38;5;241m=\u001b[39m \u001b[43mfun_wrapped\u001b[49m\u001b[43m(\u001b[49m\u001b[38;5;28;43mself\u001b[39;49m\u001b[38;5;241;43m.\u001b[39;49m\u001b[43mx\u001b[49m\u001b[43m)\u001b[49m\n",
      "File \u001b[1;32mF:\\miniconda\\envs\\py310\\lib\\site-packages\\scipy\\optimize\\_differentiable_functions.py:137\u001b[0m, in \u001b[0;36mScalarFunction.__init__.<locals>.fun_wrapped\u001b[1;34m(x)\u001b[0m\n\u001b[0;32m    133\u001b[0m \u001b[38;5;28mself\u001b[39m\u001b[38;5;241m.\u001b[39mnfev \u001b[38;5;241m+\u001b[39m\u001b[38;5;241m=\u001b[39m \u001b[38;5;241m1\u001b[39m\n\u001b[0;32m    134\u001b[0m \u001b[38;5;66;03m# Send a copy because the user may overwrite it.\u001b[39;00m\n\u001b[0;32m    135\u001b[0m \u001b[38;5;66;03m# Overwriting results in undefined behaviour because\u001b[39;00m\n\u001b[0;32m    136\u001b[0m \u001b[38;5;66;03m# fun(self.x) will change self.x, with the two no longer linked.\u001b[39;00m\n\u001b[1;32m--> 137\u001b[0m fx \u001b[38;5;241m=\u001b[39m \u001b[43mfun\u001b[49m\u001b[43m(\u001b[49m\u001b[43mnp\u001b[49m\u001b[38;5;241;43m.\u001b[39;49m\u001b[43mcopy\u001b[49m\u001b[43m(\u001b[49m\u001b[43mx\u001b[49m\u001b[43m)\u001b[49m\u001b[43m,\u001b[49m\u001b[43m \u001b[49m\u001b[38;5;241;43m*\u001b[39;49m\u001b[43margs\u001b[49m\u001b[43m)\u001b[49m\n\u001b[0;32m    138\u001b[0m \u001b[38;5;66;03m# Make sure the function returns a true scalar\u001b[39;00m\n\u001b[0;32m    139\u001b[0m \u001b[38;5;28;01mif\u001b[39;00m \u001b[38;5;129;01mnot\u001b[39;00m np\u001b[38;5;241m.\u001b[39misscalar(fx):\n",
      "Cell \u001b[1;32mIn[14], line 8\u001b[0m, in \u001b[0;36mloss\u001b[1;34m(param)\u001b[0m\n\u001b[0;32m      6\u001b[0m C_2 \u001b[38;5;241m=\u001b[39m param[\u001b[38;5;241m1\u001b[39m]\n\u001b[0;32m      7\u001b[0m alpha \u001b[38;5;241m=\u001b[39m param[\u001b[38;5;241m2\u001b[39m]\n\u001b[1;32m----> 8\u001b[0m \u001b[38;5;28;01mreturn\u001b[39;00m np\u001b[38;5;241m.\u001b[39mmean((\u001b[43mL2_trained_losses\u001b[49m\u001b[38;5;241;43m.\u001b[39;49m\u001b[43mreshape\u001b[49m(\u001b[38;5;241m-\u001b[39m\u001b[38;5;241m1\u001b[39m) \u001b[38;5;241m-\u001b[39m C_1 \u001b[38;5;241m-\u001b[39m C_2 \u001b[38;5;241m*\u001b[39m all_data \u001b[38;5;241m*\u001b[39m\u001b[38;5;241m*\u001b[39m (alpha) )\u001b[38;5;241m*\u001b[39m\u001b[38;5;241m*\u001b[39m\u001b[38;5;241m2\u001b[39m)\n",
      "\u001b[1;31mAttributeError\u001b[0m: 'list' object has no attribute 'reshape'"
     ]
    }
   ],
   "source": [
    "from scipy.optimize import minimize\n",
    "\n",
    "\n",
    "def loss(param):\n",
    "    C_1 = param[0]\n",
    "    C_2 = param[1]\n",
    "    alpha = param[2]\n",
    "    return np.mean((L2_trained_losses.reshape(-1) - C_1 - C_2 * all_data ** (alpha) )**2)\n",
    "\n",
    "method = 'BFGS'\n",
    "result = minimize(loss, x0=[0,0,0], method = method)\n",
    "print(result)\n",
    "\n",
    "b_l2, w_l2, alpha_l2 =  result.x"
   ]
  }
 ],
 "metadata": {
  "kernelspec": {
   "display_name": "Python 3 (ipykernel)",
   "language": "python",
   "name": "python3"
  },
  "language_info": {
   "codemirror_mode": {
    "name": "ipython",
    "version": 3
   },
   "file_extension": ".py",
   "mimetype": "text/x-python",
   "name": "python",
   "nbconvert_exporter": "python",
   "pygments_lexer": "ipython3",
   "version": "3.10.11"
  }
 },
 "nbformat": 4,
 "nbformat_minor": 5
}
